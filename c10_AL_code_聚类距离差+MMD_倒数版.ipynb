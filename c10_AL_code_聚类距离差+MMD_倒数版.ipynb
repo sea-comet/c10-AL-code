{
  "nbformat": 4,
  "nbformat_minor": 5,
  "metadata": {
    "accelerator": "GPU",
    "colab": {
      "name": "c10_AL_code_聚类距离差+MMD 最新版.ipynb",
      "provenance": [],
      "collapsed_sections": [],
      "toc_visible": true
    },
    "kernelspec": {
      "display_name": "Python 3",
      "language": "python",
      "name": "python3"
    },
    "language_info": {
      "codemirror_mode": {
        "name": "ipython",
        "version": 3
      },
      "file_extension": ".py",
      "mimetype": "text/x-python",
      "name": "python",
      "nbconvert_exporter": "python",
      "pygments_lexer": "ipython3",
      "version": "3.8.5"
    },
    "toc": {
      "base_numbering": 1,
      "nav_menu": {},
      "number_sections": true,
      "sideBar": true,
      "skip_h1_title": false,
      "title_cell": "Table of Contents",
      "title_sidebar": "Contents",
      "toc_cell": false,
      "toc_position": {},
      "toc_section_display": true,
      "toc_window_display": false
    }
  },
  "cells": [
    {
      "cell_type": "code",
      "metadata": {
        "colab": {
          "base_uri": "https://localhost:8080/",
          "height": 120
        },
        "id": "7Ih0CfNODItq",
        "outputId": "b06927e4-7397-4a4e-c5f6-f57e77339856"
      },
      "source": [
        "'''\n",
        "!apt-get install -y -qq software-properties-common python-software-properties module-init-tools\n",
        "!add-apt-repository -y ppa:alessandro-strada/ppa 2>&1 > /dev/null\n",
        "!apt-get update -qq 2>&1 > /dev/null\n",
        "!apt-get -y install -qq google-drive-ocamlfuse fuse\n",
        "from google.colab import auth\n",
        "auth.authenticate_user()\n",
        "from oauth2client.client import GoogleCredentials\n",
        "creds = GoogleCredentials.get_application_default()\n",
        "import getpass\n",
        "!google-drive-ocamlfuse -headless -id={creds.client_id} -secret={creds.client_secret} < /dev/null 2>&1 | grep URL\n",
        "vcode = getpass.getpass()\n",
        "!echo {vcode} | google-drive-ocamlfuse -headless -id={creds.client_id} -secret={creds.client_secret}\n",
        "\n",
        "'''"
      ],
      "id": "7Ih0CfNODItq",
      "execution_count": 58,
      "outputs": [
        {
          "output_type": "execute_result",
          "data": {
            "application/vnd.google.colaboratory.intrinsic+json": {
              "type": "string"
            },
            "text/plain": [
              "'\\n!apt-get install -y -qq software-properties-common python-software-properties module-init-tools\\n!add-apt-repository -y ppa:alessandro-strada/ppa 2>&1 > /dev/null\\n!apt-get update -qq 2>&1 > /dev/null\\n!apt-get -y install -qq google-drive-ocamlfuse fuse\\nfrom google.colab import auth\\nauth.authenticate_user()\\nfrom oauth2client.client import GoogleCredentials\\ncreds = GoogleCredentials.get_application_default()\\nimport getpass\\n!google-drive-ocamlfuse -headless -id={creds.client_id} -secret={creds.client_secret} < /dev/null 2>&1 | grep URL\\nvcode = getpass.getpass()\\n!echo {vcode} | google-drive-ocamlfuse -headless -id={creds.client_id} -secret={creds.client_secret}\\n\\n'"
            ]
          },
          "metadata": {
            "tags": []
          },
          "execution_count": 58
        }
      ]
    },
    {
      "cell_type": "code",
      "metadata": {
        "colab": {
          "base_uri": "https://localhost:8080/",
          "height": 35
        },
        "id": "08eGFWBxDb6J",
        "outputId": "488c6bb8-6270-4b32-b29e-92d69d856e62"
      },
      "source": [
        "'''\n",
        "!mkdir -p drive\n",
        "!google-drive-ocamlfuse drive\n",
        "'''"
      ],
      "id": "08eGFWBxDb6J",
      "execution_count": 59,
      "outputs": [
        {
          "output_type": "execute_result",
          "data": {
            "application/vnd.google.colaboratory.intrinsic+json": {
              "type": "string"
            },
            "text/plain": [
              "'\\n!mkdir -p drive\\n!google-drive-ocamlfuse drive\\n'"
            ]
          },
          "metadata": {
            "tags": []
          },
          "execution_count": 59
        }
      ]
    },
    {
      "cell_type": "code",
      "metadata": {
        "colab": {
          "base_uri": "https://localhost:8080/",
          "height": 35
        },
        "id": "7FPYsuGcD9l7",
        "outputId": "54dbac7d-70f6-4258-9aab-90a57ff55923"
      },
      "source": [
        "'''\n",
        "from google.colab import drive\n",
        "drive.mount('/content/drive')\n",
        "'''"
      ],
      "id": "7FPYsuGcD9l7",
      "execution_count": 60,
      "outputs": [
        {
          "output_type": "execute_result",
          "data": {
            "application/vnd.google.colaboratory.intrinsic+json": {
              "type": "string"
            },
            "text/plain": [
              "\"\\nfrom google.colab import drive\\ndrive.mount('/content/drive')\\n\""
            ]
          },
          "metadata": {
            "tags": []
          },
          "execution_count": 60
        }
      ]
    },
    {
      "cell_type": "code",
      "metadata": {
        "colab": {
          "base_uri": "https://localhost:8080/",
          "height": 35
        },
        "id": "7wFhHPc5RKif",
        "outputId": "8cdc4aa4-ded3-4ce2-f17f-3f38cdb7d09f"
      },
      "source": [
        "'''\n",
        "!pip install torchvision\n",
        "'''"
      ],
      "id": "7wFhHPc5RKif",
      "execution_count": 61,
      "outputs": [
        {
          "output_type": "execute_result",
          "data": {
            "application/vnd.google.colaboratory.intrinsic+json": {
              "type": "string"
            },
            "text/plain": [
              "'\\n!pip install torchvision\\n'"
            ]
          },
          "metadata": {
            "tags": []
          },
          "execution_count": 61
        }
      ]
    },
    {
      "cell_type": "code",
      "metadata": {
        "colab": {
          "base_uri": "https://localhost:8080/"
        },
        "id": "tFsQizA6kUmx",
        "outputId": "26f5961d-bc70-4028-bdf0-aa79c08b5206"
      },
      "source": [
        "!nvidia-smi"
      ],
      "id": "tFsQizA6kUmx",
      "execution_count": 62,
      "outputs": [
        {
          "output_type": "stream",
          "text": [
            "Fri Aug 13 12:51:18 2021       \n",
            "+-----------------------------------------------------------------------------+\n",
            "| NVIDIA-SMI 470.42.01    Driver Version: 460.32.03    CUDA Version: 11.2     |\n",
            "|-------------------------------+----------------------+----------------------+\n",
            "| GPU  Name        Persistence-M| Bus-Id        Disp.A | Volatile Uncorr. ECC |\n",
            "| Fan  Temp  Perf  Pwr:Usage/Cap|         Memory-Usage | GPU-Util  Compute M. |\n",
            "|                               |                      |               MIG M. |\n",
            "|===============================+======================+======================|\n",
            "|   0  Tesla P100-PCIE...  Off  | 00000000:00:04.0 Off |                    0 |\n",
            "| N/A   40C    P0    34W / 250W |   2805MiB / 16280MiB |      0%      Default |\n",
            "|                               |                      |                  N/A |\n",
            "+-------------------------------+----------------------+----------------------+\n",
            "                                                                               \n",
            "+-----------------------------------------------------------------------------+\n",
            "| Processes:                                                                  |\n",
            "|  GPU   GI   CI        PID   Type   Process name                  GPU Memory |\n",
            "|        ID   ID                                                   Usage      |\n",
            "|=============================================================================|\n",
            "|  No running processes found                                                 |\n",
            "+-----------------------------------------------------------------------------+\n"
          ],
          "name": "stdout"
        }
      ]
    },
    {
      "cell_type": "code",
      "metadata": {
        "id": "qPZGxjcmWiOG"
      },
      "source": [
        "#!pip install mxnet-cu112 # 没用着呢\n",
        "#!pip install minpy"
      ],
      "id": "qPZGxjcmWiOG",
      "execution_count": 63,
      "outputs": []
    },
    {
      "cell_type": "code",
      "metadata": {
        "colab": {
          "base_uri": "https://localhost:8080/"
        },
        "id": "smjt0fCkRKzZ",
        "outputId": "5c2475f0-a186-4403-fa71-78bb89ac881d"
      },
      "source": [
        "import torch \n",
        "x = torch.empty(5,3)\n",
        "print(x)"
      ],
      "id": "smjt0fCkRKzZ",
      "execution_count": 64,
      "outputs": [
        {
          "output_type": "stream",
          "text": [
            "tensor([[-3.4530e+30,  3.0820e-41,  0.0000e+00],\n",
            "        [ 0.0000e+00,  1.4013e-45,  0.0000e+00],\n",
            "        [-1.6330e+28,  3.0820e-41,  0.0000e+00],\n",
            "        [ 0.0000e+00, -2.6008e-18,  4.5705e-41],\n",
            "        [ 0.0000e+00,  0.0000e+00, -3.2537e-35]])\n"
          ],
          "name": "stdout"
        }
      ]
    },
    {
      "cell_type": "markdown",
      "metadata": {
        "id": "6694aee5"
      },
      "source": [
        "# main.py 前面import"
      ],
      "id": "6694aee5"
    },
    {
      "cell_type": "code",
      "metadata": {
        "id": "9914fdc7"
      },
      "source": [
        "# -*- coding: UTF-8 -*-\n",
        "# Python\n",
        "import os\n",
        "import random\n",
        "\n",
        "# Torch\n",
        "import torch\n",
        "import numpy as np  #注意这里可以改用Gpu的Numpy\n",
        "import torch.nn as nn\n",
        "import torch.optim as optim\n",
        "from numpy.core._multiarray_umath import ndarray\n",
        "from sklearn.cluster import KMeans\n",
        "from torch.utils.data import DataLoader\n",
        "import torch.optim.lr_scheduler as lr_scheduler\n",
        "from torch.utils.data.sampler import SubsetRandomSampler\n",
        "import torch.nn.functional as F\n",
        "from torch.autograd import Variable\n",
        "from torch.distributions import Categorical\n",
        "\n",
        "# Torchvison\n",
        "import torchvision.transforms as T\n",
        "import torchvision.models as models\n",
        "from torchvision.datasets import CIFAR100, CIFAR10\n",
        "# from influence import *\n",
        "\n",
        "# Utils\n",
        "# import visdom\n",
        "# from tqdm import tqdm\n",
        "\n",
        "# Custom\n",
        "#import models.resnet as resnet\n",
        "#from config import *\n",
        "#from data.sampler import SubsetSequentialSampler\n",
        "\n",
        "# import copy\n",
        "\n",
        "#os.environ[\"CUDA_DEVICE_ORDER\"] = \"PCI_BUS_ID\"\n",
        "#os.environ[\"CUDA_VISIBLE_DEVICES\"] = \"0\"\n"
      ],
      "id": "9914fdc7",
      "execution_count": 65,
      "outputs": []
    },
    {
      "cell_type": "markdown",
      "metadata": {
        "id": "fbe61243"
      },
      "source": [
        "# config.py"
      ],
      "id": "fbe61243"
    },
    {
      "cell_type": "code",
      "metadata": {
        "colab": {
          "base_uri": "https://localhost:8080/",
          "height": 69
        },
        "id": "d29a58de",
        "outputId": "e2703398-3961-4e49-b410-b3cf9d6c50f0"
      },
      "source": [
        "##\n",
        "# Learning Loss for Active Learning\n",
        "\n",
        "# Config\n",
        "NUM_TRAIN = 50000 # N 训练集数据个数\n",
        "NUM_VAL   = 50000 - NUM_TRAIN\n",
        "BATCH     = 128  # 128 # 每个dataloader的图片个数\n",
        "SUBSET    = 25000 # M  # 每次在未标签的数据集中选来聚类的图片个数\n",
        "ADDENDUM  = 2500  # K  # 每个cycle新加入的不确定度最大的图片个数\n",
        "\n",
        "MARGIN = 1.0  # xi\n",
        "WEIGHT = 1.0  # 1.0 # lambda\n",
        "\n",
        "TRIALS = 1 #尝试 一次\n",
        "CYCLES = 7  #迭代数\n",
        "\n",
        "EPOCH = 200   #神经网络训练轮数\n",
        "LR = 0.1    # 0.1 for SGD # 初始学习速率\n",
        "MILESTONES = [160] \n",
        "EPOCHL = 120 # \n",
        "\n",
        "MOMENTUM = 0.9 # optimizer优化器参数之一\n",
        "WDECAY = 5e-4 # optimizer优化器参数之一\n",
        "\n",
        "CLUSTER_NUMS = 10 # Kmeans 选取的K值\n",
        "CLUSTER_MAX_ITER = 10000 #聚类最大迭代次数\n",
        "\n",
        "\n",
        "''' CIFAR-10 | ResNet-18 | 93.6%\n",
        "NUM_TRAIN = 50000 # N\n",
        "NUM_VAL   = 50000 - NUM_TRAIN\n",
        "BATCH     = 128 # B\n",
        "SUBSET    = NUM_TRAIN # M\n",
        "ADDENDUM  = NUM_TRAIN # K\n",
        "\n",
        "MARGIN = 1.0 # xi\n",
        "WEIGHT = 0.0 # lambda\n",
        "\n",
        "TRIALS = 1\n",
        "CYCLES = 1\n",
        "\n",
        "EPOCH = 50\n",
        "LR = 0.1\n",
        "MILESTONES = [25, 35]\n",
        "EPOCHL = 40\n",
        "\n",
        "MOMENTUM = 0.9\n",
        "WDECAY = 5e-4\n",
        "'''\n"
      ],
      "id": "d29a58de",
      "execution_count": 66,
      "outputs": [
        {
          "output_type": "execute_result",
          "data": {
            "application/vnd.google.colaboratory.intrinsic+json": {
              "type": "string"
            },
            "text/plain": [
              "' CIFAR-10 | ResNet-18 | 93.6%\\nNUM_TRAIN = 50000 # N\\nNUM_VAL   = 50000 - NUM_TRAIN\\nBATCH     = 128 # B\\nSUBSET    = NUM_TRAIN # M\\nADDENDUM  = NUM_TRAIN # K\\n\\nMARGIN = 1.0 # xi\\nWEIGHT = 0.0 # lambda\\n\\nTRIALS = 1\\nCYCLES = 1\\n\\nEPOCH = 50\\nLR = 0.1\\nMILESTONES = [25, 35]\\nEPOCHL = 40\\n\\nMOMENTUM = 0.9\\nWDECAY = 5e-4\\n'"
            ]
          },
          "metadata": {
            "tags": []
          },
          "execution_count": 66
        }
      ]
    },
    {
      "cell_type": "markdown",
      "metadata": {
        "id": "12149227"
      },
      "source": [
        "# device设置成cuda或GPU "
      ],
      "id": "12149227"
    },
    {
      "cell_type": "code",
      "metadata": {
        "colab": {
          "base_uri": "https://localhost:8080/"
        },
        "id": "ed3207d4",
        "outputId": "994280e0-219b-406f-c55e-d706ae69807c"
      },
      "source": [
        "#\n",
        "# 加一个device\n",
        "device = torch.device(\"cuda:0\" if torch.cuda.is_available() else \"cpu\")\n",
        "print(torch.cuda.is_available())"
      ],
      "id": "ed3207d4",
      "execution_count": 67,
      "outputs": [
        {
          "output_type": "stream",
          "text": [
            "True\n"
          ],
          "name": "stdout"
        }
      ]
    },
    {
      "cell_type": "markdown",
      "metadata": {
        "id": "ad37c670"
      },
      "source": [
        "# sampler.py"
      ],
      "id": "ad37c670"
    },
    {
      "cell_type": "code",
      "metadata": {
        "id": "8fd8a205"
      },
      "source": [
        "class SubsetSequentialSampler(torch.utils.data.Sampler):\n",
        "    r\"\"\"Samples elements sequentially from a given list of indices, without replacement.\n",
        "\n",
        "    Arguments:\n",
        "        indices (sequence): a sequence of indices\n",
        "    \"\"\"\n",
        "\n",
        "    def __init__(self, indices):\n",
        "        self.indices = indices\n",
        "\n",
        "    def __iter__(self):\n",
        "        return (self.indices[i] for i in range(len(self.indices)))\n",
        "\n",
        "    def __len__(self):\n",
        "        return len(self.indices)\n"
      ],
      "id": "8fd8a205",
      "execution_count": 68,
      "outputs": []
    },
    {
      "cell_type": "markdown",
      "metadata": {
        "id": "08c18965"
      },
      "source": [
        "\n",
        "# main.py 里面的data"
      ],
      "id": "08c18965"
    },
    {
      "cell_type": "code",
      "metadata": {
        "colab": {
          "base_uri": "https://localhost:8080/"
        },
        "id": "cdbe408f",
        "outputId": "e52aa96c-07a0-4770-a68e-605d6dcd3e64"
      },
      "source": [
        "##\n",
        "# Data\n",
        "train_transform = T.Compose([\n",
        "    T.RandomHorizontalFlip(),\n",
        "    T.RandomCrop(size=32, padding=4),\n",
        "    T.ToTensor(),\n",
        "    T.Normalize([0.4914, 0.4822, 0.4465], [0.2023, 0.1994, 0.2010])\n",
        "])\n",
        "\n",
        "test_transform = T.Compose([\n",
        "    T.ToTensor(),\n",
        "    T.Normalize([0.4914, 0.4822, 0.4465], [0.2023, 0.1994, 0.2010])\n",
        "])\n",
        "\n",
        "cifar10_train = CIFAR10('../cifar10', train=True, download=True, transform=train_transform)  # specify data path here\n",
        "cifar10_unlabeled = CIFAR10('../cifar10', train=True, download=True, transform=test_transform)\n",
        "cifar10_test = CIFAR10('../cifar10', train=False, download=True, transform=test_transform)\n",
        "\n",
        "##\n",
        "# Train Utils\n",
        "iters = 0\n"
      ],
      "id": "cdbe408f",
      "execution_count": 69,
      "outputs": [
        {
          "output_type": "stream",
          "text": [
            "Files already downloaded and verified\n",
            "Files already downloaded and verified\n",
            "Files already downloaded and verified\n"
          ],
          "name": "stdout"
        }
      ]
    },
    {
      "cell_type": "markdown",
      "metadata": {
        "id": "91114054"
      },
      "source": [
        "# resnet.py"
      ],
      "id": "91114054"
    },
    {
      "cell_type": "code",
      "metadata": {
        "id": "36b3fb7f"
      },
      "source": [
        "#import torch\n",
        "#import torch.nn as nn\n",
        "#import torch.nn.functional as F\n",
        "\n",
        "\n",
        "class BasicBlock(nn.Module):\n",
        "    expansion = 1\n",
        "\n",
        "    def __init__(self, in_planes, planes, stride=1):\n",
        "        super(BasicBlock, self).__init__()\n",
        "        self.conv1 = nn.Conv2d(in_planes, planes, kernel_size=3, stride=stride, padding=1, bias=False)\n",
        "        self.bn1 = nn.BatchNorm2d(planes)\n",
        "        self.conv2 = nn.Conv2d(planes, planes, kernel_size=3, stride=1, padding=1, bias=False)\n",
        "        self.bn2 = nn.BatchNorm2d(planes)\n",
        "\n",
        "        self.shortcut = nn.Sequential()\n",
        "        if stride != 1 or in_planes != self.expansion*planes:\n",
        "            self.shortcut = nn.Sequential(\n",
        "                nn.Conv2d(in_planes, self.expansion*planes, kernel_size=1, stride=stride, bias=False),\n",
        "                nn.BatchNorm2d(self.expansion*planes)\n",
        "            )\n",
        "\n",
        "    def forward(self, x):\n",
        "        out = F.relu(self.bn1(self.conv1(x)))\n",
        "        out = self.bn2(self.conv2(out))\n",
        "        out += self.shortcut(x)\n",
        "        out = F.relu(out)\n",
        "        return out\n",
        "\n",
        "\n",
        "class Bottleneck(nn.Module):\n",
        "    expansion = 4\n",
        "\n",
        "    def __init__(self, in_planes, planes, stride=1):\n",
        "        super(Bottleneck, self).__init__()\n",
        "        self.conv1 = nn.Conv2d(in_planes, planes, kernel_size=1, bias=False)\n",
        "        self.bn1 = nn.BatchNorm2d(planes)\n",
        "        self.conv2 = nn.Conv2d(planes, planes, kernel_size=3, stride=stride, padding=1, bias=False)\n",
        "        self.bn2 = nn.BatchNorm2d(planes)\n",
        "        self.conv3 = nn.Conv2d(planes, self.expansion*planes, kernel_size=1, bias=False)\n",
        "        self.bn3 = nn.BatchNorm2d(self.expansion*planes)\n",
        "\n",
        "        self.shortcut = nn.Sequential()\n",
        "        if stride != 1 or in_planes != self.expansion*planes:\n",
        "            self.shortcut = nn.Sequential(\n",
        "                nn.Conv2d(in_planes, self.expansion*planes, kernel_size=1, stride=stride, bias=False),\n",
        "                nn.BatchNorm2d(self.expansion*planes)\n",
        "            )\n",
        "\n",
        "    def forward(self, x):\n",
        "        out = F.relu(self.bn1(self.conv1(x)))\n",
        "        out = F.relu(self.bn2(self.conv2(out)))\n",
        "        out = self.bn3(self.conv3(out))\n",
        "        out += self.shortcut(x)\n",
        "        out = F.relu(out)\n",
        "        return out\n",
        "\n",
        "\n",
        "class ResNet(nn.Module):\n",
        "    def __init__(self, block, num_blocks, num_classes=10):\n",
        "        super(ResNet, self).__init__()\n",
        "        self.in_planes = 64\n",
        "\n",
        "        self.conv1 = nn.Conv2d(3, 64, kernel_size=3, stride=1, padding=1, bias=False)\n",
        "        self.bn1 = nn.BatchNorm2d(64)\n",
        "        self.layer1 = self._make_layer(block, 64, num_blocks[0], stride=1)\n",
        "        self.layer2 = self._make_layer(block, 128, num_blocks[1], stride=2)\n",
        "        self.layer3 = self._make_layer(block, 256, num_blocks[2], stride=2)\n",
        "        self.layer4 = self._make_layer(block, 512, num_blocks[3], stride=2)\n",
        "        self.linear = nn.Linear(512*block.expansion, num_classes)\n",
        "        self.linear1 = nn.Linear(512*block.expansion, num_classes)\n",
        "\n",
        "    def _make_layer(self, block, planes, num_blocks, stride):\n",
        "        strides = [stride] + [1]*(num_blocks-1)\n",
        "        layers = []\n",
        "        for stride in strides:\n",
        "            layers.append(block(self.in_planes, planes, stride))\n",
        "            self.in_planes = planes * block.expansion\n",
        "        return nn.Sequential(*layers)\n",
        "\n",
        "    def forward(self, x):\n",
        "        out = F.relu(self.bn1(self.conv1(x)))\n",
        "        out1 = self.layer1(out)\n",
        "        out2 = self.layer2(out1)\n",
        "        out3 = self.layer3(out2)\n",
        "        out4 = self.layer4(out3)\n",
        "        out5 = F.avg_pool2d(out4, 4)\n",
        "        out5 = out5.view(out5.size(0), -1)     # [128, 512]\n",
        "        out = self.linear(out5)\n",
        "        out_cons = self.linear1(out5)\n",
        "\n",
        "        return out, out_cons, out5, [out1, out2, out3, out4]\n",
        "\n",
        "\n",
        "def ResNet18():\n",
        "    return ResNet(BasicBlock, [2,2,2,2])\n",
        "\n",
        "def ResNet18_student():\n",
        "    return ResNet(BasicBlock, [1,1,1,1])\n",
        "\n",
        "def ResNet34():\n",
        "    return ResNet(BasicBlock, [3,4,6,3])\n",
        "\n",
        "def ResNet50():\n",
        "    return ResNet(Bottleneck, [3,4,6,3])\n",
        "\n",
        "def ResNet101():\n",
        "    return ResNet(Bottleneck, [3,4,23,3])\n",
        "\n",
        "def ResNet152():\n",
        "    return ResNet(Bottleneck, [3,8,36,3])\n",
        "\n"
      ],
      "id": "36b3fb7f",
      "execution_count": 70,
      "outputs": []
    },
    {
      "cell_type": "markdown",
      "metadata": {
        "id": "280a2c17"
      },
      "source": [
        "# main.py 里面的train_epoch函数"
      ],
      "id": "280a2c17"
    },
    {
      "cell_type": "code",
      "metadata": {
        "id": "5e52d13f"
      },
      "source": [
        "#\n",
        "def train_epoch(models, criterion, optimizers, dataloaders, epoch, epoch_loss):\n",
        "    models['backbone'].train()\n",
        "    global iters\n",
        "\n",
        "    for data in dataloaders['train']:\n",
        "        #inputs = data[0].cuda()这是pycharm原来的\n",
        "        inputs = data[0].to(device)\n",
        "        #labels = data[1].cuda()这是pycharm原来的\n",
        "        labels = data[1].to(device)\n",
        "        iters += 1\n",
        "\n",
        "        optimizers['backbone'].zero_grad()\n",
        "\n",
        "        scores, _, _, features_list = models['backbone'](inputs)\n",
        "        target_loss = criterion(scores, labels)\n",
        "\n",
        "        m_backbone_loss = torch.sum(target_loss) / target_loss.size(0)\n",
        "        loss = m_backbone_loss\n",
        "        loss.backward()\n",
        "        optimizers['backbone'].step()\n"
      ],
      "id": "5e52d13f",
      "execution_count": 71,
      "outputs": []
    },
    {
      "cell_type": "markdown",
      "metadata": {
        "id": "8427241c"
      },
      "source": [
        "# main.py 里面的test函数"
      ],
      "id": "8427241c"
    },
    {
      "cell_type": "code",
      "metadata": {
        "id": "e0a4bf72"
      },
      "source": [
        "#\n",
        "def test(models, dataloaders, mode='val'):\n",
        "    assert mode == 'val' or mode == 'test'\n",
        "    models['backbone'].eval()\n",
        "\n",
        "    total = 0\n",
        "    correct = 0\n",
        "    with torch.no_grad():\n",
        "        for (inputs, labels) in dataloaders[mode]:\n",
        "            #inputs = inputs.cuda()这才是prcharm原来的\n",
        "            inputs = inputs.to(device)\n",
        "            #labels = labels.cuda()这才是prcharm原来的\n",
        "            labels = labels.to(device)\n",
        "            scores, _, _, _ = models['backbone'](inputs)\n",
        "            _, preds = torch.max(scores.data, 1)\n",
        "            total += labels.size(0)\n",
        "            correct += (preds == labels).sum().item()\n",
        "\n",
        "    return 100 * correct / total"
      ],
      "id": "e0a4bf72",
      "execution_count": 72,
      "outputs": []
    },
    {
      "cell_type": "markdown",
      "metadata": {
        "id": "c901cd5a"
      },
      "source": [
        "# main.py里面的train函数"
      ],
      "id": "c901cd5a"
    },
    {
      "cell_type": "code",
      "metadata": {
        "id": "e1e24b49"
      },
      "source": [
        "#\n",
        "def train(models, criterion, optimizers, schedulers, dataloaders, num_epochs, epoch_loss, cycle):\n",
        "    print('>> Train a Model...')\n",
        "    best_acc = 0.\n",
        "    checkpoint_dir = os.path.join('./cifar10', 'train', 'weights')\n",
        "    if not os.path.exists(checkpoint_dir):\n",
        "        os.makedirs(checkpoint_dir)\n",
        "\n",
        "    for epoch in range(num_epochs):\n",
        "\n",
        "        train_epoch(models, criterion, optimizers, dataloaders, epoch, epoch_loss)\n",
        "        schedulers['backbone'].step()\n",
        "\n",
        "        # Save a checkpoint\n",
        "        if epoch % 20 == 0 or epoch == EPOCH - 1:\n",
        "            acc = test(models, dataloaders, 'test')\n",
        "            if best_acc < acc:\n",
        "                best_acc = acc\n",
        "                torch.save({\n",
        "                    'epoch': epoch + 1,\n",
        "                    'state_dict_backbone': models['backbone'].state_dict()\n",
        "                    # 'state_dict_module': models['module'].state_dict()\n",
        "                },\n",
        "                    '%s/active_resnet18_cifar10.pth' % (checkpoint_dir))\n",
        "            print('Cycle:', cycle + 1, 'Epoch:', epoch + 1, \"---\", 'Val Acc: {:.3f} \\t Best Acc: {:.3f}'.format(acc, best_acc),flush=True)\n",
        "            \n",
        "    print('>> Finished.')\n"
      ],
      "id": "e1e24b49",
      "execution_count": 73,
      "outputs": []
    },
    {
      "cell_type": "markdown",
      "metadata": {
        "id": "0CBSPU9d5QhN"
      },
      "source": [
        "# MMD"
      ],
      "id": "0CBSPU9d5QhN"
    },
    {
      "cell_type": "code",
      "metadata": {
        "colab": {
          "base_uri": "https://localhost:8080/",
          "height": 103
        },
        "id": "ffN4JfKo5MT5",
        "outputId": "3d51d49f-e72d-4bd4-9d8d-c84bd3a9f9a2"
      },
      "source": [
        "def guassian_kernel(source, target, kernel_mul=2.0, kernel_num=5, fix_sigma=None):\n",
        "    \"\"\"计算Gram核矩阵\n",
        "    source: sample_size_1 * feature_size 的数据\n",
        "    target: sample_size_2 * feature_size 的数据\n",
        "    kernel_mul: 这个概念不太清楚，感觉也是为了计算每个核的bandwith\n",
        "    kernel_num: 表示的是多核的数量\n",
        "    fix_sigma: 表示是否使用固定的标准差\n",
        "        return: (sample_size_1 + sample_size_2) * (sample_size_1 + sample_size_2)的\n",
        "                        矩阵，表达形式:\n",
        "                        [   K_ss K_st\n",
        "                            K_ts K_tt ]\n",
        "    \"\"\"\n",
        "    n_samples = int(source.size()[0])+int(target.size()[0])\n",
        "    total = torch.cat([source, target], dim=0) # 合并在一起\n",
        "\n",
        "    total0 = total.unsqueeze(0).expand(int(total.size(0)), \\\n",
        "                                       int(total.size(0)), \\\n",
        "                                       int(total.size(1)))\n",
        "    total1 = total.unsqueeze(1).expand(int(total.size(0)), \\\n",
        "                                       int(total.size(0)), \\\n",
        "                                       int(total.size(1)))\n",
        "    L2_distance = ((total0-total1)**2).sum(2) # 计算高斯核中的|x-y|\n",
        "\n",
        "    # 计算多核中每个核的bandwidth\n",
        "    if fix_sigma:\n",
        "        bandwidth = fix_sigma\n",
        "    else:\n",
        "        bandwidth = torch.sum(L2_distance.data) / (n_samples**2-n_samples)\n",
        "    bandwidth /= kernel_mul ** (kernel_num // 2)\n",
        "    bandwidth_list = [bandwidth * (kernel_mul**i) for i in range(kernel_num)]\n",
        "\n",
        "    # 高斯核的公式，exp(-|x-y|/bandwith)\n",
        "    kernel_val = [torch.exp(-L2_distance / bandwidth_temp) for \\\n",
        "                  bandwidth_temp in bandwidth_list]\n",
        "\n",
        "    return sum(kernel_val) # 将多个核合并在一起\n",
        "\n",
        "def MMD(source, target, kernel_mul=2.0, kernel_num=5, fix_sigma=None):\n",
        "    n = int(source.size()[0])\n",
        "    m = int(target.size()[0])\n",
        "\n",
        "    kernels = guassian_kernel(source, target,\n",
        "                              kernel_mul=kernel_mul, kernel_num=kernel_num, fix_sigma=fix_sigma)\n",
        "    XX = kernels[:n, :n] \n",
        "    YY = kernels[n:, n:]\n",
        "    XY = kernels[:n, n:]\n",
        "    YX = kernels[n:, :n]\n",
        "\n",
        "    XX = torch.div(XX, n * n).sum(dim=1).view(1,-1)  # K_ss矩阵，Source<->Source\n",
        "    XY = torch.div(XY, -n * m).sum(dim=1).view(1,-1) # K_st矩阵，Source<->Target\n",
        "\n",
        "    YX = torch.div(YX, -m * n).sum(dim=1).view(1,-1) # K_ts矩阵,Target<->Source\n",
        "    YY = torch.div(YY, m * m).sum(dim=1).view(1,-1)  # K_tt矩阵,Target<->Target\n",
        "    \t\n",
        "    loss = (XX + XY).sum() + (YX + YY).sum()\n",
        "    return loss\n",
        "    \n",
        "'''\n",
        "if __name__ == \"__main__\":\n",
        "    # 样本数量可以不同，特征数目必须相同\n",
        "\n",
        "    # 100和90是样本数量，50是特征数目\n",
        "    data_1 = torch.tensor(np.random.normal(loc=0,scale=10,size=(100,50)))\n",
        "    data_2 = torch.tensor(np.random.normal(loc=10,scale=10,size=(90,50)))\n",
        "    print(\"MMD Loss:\",mmd(data_1,data_2))\n",
        "\n",
        "    data_1 = torch.tensor(np.random.normal(loc=0,scale=10,size=(100,50)))\n",
        "    data_2 = torch.tensor(np.random.normal(loc=0,scale=9,size=(80,50)))\n",
        "\n",
        "    print(\"MMD Loss:\",mmd(data_1,data_2))\n",
        "\n",
        "'''"
      ],
      "id": "ffN4JfKo5MT5",
      "execution_count": 74,
      "outputs": [
        {
          "output_type": "execute_result",
          "data": {
            "application/vnd.google.colaboratory.intrinsic+json": {
              "type": "string"
            },
            "text/plain": [
              "'\\nif __name__ == \"__main__\":\\n    # 样本数量可以不同，特征数目必须相同\\n\\n    # 100和90是样本数量，50是特征数目\\n    data_1 = torch.tensor(np.random.normal(loc=0,scale=10,size=(100,50)))\\n    data_2 = torch.tensor(np.random.normal(loc=10,scale=10,size=(90,50)))\\n    print(\"MMD Loss:\",mmd(data_1,data_2))\\n\\n    data_1 = torch.tensor(np.random.normal(loc=0,scale=10,size=(100,50)))\\n    data_2 = torch.tensor(np.random.normal(loc=0,scale=9,size=(80,50)))\\n\\n    print(\"MMD Loss:\",mmd(data_1,data_2))\\n\\n'"
            ]
          },
          "metadata": {
            "tags": []
          },
          "execution_count": 74
        }
      ]
    },
    {
      "cell_type": "markdown",
      "metadata": {
        "id": "71b264b6"
      },
      "source": [
        "# main.py里面的get_uncertainty函数"
      ],
      "id": "71b264b6"
    },
    {
      "cell_type": "code",
      "metadata": {
        "id": "bcc4b5fe"
      },
      "source": [
        "#\n",
        "def get_uncertainty(models, labeled_loader, unlabeled_loader):\n",
        "    models['backbone'].eval()\n",
        "    labeled_features = torch.tensor([]).to(device)\n",
        "    unlabeled_features = torch.tensor([]).to(device)\n",
        "    target_features = torch.tensor([]).to(device) #每个 batch 从 unlabeled_features里随机选择的200个feature\n",
        "    samples_chosen = torch.tensor([]) #最终选出的样本，所在位置会标为1，其余为0\n",
        "\n",
        "    with torch.no_grad():\n",
        "        print(\">> Start MMD:\")\n",
        "        \n",
        "        # 提取labeled_set里面已训练过数据的labeled_features, unlabeled_set里数据的feature来求uncertainty\n",
        "        for (inputs, labels) in labeled_loader:\n",
        "            inputs = inputs.to(device)\n",
        "            _, _, feature_1, _= models['backbone'](inputs)\n",
        "            # feature_1: [batch_size,512], 行:batch_size，即图片个数，512是feature个数\n",
        "            labeled_features = torch.cat((labeled_features, feature_1), axis = 0) \n",
        "            #labeled_features.cpu()  # labeled_features:　Ｔ\n",
        "\n",
        "        for (inputs, labels) in unlabeled_loader:\n",
        "            inputs = inputs.to(device)\n",
        "            _, _, feature_2, _ = models['backbone'](inputs)\n",
        "            # feature_2: [batch_size,512], 行:batch_size，即图片个数，512是feature个数\n",
        "            unlabeled_features = torch.cat((unlabeled_features, feature_2), axis = 0)\n",
        "            #unlabeled_features.cpu()\n",
        "        \n",
        "        \n",
        "        batch_num = 0\n",
        "        for (inputs, labels) in unlabeled_loader:\n",
        "            inputs = inputs.to(device)\n",
        "            _, _, batch_features, _ = models['backbone'](inputs)\n",
        "            \n",
        "            source_features = torch.tensor([]).to(device)\n",
        "            \n",
        "            #每个 batch 的 MMD分数和 uncertainty 分数 \n",
        "            MMD_batch_score = torch.tensor([])\n",
        "            uncertainty_score = torch.tensor([])\n",
        "            \n",
        "            batch_num = batch_num + 1\n",
        "            \n",
        "            #算 (T+ batch_features里的每一个single_feature) 与 target_features 的 MMD\n",
        "            for single_feature in batch_features:\n",
        "                #print(feature.shape)\n",
        "                #labeled_features.to(device)\n",
        "                #target_features.to(device)\n",
        "                five_MMD_loss = []\n",
        "                \n",
        "                for i in range(5):\n",
        "                    index_sampled_1 = random.sample(range(len(unlabeled_features)),200)\n",
        "                    #random.shuffle(unlabeled_features)\n",
        "                    target_features = unlabeled_features[index_sampled_1] #每个 batch 从 unlabeled_features里随机选择的200个feature\n",
        "                    #print(target_features)\n",
        "                    #random.shuffle(labeled_features)\n",
        "                    index_sampled_2 = random.sample(range(len(labeled_features)),200)\n",
        "                    T_features = labeled_features[index_sampled_2]\n",
        "                    source_features = torch.cat((T_features, single_feature.reshape(1,512).to(device)), axis = 0) \n",
        "                    MMD_gpu = MMD(source_features, target_features)\n",
        "                    MMD_loss = MMD_gpu.cpu()\n",
        "                    five_MMD_loss.append(MMD_loss)\n",
        "\n",
        "                MMD_batch_torch = torch.mean(torch.from_numpy(np.array(five_MMD_loss)))\n",
        "                MMD_batch_score = torch.cat((MMD_batch_score, MMD_batch_torch.reshape(1,1)), axis = 0)\n",
        "\n",
        "        \n",
        "            #把每个batch 的features 用聚类+距离差求uncertainty\n",
        "\n",
        "            input_x = np.array(batch_features.cpu())   \n",
        "            # input_x: shape: [BATCH_SIZE,512]\n",
        "            \n",
        "            line_num, column_num = input_x.shape  # line_num：样本数量，column_num：每个样本的属性值个数\n",
        "            \n",
        "            result = np.empty(line_num, dtype=np.int)  # line_num个样本的聚类结果\n",
        "            distance = np.empty((line_num, CLUSTER_NUMS), dtype=np.float32)  \n",
        "            \n",
        "            # 从line_num个数据样本中不重复地随机选择k个样本作为质心\n",
        "            cores = input_x[np.random.choice(np.arange(line_num), CLUSTER_NUMS, replace=False)]\n",
        "            min_distance_differ = np.empty((line_num, 1), dtype=np.float32)  \n",
        "            iter = 0\n",
        "            \n",
        "            while True:  # 迭代聚类计算,max=10000次，质心不变时break\n",
        "                iter = iter + 1\n",
        "                d = np.square(np.repeat(input_x, CLUSTER_NUMS, axis=0).reshape(line_num, CLUSTER_NUMS, column_num) \n",
        "                            - cores)\n",
        "                distance = np.sqrt(np.sum(d, axis=2))  # ndarray(line_num, k)，每个样本距离k个质心的距离，共有line_num行\n",
        "\n",
        "                index_min = np.argmin(distance, axis=1)  # 每个样本距离最近的质心索引序号 [line_num, 1]\n",
        "                if (index_min == result).all() or iter == CLUSTER_MAX_ITER:\n",
        "                    break;\n",
        "                    \n",
        "                result[:] = index_min  # 重新分类 [line_num, 1] 这些图片分别属于哪个cluster, index\n",
        "                for i in range(CLUSTER_NUMS):  # 遍历质心集\n",
        "                    if len(input_x[result == i]) != 0:\n",
        "                        items = input_x[result == i]  # 找出对应当前质心的子样本集\n",
        "                        cores[i] = np.mean(items, axis=0)  # 以子样本集的均值作为当前质心的位置\n",
        "\n",
        "            sorted_distance = np.sort(distance) # 将矩阵的每一行升序排列\n",
        "            \n",
        "            min_distance_differ = np.abs(sorted_distance[:, 0].reshape(line_num, 1)\n",
        "                                            - sorted_distance[:, 1].reshape(line_num, 1))\n",
        "            \n",
        "            min_distance_differ_torch = torch.from_numpy(min_distance_differ)\n",
        "            \n",
        "            uncertainty_score = 1.00 / min_distance_differ_torch\n",
        "            MMD_inverse_score = 0.100 / MMD_batch_score \n",
        "\n",
        "            total_batch_score = uncertainty_score + MMD_inverse_score   #每个batch各个样本的总分数\n",
        "            \n",
        "            #print(\"batch_num: \", batch_num)\n",
        "            #print(\"uncertainty_score: \",uncertainty_score.T)\n",
        "            #print(\"MMD_batch_score: \", MMD_inverse_score.T)\n",
        "            #print(\"total_batch_score: \", total_batch_score.T)\n",
        "\n",
        "            # 开始排序+选择\n",
        "            index_score = torch.zeros(line_num)\n",
        "            arg = np.argsort(total_batch_score.T).numpy().tolist()\n",
        "            \n",
        "            if batch_num == 196:\n",
        "                chosen_index = arg[0][-4:]\n",
        "            else:\n",
        "                chosen_index = arg[0][-13:]\n",
        "            \n",
        "            #print(\"arg: \", arg)\n",
        "            #print(\"chosen_index: \",chosen_index.T)\n",
        "            index_score[chosen_index] = 1\n",
        "            #print(\"index_score: \", index_score.T)\n",
        "            \n",
        "            samples_chosen = torch.cat((samples_chosen, index_score.reshape(line_num, 1)), axis = 0)\n",
        "                \n",
        "    print(\">> Clustering Over:\")\n",
        "    return samples_chosen.cpu()\n"
      ],
      "id": "bcc4b5fe",
      "execution_count": 75,
      "outputs": []
    },
    {
      "cell_type": "markdown",
      "metadata": {
        "id": "411a4edc"
      },
      "source": [
        "# main.py 里面的main函数"
      ],
      "id": "411a4edc"
    },
    {
      "cell_type": "code",
      "metadata": {
        "colab": {
          "base_uri": "https://localhost:8080/"
        },
        "id": "e7c84637",
        "outputId": "525f26b5-d9e5-499b-dd94-4d75d4b856fb"
      },
      "source": [
        "\n",
        "##\n",
        "# Main\n",
        "if __name__ == '__main__':\n",
        "\n",
        "    for trial in range(TRIALS):\n",
        "        # Initialize a labeled dataset by randomly sampling K=ADDENDUM=1,000 data points from the entire dataset.\n",
        "        indices = list(range(NUM_TRAIN))\n",
        "        random.shuffle(indices)\n",
        "        START = 2 * ADDENDUM\n",
        "        labeled_set = indices[:START]\n",
        "        unlabeled_set = indices[START:]\n",
        "\n",
        "        train_loader = DataLoader(cifar10_train, batch_size=BATCH,  # BATCH\n",
        "                                  sampler=SubsetRandomSampler(labeled_set),\n",
        "                                  pin_memory=True)\n",
        "        test_loader = DataLoader(cifar10_test, batch_size=BATCH)\n",
        "\n",
        "        dataloaders = {'train': train_loader, 'test': test_loader}\n",
        "\n",
        "        # Model\n",
        "        #backbone_net = resnet.ResNet18().cuda() #记住这才是原本pycharm里面的\n",
        "        backbone_net = ResNet18().to(device)\n",
        "        \n",
        "        models = {'backbone': backbone_net}\n",
        "        torch.backends.cudnn.benchmark = True\n",
        "\n",
        "        # Active learning cycles\n",
        "        for cycle in range(CYCLES):\n",
        "            # Loss, criterion and scheduler (re)initialization\n",
        "            criterion = nn.CrossEntropyLoss(reduction='none')\n",
        "\n",
        "            optim_backbone = optim.SGD(models['backbone'].parameters(), lr=LR, momentum=MOMENTUM, weight_decay=WDECAY)\n",
        "\n",
        "            sched_backbone = lr_scheduler.MultiStepLR(optim_backbone, milestones=MILESTONES)\n",
        "\n",
        "            optimizers = {'backbone': optim_backbone}\n",
        "            schedulers = {'backbone': sched_backbone}\n",
        "\n",
        "            # Training and test\n",
        "            train(models, criterion, optimizers, schedulers, dataloaders, EPOCH, EPOCHL, cycle)\n",
        "            acc = test(models, dataloaders, mode='test')\n",
        "            print('Trial {}/{} || Cycle {}/{} || Label set size {}: Test acc {}'.format(trial + 1, TRIALS, cycle + 1,\n",
        "                                                                                        CYCLES, len(labeled_set), acc),\n",
        "                                                                                         flush=True)\n",
        "\n",
        "            ##\n",
        "            #  Update the labeled dataset via loss prediction-based uncertainty measurement\n",
        "\n",
        "            # Randomly sample 10000 unlabeled data points\n",
        "            random.shuffle(unlabeled_set)\n",
        "            subset = unlabeled_set[:SUBSET]\n",
        "\n",
        "            labeled_loader = DataLoader(cifar10_unlabeled, batch_size=BATCH,\n",
        "                                          sampler=SubsetSequentialSampler(labeled_set),\n",
        "                                          pin_memory=True)\n",
        "\n",
        "            # Create unlabeled dataloader for the unlabeled subset\n",
        "            unlabeled_loader = DataLoader(cifar10_unlabeled, batch_size=BATCH,\n",
        "                                          sampler=SubsetSequentialSampler(subset),\n",
        "                                          # more convenient if we maintain the order of subset\n",
        "                                          pin_memory=True)\n",
        "\n",
        "            # Measure uncertainty of each data points in the subset\n",
        "            uncertainty = get_uncertainty(models, labeled_loader, unlabeled_loader)\n",
        "            #print(\"main uncertainty: \", uncertainty)\n",
        "            uncertainty = uncertainty.T\n",
        "            # Index in ascending order\n",
        "            arg = np.argsort(uncertainty).numpy().tolist()\n",
        "            #print(\"main arg: \", arg) \n",
        "            \n",
        "            # Update the labeled dataset and the unlabeled dataset, respectively\n",
        "            labeled_set += list(torch.tensor(subset)[arg][-ADDENDUM:].numpy())  # select largest loss\n",
        "            unlabeled_set = list(torch.tensor(subset)[arg][:-ADDENDUM].numpy()) + unlabeled_set[SUBSET:]\n",
        "\n",
        "            # labeled_set += list(torch.tensor(subset)[arg][:ADDENDUM].numpy())  # select smallest influence\n",
        "            # unlabeled_set = list(torch.tensor(subset)[arg][ADDENDUM:].numpy()) + unlabeled_set[SUBSET:]\n",
        "\n",
        "            # Create a new dataloader for the updated labeled dataset\n",
        "            dataloaders['train'] = DataLoader(cifar10_train, batch_size=BATCH,  # BATCH\n",
        "                                              sampler=SubsetRandomSampler(labeled_set),\n",
        "                                              pin_memory=True)\n",
        "\n",
        "        # Save a checkpoint\n",
        "        torch.save({\n",
        "            'trial': trial + 1,\n",
        "            'state_dict_backbone': models['backbone'].state_dict()\n",
        "            # 'state_dict_module': models['module'].state_dict()\n",
        "        },\n",
        "            './cifar10/train/weights/active_resnet18_cifar10_trial{}.pth'.format(trial))\n",
        "\n",
        "        print('---------------------------Current Trial is done-----------------------------',flush=True)\n"
      ],
      "id": "e7c84637",
      "execution_count": null,
      "outputs": [
        {
          "output_type": "stream",
          "text": [
            ">> Train a Model...\n",
            "Cycle: 1 Epoch: 1 --- Val Acc: 17.320 \t Best Acc: 17.320\n",
            "Cycle: 1 Epoch: 21 --- Val Acc: 45.990 \t Best Acc: 45.990\n",
            "Cycle: 1 Epoch: 41 --- Val Acc: 60.180 \t Best Acc: 60.180\n",
            "Cycle: 1 Epoch: 61 --- Val Acc: 60.440 \t Best Acc: 60.440\n",
            "Cycle: 1 Epoch: 81 --- Val Acc: 68.760 \t Best Acc: 68.760\n",
            "Cycle: 1 Epoch: 101 --- Val Acc: 69.480 \t Best Acc: 69.480\n",
            "Cycle: 1 Epoch: 121 --- Val Acc: 72.340 \t Best Acc: 72.340\n",
            "Cycle: 1 Epoch: 141 --- Val Acc: 72.340 \t Best Acc: 72.340\n",
            "Cycle: 1 Epoch: 161 --- Val Acc: 78.430 \t Best Acc: 78.430\n",
            "Cycle: 1 Epoch: 181 --- Val Acc: 80.480 \t Best Acc: 80.480\n",
            "Cycle: 1 Epoch: 200 --- Val Acc: 80.290 \t Best Acc: 80.480\n",
            ">> Finished.\n",
            "Trial 1/1 || Cycle 1/7 || Label set size 5000: Test acc 80.29\n",
            ">> Start MMD:\n",
            ">> Clustering Over:\n",
            ">> Train a Model...\n",
            "Cycle: 2 Epoch: 1 --- Val Acc: 77.140 \t Best Acc: 77.140\n",
            "Cycle: 2 Epoch: 21 --- Val Acc: 77.910 \t Best Acc: 77.910\n",
            "Cycle: 2 Epoch: 41 --- Val Acc: 76.780 \t Best Acc: 77.910\n",
            "Cycle: 2 Epoch: 61 --- Val Acc: 73.050 \t Best Acc: 77.910\n",
            "Cycle: 2 Epoch: 81 --- Val Acc: 78.680 \t Best Acc: 78.680\n",
            "Cycle: 2 Epoch: 101 --- Val Acc: 78.570 \t Best Acc: 78.680\n",
            "Cycle: 2 Epoch: 121 --- Val Acc: 78.160 \t Best Acc: 78.680\n",
            "Cycle: 2 Epoch: 141 --- Val Acc: 78.930 \t Best Acc: 78.930\n",
            "Cycle: 2 Epoch: 161 --- Val Acc: 84.900 \t Best Acc: 84.900\n",
            "Cycle: 2 Epoch: 181 --- Val Acc: 86.740 \t Best Acc: 86.740\n",
            "Cycle: 2 Epoch: 200 --- Val Acc: 86.980 \t Best Acc: 86.980\n",
            ">> Finished.\n",
            "Trial 1/1 || Cycle 2/7 || Label set size 7500: Test acc 86.98\n",
            ">> Start MMD:\n"
          ],
          "name": "stdout"
        }
      ]
    },
    {
      "cell_type": "code",
      "metadata": {
        "id": "e21adede"
      },
      "source": [
        ""
      ],
      "id": "e21adede",
      "execution_count": null,
      "outputs": []
    }
  ]
}