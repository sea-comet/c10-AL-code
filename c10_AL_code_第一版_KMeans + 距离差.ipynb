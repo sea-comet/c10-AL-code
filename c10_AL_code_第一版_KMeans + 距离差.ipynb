{
 "cells": [
  {
   "cell_type": "code",
   "execution_count": 1,
   "id": "7Ih0CfNODItq",
   "metadata": {
    "colab": {
     "base_uri": "https://localhost:8080/",
     "height": 120
    },
    "id": "7Ih0CfNODItq",
    "outputId": "a8cb1fed-1a93-4f0c-cd13-4fe959a17c3d"
   },
   "outputs": [
    {
     "data": {
      "application/vnd.google.colaboratory.intrinsic+json": {
       "type": "string"
      },
      "text/plain": [
       "'\\n!apt-get install -y -qq software-properties-common python-software-properties module-init-tools\\n!add-apt-repository -y ppa:alessandro-strada/ppa 2>&1 > /dev/null\\n!apt-get update -qq 2>&1 > /dev/null\\n!apt-get -y install -qq google-drive-ocamlfuse fuse\\nfrom google.colab import auth\\nauth.authenticate_user()\\nfrom oauth2client.client import GoogleCredentials\\ncreds = GoogleCredentials.get_application_default()\\nimport getpass\\n!google-drive-ocamlfuse -headless -id={creds.client_id} -secret={creds.client_secret} < /dev/null 2>&1 | grep URL\\nvcode = getpass.getpass()\\n!echo {vcode} | google-drive-ocamlfuse -headless -id={creds.client_id} -secret={creds.client_secret}\\n\\n'"
      ]
     },
     "execution_count": 1,
     "metadata": {
      "tags": []
     },
     "output_type": "execute_result"
    }
   ],
   "source": [
    "'''\n",
    "!apt-get install -y -qq software-properties-common python-software-properties module-init-tools\n",
    "!add-apt-repository -y ppa:alessandro-strada/ppa 2>&1 > /dev/null\n",
    "!apt-get update -qq 2>&1 > /dev/null\n",
    "!apt-get -y install -qq google-drive-ocamlfuse fuse\n",
    "from google.colab import auth\n",
    "auth.authenticate_user()\n",
    "from oauth2client.client import GoogleCredentials\n",
    "creds = GoogleCredentials.get_application_default()\n",
    "import getpass\n",
    "!google-drive-ocamlfuse -headless -id={creds.client_id} -secret={creds.client_secret} < /dev/null 2>&1 | grep URL\n",
    "vcode = getpass.getpass()\n",
    "!echo {vcode} | google-drive-ocamlfuse -headless -id={creds.client_id} -secret={creds.client_secret}\n",
    "\n",
    "'''"
   ]
  },
  {
   "cell_type": "code",
   "execution_count": 2,
   "id": "08eGFWBxDb6J",
   "metadata": {
    "colab": {
     "base_uri": "https://localhost:8080/",
     "height": 35
    },
    "id": "08eGFWBxDb6J",
    "outputId": "d4893989-86e3-4f2d-e842-bc90a6c746cb"
   },
   "outputs": [
    {
     "data": {
      "application/vnd.google.colaboratory.intrinsic+json": {
       "type": "string"
      },
      "text/plain": [
       "'\\n!mkdir -p drive\\n!google-drive-ocamlfuse drive\\n'"
      ]
     },
     "execution_count": 2,
     "metadata": {
      "tags": []
     },
     "output_type": "execute_result"
    }
   ],
   "source": [
    "'''\n",
    "!mkdir -p drive\n",
    "!google-drive-ocamlfuse drive\n",
    "'''"
   ]
  },
  {
   "cell_type": "code",
   "execution_count": 3,
   "id": "7FPYsuGcD9l7",
   "metadata": {
    "colab": {
     "base_uri": "https://localhost:8080/",
     "height": 35
    },
    "id": "7FPYsuGcD9l7",
    "outputId": "d93b68fd-7fef-42d4-9508-8c6d9a2adecb"
   },
   "outputs": [
    {
     "data": {
      "application/vnd.google.colaboratory.intrinsic+json": {
       "type": "string"
      },
      "text/plain": [
       "\"\\nfrom google.colab import drive\\ndrive.mount('/content/drive')\\n\""
      ]
     },
     "execution_count": 3,
     "metadata": {
      "tags": []
     },
     "output_type": "execute_result"
    }
   ],
   "source": [
    "'''\n",
    "from google.colab import drive\n",
    "drive.mount('/content/drive')\n",
    "'''"
   ]
  },
  {
   "cell_type": "code",
   "execution_count": 4,
   "id": "7wFhHPc5RKif",
   "metadata": {
    "colab": {
     "base_uri": "https://localhost:8080/",
     "height": 35
    },
    "id": "7wFhHPc5RKif",
    "outputId": "26442397-f32e-46b4-d221-11454a9dab31"
   },
   "outputs": [
    {
     "data": {
      "application/vnd.google.colaboratory.intrinsic+json": {
       "type": "string"
      },
      "text/plain": [
       "'\\n!pip install torchvision\\n'"
      ]
     },
     "execution_count": 4,
     "metadata": {
      "tags": []
     },
     "output_type": "execute_result"
    }
   ],
   "source": [
    "'''\n",
    "!pip install torchvision\n",
    "'''"
   ]
  },
  {
   "cell_type": "code",
   "execution_count": 5,
   "id": "tFsQizA6kUmx",
   "metadata": {
    "colab": {
     "base_uri": "https://localhost:8080/"
    },
    "id": "tFsQizA6kUmx",
    "outputId": "5b0acfa1-880d-4a25-b480-70845017c76c"
   },
   "outputs": [
    {
     "name": "stdout",
     "output_type": "stream",
     "text": [
      "Mon Jun  7 16:31:42 2021       \n",
      "+-----------------------------------------------------------------------------+\n",
      "| NVIDIA-SMI 465.27       Driver Version: 460.32.03    CUDA Version: 11.2     |\n",
      "|-------------------------------+----------------------+----------------------+\n",
      "| GPU  Name        Persistence-M| Bus-Id        Disp.A | Volatile Uncorr. ECC |\n",
      "| Fan  Temp  Perf  Pwr:Usage/Cap|         Memory-Usage | GPU-Util  Compute M. |\n",
      "|                               |                      |               MIG M. |\n",
      "|===============================+======================+======================|\n",
      "|   0  Tesla P100-PCIE...  Off  | 00000000:00:04.0 Off |                    0 |\n",
      "| N/A   37C    P0    27W / 250W |      0MiB / 16280MiB |      0%      Default |\n",
      "|                               |                      |                  N/A |\n",
      "+-------------------------------+----------------------+----------------------+\n",
      "                                                                               \n",
      "+-----------------------------------------------------------------------------+\n",
      "| Processes:                                                                  |\n",
      "|  GPU   GI   CI        PID   Type   Process name                  GPU Memory |\n",
      "|        ID   ID                                                   Usage      |\n",
      "|=============================================================================|\n",
      "|  No running processes found                                                 |\n",
      "+-----------------------------------------------------------------------------+\n"
     ]
    }
   ],
   "source": [
    "!nvidia-smi"
   ]
  },
  {
   "cell_type": "code",
   "execution_count": 6,
   "id": "qPZGxjcmWiOG",
   "metadata": {
    "id": "qPZGxjcmWiOG"
   },
   "outputs": [],
   "source": [
    "#!pip install mxnet-cu112 # 没用着呢\n",
    "#!pip install minpy"
   ]
  },
  {
   "cell_type": "code",
   "execution_count": 7,
   "id": "smjt0fCkRKzZ",
   "metadata": {
    "colab": {
     "base_uri": "https://localhost:8080/"
    },
    "id": "smjt0fCkRKzZ",
    "outputId": "8db412fe-c04d-42d2-ec9f-47f9a6d18f5f"
   },
   "outputs": [
    {
     "name": "stdout",
     "output_type": "stream",
     "text": [
      "tensor([[-5.6038e+22,  3.0841e-41,  3.3631e-44],\n",
      "        [ 0.0000e+00,         nan,  3.0841e-41],\n",
      "        [ 1.1578e+27,  1.1362e+30,  7.1547e+22],\n",
      "        [ 4.5828e+30,  1.2121e+04,  7.1846e+22],\n",
      "        [ 9.2198e-39,  7.0374e+22, -1.6529e+22]])\n"
     ]
    }
   ],
   "source": [
    "import torch \n",
    "x = torch.empty(5,3)\n",
    "print(x)"
   ]
  },
  {
   "cell_type": "markdown",
   "id": "6694aee5",
   "metadata": {
    "id": "6694aee5"
   },
   "source": [
    "# main.py 前面import"
   ]
  },
  {
   "cell_type": "code",
   "execution_count": 8,
   "id": "9914fdc7",
   "metadata": {
    "id": "9914fdc7"
   },
   "outputs": [],
   "source": [
    "# -*- coding: UTF-8 -*-\n",
    "# Python\n",
    "import os\n",
    "import random\n",
    "\n",
    "# Torch\n",
    "import torch\n",
    "import numpy as np  #注意这里可以改用Gpu的Numpy\n",
    "import torch.nn as nn\n",
    "import torch.optim as optim\n",
    "from numpy.core._multiarray_umath import ndarray\n",
    "from sklearn.cluster import KMeans\n",
    "from torch.utils.data import DataLoader\n",
    "import torch.optim.lr_scheduler as lr_scheduler\n",
    "from torch.utils.data.sampler import SubsetRandomSampler\n",
    "import torch.nn.functional as F\n",
    "from torch.autograd import Variable\n",
    "from torch.distributions import Categorical\n",
    "\n",
    "# Torchvison\n",
    "import torchvision.transforms as T\n",
    "import torchvision.models as models\n",
    "from torchvision.datasets import CIFAR100, CIFAR10\n",
    "# from influence import *\n",
    "\n",
    "# Utils\n",
    "# import visdom\n",
    "# from tqdm import tqdm\n",
    "\n",
    "# Custom\n",
    "#import models.resnet as resnet\n",
    "#from config import *\n",
    "#from data.sampler import SubsetSequentialSampler\n",
    "\n",
    "# import copy\n",
    "\n",
    "#os.environ[\"CUDA_DEVICE_ORDER\"] = \"PCI_BUS_ID\"\n",
    "#os.environ[\"CUDA_VISIBLE_DEVICES\"] = \"0\"\n"
   ]
  },
  {
   "cell_type": "markdown",
   "id": "fbe61243",
   "metadata": {
    "id": "fbe61243"
   },
   "source": [
    "# config.py"
   ]
  },
  {
   "cell_type": "code",
   "execution_count": 9,
   "id": "d29a58de",
   "metadata": {
    "colab": {
     "base_uri": "https://localhost:8080/",
     "height": 69
    },
    "id": "d29a58de",
    "outputId": "d87c7e58-9888-4b0c-f938-547ad6d3612d"
   },
   "outputs": [
    {
     "data": {
      "application/vnd.google.colaboratory.intrinsic+json": {
       "type": "string"
      },
      "text/plain": [
       "' CIFAR-10 | ResNet-18 | 93.6%\\nNUM_TRAIN = 50000 # N\\nNUM_VAL   = 50000 - NUM_TRAIN\\nBATCH     = 128 # B\\nSUBSET    = NUM_TRAIN # M\\nADDENDUM  = NUM_TRAIN # K\\n\\nMARGIN = 1.0 # xi\\nWEIGHT = 0.0 # lambda\\n\\nTRIALS = 1\\nCYCLES = 1\\n\\nEPOCH = 50\\nLR = 0.1\\nMILESTONES = [25, 35]\\nEPOCHL = 40\\n\\nMOMENTUM = 0.9\\nWDECAY = 5e-4\\n'"
      ]
     },
     "execution_count": 9,
     "metadata": {
      "tags": []
     },
     "output_type": "execute_result"
    }
   ],
   "source": [
    "##\n",
    "# Learning Loss for Active Learning\n",
    "\n",
    "# Config\n",
    "NUM_TRAIN = 50000 # N 训练集数据个数\n",
    "NUM_VAL   = 50000 - NUM_TRAIN\n",
    "BATCH     = 128  # 128 # 每个dataloader的图片个数\n",
    "SUBSET    = 25000 # M  # 每次在未标签的数据集中选来聚类的图片个数\n",
    "ADDENDUM  = 2500  # K  # 每个cycle新加入的不确定度最大的图片个数\n",
    "\n",
    "MARGIN = 1.0  # xi\n",
    "WEIGHT = 1.0  # 1.0 # lambda\n",
    "\n",
    "TRIALS = 1 #尝试 一次\n",
    "CYCLES = 7  #迭代数\n",
    "\n",
    "EPOCH = 200   #神经网络训练轮数\n",
    "LR = 0.1    # 0.1 for SGD # 初始学习速率\n",
    "MILESTONES = [160] \n",
    "EPOCHL = 120 # \n",
    "\n",
    "MOMENTUM = 0.9 # optimizer优化器参数之一\n",
    "WDECAY = 5e-4 # optimizer优化器参数之一\n",
    "\n",
    "CLUSTER_NUMS = 10 # Kmeans 选取的K值\n",
    "CLUSTER_MAX_ITER = 10000 #聚类最大迭代次数\n",
    "\n",
    "\n",
    "''' CIFAR-10 | ResNet-18 | 93.6%\n",
    "NUM_TRAIN = 50000 # N\n",
    "NUM_VAL   = 50000 - NUM_TRAIN\n",
    "BATCH     = 128 # B\n",
    "SUBSET    = NUM_TRAIN # M\n",
    "ADDENDUM  = NUM_TRAIN # K\n",
    "\n",
    "MARGIN = 1.0 # xi\n",
    "WEIGHT = 0.0 # lambda\n",
    "\n",
    "TRIALS = 1\n",
    "CYCLES = 1\n",
    "\n",
    "EPOCH = 50\n",
    "LR = 0.1\n",
    "MILESTONES = [25, 35]\n",
    "EPOCHL = 40\n",
    "\n",
    "MOMENTUM = 0.9\n",
    "WDECAY = 5e-4\n",
    "'''\n"
   ]
  },
  {
   "cell_type": "markdown",
   "id": "12149227",
   "metadata": {
    "id": "12149227"
   },
   "source": [
    "# device设置成cuda或GPU "
   ]
  },
  {
   "cell_type": "code",
   "execution_count": 10,
   "id": "ed3207d4",
   "metadata": {
    "colab": {
     "base_uri": "https://localhost:8080/"
    },
    "id": "ed3207d4",
    "outputId": "9091e729-d6d2-415b-9fb7-0262a3d8a3e3"
   },
   "outputs": [
    {
     "name": "stdout",
     "output_type": "stream",
     "text": [
      "True\n"
     ]
    }
   ],
   "source": [
    "#\n",
    "# 加一个device\n",
    "device = torch.device(\"cuda:0\" if torch.cuda.is_available() else \"cpu\")\n",
    "print(torch.cuda.is_available())"
   ]
  },
  {
   "cell_type": "markdown",
   "id": "ad37c670",
   "metadata": {
    "id": "ad37c670"
   },
   "source": [
    "# sampler.py"
   ]
  },
  {
   "cell_type": "code",
   "execution_count": 11,
   "id": "8fd8a205",
   "metadata": {
    "id": "8fd8a205"
   },
   "outputs": [],
   "source": [
    "class SubsetSequentialSampler(torch.utils.data.Sampler):\n",
    "    r\"\"\"Samples elements sequentially from a given list of indices, without replacement.\n",
    "\n",
    "    Arguments:\n",
    "        indices (sequence): a sequence of indices\n",
    "    \"\"\"\n",
    "\n",
    "    def __init__(self, indices):\n",
    "        self.indices = indices\n",
    "\n",
    "    def __iter__(self):\n",
    "        return (self.indices[i] for i in range(len(self.indices)))\n",
    "\n",
    "    def __len__(self):\n",
    "        return len(self.indices)\n"
   ]
  },
  {
   "cell_type": "markdown",
   "id": "08c18965",
   "metadata": {
    "id": "08c18965"
   },
   "source": [
    "\n",
    "# main.py 里面的data"
   ]
  },
  {
   "cell_type": "code",
   "execution_count": 12,
   "id": "cdbe408f",
   "metadata": {
    "colab": {
     "base_uri": "https://localhost:8080/",
     "height": 134,
     "referenced_widgets": [
      "07adf4946eb947e5be217fa10900b503",
      "0f31ab1a8dfc4e1c84a1557b7754227d",
      "b87d405a26ac4fd99cc1faa67c01220f",
      "e323c705700c4dc1b317e845a1d085e8",
      "266c4aba6f7e4589ab07f85466ae7395",
      "0db19173307b425d9ebad3a279cdc003",
      "51cc921d1b0745e295bf7b1a9ff8126c",
      "50f851e3831b4933892f99931f1ac03e"
     ]
    },
    "id": "cdbe408f",
    "outputId": "4a6f6a9c-c8f8-4731-b416-eb50b4cfdb13"
   },
   "outputs": [
    {
     "name": "stdout",
     "output_type": "stream",
     "text": [
      "Downloading https://www.cs.toronto.edu/~kriz/cifar-10-python.tar.gz to ../cifar10/cifar-10-python.tar.gz\n"
     ]
    },
    {
     "data": {
      "application/vnd.jupyter.widget-view+json": {
       "model_id": "07adf4946eb947e5be217fa10900b503",
       "version_major": 2,
       "version_minor": 0
      },
      "text/plain": [
       "HBox(children=(FloatProgress(value=0.0, max=170498071.0), HTML(value='')))"
      ]
     },
     "metadata": {
      "tags": []
     },
     "output_type": "display_data"
    },
    {
     "name": "stdout",
     "output_type": "stream",
     "text": [
      "\n",
      "Extracting ../cifar10/cifar-10-python.tar.gz to ../cifar10\n",
      "Files already downloaded and verified\n",
      "Files already downloaded and verified\n"
     ]
    }
   ],
   "source": [
    "##\n",
    "# Data\n",
    "train_transform = T.Compose([\n",
    "    T.RandomHorizontalFlip(),\n",
    "    T.RandomCrop(size=32, padding=4),\n",
    "    T.ToTensor(),\n",
    "    T.Normalize([0.4914, 0.4822, 0.4465], [0.2023, 0.1994, 0.2010])\n",
    "])\n",
    "\n",
    "test_transform = T.Compose([\n",
    "    T.ToTensor(),\n",
    "    T.Normalize([0.4914, 0.4822, 0.4465], [0.2023, 0.1994, 0.2010])\n",
    "])\n",
    "\n",
    "cifar10_train = CIFAR10('../cifar10', train=True, download=True, transform=train_transform)  # specify data path here\n",
    "cifar10_unlabeled = CIFAR10('../cifar10', train=True, download=True, transform=test_transform)\n",
    "cifar10_test = CIFAR10('../cifar10', train=False, download=True, transform=test_transform)\n",
    "\n",
    "##\n",
    "# Train Utils\n",
    "iters = 0\n"
   ]
  },
  {
   "cell_type": "markdown",
   "id": "91114054",
   "metadata": {
    "id": "91114054"
   },
   "source": [
    "# resnet.py"
   ]
  },
  {
   "cell_type": "code",
   "execution_count": 13,
   "id": "36b3fb7f",
   "metadata": {
    "id": "36b3fb7f"
   },
   "outputs": [],
   "source": [
    "#import torch\n",
    "#import torch.nn as nn\n",
    "#import torch.nn.functional as F\n",
    "\n",
    "\n",
    "class BasicBlock(nn.Module):\n",
    "    expansion = 1\n",
    "\n",
    "    def __init__(self, in_planes, planes, stride=1):\n",
    "        super(BasicBlock, self).__init__()\n",
    "        self.conv1 = nn.Conv2d(in_planes, planes, kernel_size=3, stride=stride, padding=1, bias=False)\n",
    "        self.bn1 = nn.BatchNorm2d(planes)\n",
    "        self.conv2 = nn.Conv2d(planes, planes, kernel_size=3, stride=1, padding=1, bias=False)\n",
    "        self.bn2 = nn.BatchNorm2d(planes)\n",
    "\n",
    "        self.shortcut = nn.Sequential()\n",
    "        if stride != 1 or in_planes != self.expansion*planes:\n",
    "            self.shortcut = nn.Sequential(\n",
    "                nn.Conv2d(in_planes, self.expansion*planes, kernel_size=1, stride=stride, bias=False),\n",
    "                nn.BatchNorm2d(self.expansion*planes)\n",
    "            )\n",
    "\n",
    "    def forward(self, x):\n",
    "        out = F.relu(self.bn1(self.conv1(x)))\n",
    "        out = self.bn2(self.conv2(out))\n",
    "        out += self.shortcut(x)\n",
    "        out = F.relu(out)\n",
    "        return out\n",
    "\n",
    "\n",
    "class Bottleneck(nn.Module):\n",
    "    expansion = 4\n",
    "\n",
    "    def __init__(self, in_planes, planes, stride=1):\n",
    "        super(Bottleneck, self).__init__()\n",
    "        self.conv1 = nn.Conv2d(in_planes, planes, kernel_size=1, bias=False)\n",
    "        self.bn1 = nn.BatchNorm2d(planes)\n",
    "        self.conv2 = nn.Conv2d(planes, planes, kernel_size=3, stride=stride, padding=1, bias=False)\n",
    "        self.bn2 = nn.BatchNorm2d(planes)\n",
    "        self.conv3 = nn.Conv2d(planes, self.expansion*planes, kernel_size=1, bias=False)\n",
    "        self.bn3 = nn.BatchNorm2d(self.expansion*planes)\n",
    "\n",
    "        self.shortcut = nn.Sequential()\n",
    "        if stride != 1 or in_planes != self.expansion*planes:\n",
    "            self.shortcut = nn.Sequential(\n",
    "                nn.Conv2d(in_planes, self.expansion*planes, kernel_size=1, stride=stride, bias=False),\n",
    "                nn.BatchNorm2d(self.expansion*planes)\n",
    "            )\n",
    "\n",
    "    def forward(self, x):\n",
    "        out = F.relu(self.bn1(self.conv1(x)))\n",
    "        out = F.relu(self.bn2(self.conv2(out)))\n",
    "        out = self.bn3(self.conv3(out))\n",
    "        out += self.shortcut(x)\n",
    "        out = F.relu(out)\n",
    "        return out\n",
    "\n",
    "\n",
    "class ResNet(nn.Module):\n",
    "    def __init__(self, block, num_blocks, num_classes=10):\n",
    "        super(ResNet, self).__init__()\n",
    "        self.in_planes = 64\n",
    "\n",
    "        self.conv1 = nn.Conv2d(3, 64, kernel_size=3, stride=1, padding=1, bias=False)\n",
    "        self.bn1 = nn.BatchNorm2d(64)\n",
    "        self.layer1 = self._make_layer(block, 64, num_blocks[0], stride=1)\n",
    "        self.layer2 = self._make_layer(block, 128, num_blocks[1], stride=2)\n",
    "        self.layer3 = self._make_layer(block, 256, num_blocks[2], stride=2)\n",
    "        self.layer4 = self._make_layer(block, 512, num_blocks[3], stride=2)\n",
    "        self.linear = nn.Linear(512*block.expansion, num_classes)\n",
    "        self.linear1 = nn.Linear(512*block.expansion, num_classes)\n",
    "\n",
    "    def _make_layer(self, block, planes, num_blocks, stride):\n",
    "        strides = [stride] + [1]*(num_blocks-1)\n",
    "        layers = []\n",
    "        for stride in strides:\n",
    "            layers.append(block(self.in_planes, planes, stride))\n",
    "            self.in_planes = planes * block.expansion\n",
    "        return nn.Sequential(*layers)\n",
    "\n",
    "    def forward(self, x):\n",
    "        out = F.relu(self.bn1(self.conv1(x)))\n",
    "        out1 = self.layer1(out)\n",
    "        out2 = self.layer2(out1)\n",
    "        out3 = self.layer3(out2)\n",
    "        out4 = self.layer4(out3)\n",
    "        out5 = F.avg_pool2d(out4, 4)\n",
    "        out5 = out5.view(out5.size(0), -1)     # [128, 512]\n",
    "        out = self.linear(out5)\n",
    "        out_cons = self.linear1(out5)\n",
    "\n",
    "        return out, out_cons, out5, [out1, out2, out3, out4]\n",
    "\n",
    "\n",
    "def ResNet18():\n",
    "    return ResNet(BasicBlock, [2,2,2,2])\n",
    "\n",
    "def ResNet18_student():\n",
    "    return ResNet(BasicBlock, [1,1,1,1])\n",
    "\n",
    "def ResNet34():\n",
    "    return ResNet(BasicBlock, [3,4,6,3])\n",
    "\n",
    "def ResNet50():\n",
    "    return ResNet(Bottleneck, [3,4,6,3])\n",
    "\n",
    "def ResNet101():\n",
    "    return ResNet(Bottleneck, [3,4,23,3])\n",
    "\n",
    "def ResNet152():\n",
    "    return ResNet(Bottleneck, [3,8,36,3])\n",
    "\n"
   ]
  },
  {
   "cell_type": "markdown",
   "id": "280a2c17",
   "metadata": {
    "id": "280a2c17"
   },
   "source": [
    "# main.py 里面的train_epoch函数"
   ]
  },
  {
   "cell_type": "code",
   "execution_count": 14,
   "id": "5e52d13f",
   "metadata": {
    "id": "5e52d13f"
   },
   "outputs": [],
   "source": [
    "#\n",
    "def train_epoch(models, criterion, optimizers, dataloaders, epoch, epoch_loss):\n",
    "    models['backbone'].train()\n",
    "    global iters\n",
    "\n",
    "    for data in dataloaders['train']:\n",
    "        #inputs = data[0].cuda()这是pycharm原来的\n",
    "        inputs = data[0].to(device)\n",
    "        #labels = data[1].cuda()这是pycharm原来的\n",
    "        labels = data[1].to(device)\n",
    "        iters += 1\n",
    "\n",
    "        optimizers['backbone'].zero_grad()\n",
    "\n",
    "        scores, _, _, features_list = models['backbone'](inputs)\n",
    "        target_loss = criterion(scores, labels)\n",
    "\n",
    "        m_backbone_loss = torch.sum(target_loss) / target_loss.size(0)\n",
    "        loss = m_backbone_loss\n",
    "        loss.backward()\n",
    "        optimizers['backbone'].step()\n"
   ]
  },
  {
   "cell_type": "markdown",
   "id": "8427241c",
   "metadata": {
    "id": "8427241c"
   },
   "source": [
    "# main.py 里面的test函数"
   ]
  },
  {
   "cell_type": "code",
   "execution_count": 15,
   "id": "e0a4bf72",
   "metadata": {
    "id": "e0a4bf72"
   },
   "outputs": [],
   "source": [
    "#\n",
    "def test(models, dataloaders, mode='val'):\n",
    "    assert mode == 'val' or mode == 'test'\n",
    "    models['backbone'].eval()\n",
    "\n",
    "    total = 0\n",
    "    correct = 0\n",
    "    with torch.no_grad():\n",
    "        for (inputs, labels) in dataloaders[mode]:\n",
    "            #inputs = inputs.cuda()这才是prcharm原来的\n",
    "            inputs = inputs.to(device)\n",
    "            #labels = labels.cuda()这才是prcharm原来的\n",
    "            labels = labels.to(device)\n",
    "            scores, _, _, _ = models['backbone'](inputs)\n",
    "            _, preds = torch.max(scores.data, 1)\n",
    "            total += labels.size(0)\n",
    "            correct += (preds == labels).sum().item()\n",
    "\n",
    "    return 100 * correct / total"
   ]
  },
  {
   "cell_type": "markdown",
   "id": "c901cd5a",
   "metadata": {
    "id": "c901cd5a"
   },
   "source": [
    "# main.py里面的train函数"
   ]
  },
  {
   "cell_type": "code",
   "execution_count": 16,
   "id": "e1e24b49",
   "metadata": {
    "id": "e1e24b49"
   },
   "outputs": [],
   "source": [
    "#\n",
    "def train(models, criterion, optimizers, schedulers, dataloaders, num_epochs, epoch_loss, cycle):\n",
    "    print('>> Train a Model...')\n",
    "    best_acc = 0.\n",
    "    checkpoint_dir = os.path.join('./cifar10', 'train', 'weights')\n",
    "    if not os.path.exists(checkpoint_dir):\n",
    "        os.makedirs(checkpoint_dir)\n",
    "\n",
    "    for epoch in range(num_epochs):\n",
    "\n",
    "        train_epoch(models, criterion, optimizers, dataloaders, epoch, epoch_loss)\n",
    "        schedulers['backbone'].step()\n",
    "\n",
    "        # Save a checkpoint\n",
    "        if epoch % 20 == 0 or epoch == EPOCH - 1:\n",
    "            acc = test(models, dataloaders, 'test')\n",
    "            if best_acc < acc:\n",
    "                best_acc = acc\n",
    "                torch.save({\n",
    "                    'epoch': epoch + 1,\n",
    "                    'state_dict_backbone': models['backbone'].state_dict()\n",
    "                    # 'state_dict_module': models['module'].state_dict()\n",
    "                },\n",
    "                    '%s/active_resnet18_cifar10.pth' % (checkpoint_dir))\n",
    "            print('Cycle:', cycle + 1, 'Epoch:', epoch + 1, \"---\", 'Val Acc: {:.3f} \\t Best Acc: {:.3f}'.format(acc, best_acc),flush=True)\n",
    "            \n",
    "    print('>> Finished.')\n"
   ]
  },
  {
   "cell_type": "markdown",
   "id": "71b264b6",
   "metadata": {
    "id": "71b264b6"
   },
   "source": [
    "# main.py里面的get_uncertainty函数"
   ]
  },
  {
   "cell_type": "code",
   "execution_count": 17,
   "id": "bcc4b5fe",
   "metadata": {
    "id": "bcc4b5fe"
   },
   "outputs": [],
   "source": [
    "#\n",
    "def get_uncertainty(models, unlabeled_loader):\n",
    "    models['backbone'].eval()\n",
    "    #uncertainty = torch.tensor([]).to(device) #这是原来版本，聚类先不用GPU，用CPU可以用numpy\n",
    "    uncertainty = torch.tensor([])\n",
    "    all_features = torch.tensor([]).to(device)\n",
    "\n",
    "    with torch.no_grad():\n",
    "        print(\">> Start clustering:\")\n",
    "        \n",
    "        for (inputs, labels) in unlabeled_loader:\n",
    "            #inputs = inputs.cuda()这才是pycharm原来的\n",
    "            inputs = inputs.to(device)\n",
    "            scores, _, total_feature, features = models['backbone'](inputs)\n",
    "            # total_feature: [batch_size,512], 行，batch_size，也就是每个batch图片个数，\n",
    "            # 512是列，是resnet展平的像素feature维度数\n",
    "            all_features = torch.cat((all_features, total_feature), axis = 0) \n",
    "            # 从未标签数据集中选出的25000个图片的feature\n",
    "\n",
    "        input_x = np.array(all_features.cpu())\n",
    "        # input_x: shape: [BATCH_SIZE,512]\n",
    "        \n",
    "        line_num, column_num = input_x.shape  # line_num：样本数量，column_num：每个样本的属性值个数\n",
    "        \n",
    "        result = np.empty(line_num, dtype=np.int)  # line_num个样本的聚类结果\n",
    "        distance = np.empty((line_num, CLUSTER_NUMS), dtype=np.float32)  \n",
    "        \n",
    "        # 从line_num个数据样本中不重复地随机选择k个样本作为质心\n",
    "        cores = input_x[np.random.choice(np.arange(line_num), CLUSTER_NUMS, replace=False)]\n",
    "        min_distance_differ = np.empty((line_num, 1), dtype=np.float32)  \n",
    "        iter = 0\n",
    "        \n",
    "        while True:  # 迭代聚类计算,max=10000次，质心不变时break\n",
    "            iter = iter + 1\n",
    "            d = np.square(np.repeat(input_x, CLUSTER_NUMS, axis=0).reshape(line_num, CLUSTER_NUMS, column_num) \n",
    "                          - cores)\n",
    "            distance = np.sqrt(np.sum(d, axis=2))  # ndarray(line_num, k)，每个样本距离k个质心的距离，共有line_num行\n",
    "\n",
    "            index_min = np.argmin(distance, axis=1)  # 每个样本距离最近的质心索引序号 [line_num, 1]\n",
    "            if (index_min == result).all() or iter == CLUSTER_MAX_ITER:\n",
    "                break;\n",
    "                \n",
    "            result[:] = index_min  # 重新分类 [line_num, 1] 这些图片分别属于哪个cluster, index\n",
    "            for i in range(CLUSTER_NUMS):  # 遍历质心集\n",
    "                if len(input_x[result == i]) != 0:\n",
    "                    items = input_x[result == i]  # 找出对应当前质心的子样本集\n",
    "                    cores[i] = np.mean(items, axis=0)  # 以子样本集的均值作为当前质心的位置\n",
    "\n",
    "        sorted_distance = np.sort(distance) # 将矩阵的每一行升序排列\n",
    "        \n",
    "        min_distance_differ = np.abs(sorted_distance[:, 0].reshape(line_num, 1)\n",
    "                                        - sorted_distance[:, 1].reshape(line_num, 1))\n",
    "        \n",
    "        min_distance_differ_torch = torch.from_numpy(min_distance_differ)\n",
    "        \n",
    "        uncertainty = 10.00 / min_distance_differ_torch\n",
    "                    \n",
    "    print(\">> Clustering Over:\")\n",
    "    return uncertainty.cpu()\n"
   ]
  },
  {
   "cell_type": "markdown",
   "id": "411a4edc",
   "metadata": {
    "id": "411a4edc"
   },
   "source": [
    "# main.py 里面的main函数"
   ]
  },
  {
   "cell_type": "code",
   "execution_count": 18,
   "id": "e7c84637",
   "metadata": {
    "colab": {
     "base_uri": "https://localhost:8080/"
    },
    "id": "e7c84637",
    "outputId": "4cce7332-677f-4c1c-f26b-59443d4e9a77"
   },
   "outputs": [
    {
     "name": "stdout",
     "output_type": "stream",
     "text": [
      ">> Train a Model...\n",
      "Cycle: 1 Epoch: 1 --- Val Acc: 16.790 \t Best Acc: 16.790\n",
      "Cycle: 1 Epoch: 21 --- Val Acc: 44.320 \t Best Acc: 44.320\n",
      "Cycle: 1 Epoch: 41 --- Val Acc: 54.090 \t Best Acc: 54.090\n",
      "Cycle: 1 Epoch: 61 --- Val Acc: 67.020 \t Best Acc: 67.020\n",
      "Cycle: 1 Epoch: 81 --- Val Acc: 69.780 \t Best Acc: 69.780\n",
      "Cycle: 1 Epoch: 101 --- Val Acc: 68.380 \t Best Acc: 69.780\n",
      "Cycle: 1 Epoch: 121 --- Val Acc: 73.150 \t Best Acc: 73.150\n",
      "Cycle: 1 Epoch: 141 --- Val Acc: 67.820 \t Best Acc: 73.150\n",
      "Cycle: 1 Epoch: 161 --- Val Acc: 78.010 \t Best Acc: 78.010\n",
      "Cycle: 1 Epoch: 181 --- Val Acc: 79.880 \t Best Acc: 79.880\n",
      "Cycle: 1 Epoch: 200 --- Val Acc: 79.980 \t Best Acc: 79.980\n",
      ">> Finished.\n",
      "Trial 1/1 || Cycle 1/7 || Label set size 5000: Test acc 79.98\n",
      ">> Start clustering:\n",
      ">> Clustering Over:\n",
      ">> Train a Model...\n",
      "Cycle: 2 Epoch: 1 --- Val Acc: 70.870 \t Best Acc: 70.870\n",
      "Cycle: 2 Epoch: 21 --- Val Acc: 73.240 \t Best Acc: 73.240\n",
      "Cycle: 2 Epoch: 41 --- Val Acc: 76.260 \t Best Acc: 76.260\n",
      "Cycle: 2 Epoch: 61 --- Val Acc: 78.290 \t Best Acc: 78.290\n",
      "Cycle: 2 Epoch: 81 --- Val Acc: 77.150 \t Best Acc: 78.290\n",
      "Cycle: 2 Epoch: 101 --- Val Acc: 77.500 \t Best Acc: 78.290\n",
      "Cycle: 2 Epoch: 121 --- Val Acc: 77.340 \t Best Acc: 78.290\n",
      "Cycle: 2 Epoch: 141 --- Val Acc: 77.670 \t Best Acc: 78.290\n",
      "Cycle: 2 Epoch: 161 --- Val Acc: 85.610 \t Best Acc: 85.610\n",
      "Cycle: 2 Epoch: 181 --- Val Acc: 87.030 \t Best Acc: 87.030\n",
      "Cycle: 2 Epoch: 200 --- Val Acc: 87.240 \t Best Acc: 87.240\n",
      ">> Finished.\n",
      "Trial 1/1 || Cycle 2/7 || Label set size 7500: Test acc 87.24\n",
      ">> Start clustering:\n",
      ">> Clustering Over:\n",
      ">> Train a Model...\n",
      "Cycle: 3 Epoch: 1 --- Val Acc: 73.880 \t Best Acc: 73.880\n",
      "Cycle: 3 Epoch: 21 --- Val Acc: 82.660 \t Best Acc: 82.660\n",
      "Cycle: 3 Epoch: 41 --- Val Acc: 82.830 \t Best Acc: 82.830\n",
      "Cycle: 3 Epoch: 61 --- Val Acc: 74.010 \t Best Acc: 82.830\n",
      "Cycle: 3 Epoch: 81 --- Val Acc: 81.970 \t Best Acc: 82.830\n",
      "Cycle: 3 Epoch: 101 --- Val Acc: 72.360 \t Best Acc: 82.830\n",
      "Cycle: 3 Epoch: 121 --- Val Acc: 76.710 \t Best Acc: 82.830\n",
      "Cycle: 3 Epoch: 141 --- Val Acc: 84.580 \t Best Acc: 84.580\n",
      "Cycle: 3 Epoch: 161 --- Val Acc: 88.230 \t Best Acc: 88.230\n",
      "Cycle: 3 Epoch: 181 --- Val Acc: 89.460 \t Best Acc: 89.460\n",
      "Cycle: 3 Epoch: 200 --- Val Acc: 89.810 \t Best Acc: 89.810\n",
      ">> Finished.\n",
      "Trial 1/1 || Cycle 3/7 || Label set size 10000: Test acc 89.81\n",
      ">> Start clustering:\n",
      ">> Clustering Over:\n",
      ">> Train a Model...\n",
      "Cycle: 4 Epoch: 1 --- Val Acc: 76.130 \t Best Acc: 76.130\n",
      "Cycle: 4 Epoch: 21 --- Val Acc: 83.960 \t Best Acc: 83.960\n",
      "Cycle: 4 Epoch: 41 --- Val Acc: 78.810 \t Best Acc: 83.960\n",
      "Cycle: 4 Epoch: 61 --- Val Acc: 81.690 \t Best Acc: 83.960\n",
      "Cycle: 4 Epoch: 81 --- Val Acc: 83.210 \t Best Acc: 83.960\n",
      "Cycle: 4 Epoch: 101 --- Val Acc: 81.940 \t Best Acc: 83.960\n",
      "Cycle: 4 Epoch: 121 --- Val Acc: 79.420 \t Best Acc: 83.960\n",
      "Cycle: 4 Epoch: 141 --- Val Acc: 85.070 \t Best Acc: 85.070\n",
      "Cycle: 4 Epoch: 161 --- Val Acc: 90.230 \t Best Acc: 90.230\n",
      "Cycle: 4 Epoch: 181 --- Val Acc: 91.490 \t Best Acc: 91.490\n",
      "Cycle: 4 Epoch: 200 --- Val Acc: 91.770 \t Best Acc: 91.770\n",
      ">> Finished.\n",
      "Trial 1/1 || Cycle 4/7 || Label set size 12500: Test acc 91.77\n",
      ">> Start clustering:\n",
      ">> Clustering Over:\n",
      ">> Train a Model...\n",
      "Cycle: 5 Epoch: 1 --- Val Acc: 74.260 \t Best Acc: 74.260\n",
      "Cycle: 5 Epoch: 21 --- Val Acc: 75.980 \t Best Acc: 75.980\n",
      "Cycle: 5 Epoch: 41 --- Val Acc: 78.620 \t Best Acc: 78.620\n",
      "Cycle: 5 Epoch: 61 --- Val Acc: 86.050 \t Best Acc: 86.050\n",
      "Cycle: 5 Epoch: 81 --- Val Acc: 85.030 \t Best Acc: 86.050\n",
      "Cycle: 5 Epoch: 101 --- Val Acc: 84.880 \t Best Acc: 86.050\n",
      "Cycle: 5 Epoch: 121 --- Val Acc: 85.440 \t Best Acc: 86.050\n",
      "Cycle: 5 Epoch: 141 --- Val Acc: 85.310 \t Best Acc: 86.050\n",
      "Cycle: 5 Epoch: 161 --- Val Acc: 91.130 \t Best Acc: 91.130\n",
      "Cycle: 5 Epoch: 181 --- Val Acc: 92.510 \t Best Acc: 92.510\n",
      "Cycle: 5 Epoch: 200 --- Val Acc: 92.760 \t Best Acc: 92.760\n",
      ">> Finished.\n",
      "Trial 1/1 || Cycle 5/7 || Label set size 15000: Test acc 92.76\n",
      ">> Start clustering:\n",
      ">> Clustering Over:\n",
      ">> Train a Model...\n",
      "Cycle: 6 Epoch: 1 --- Val Acc: 81.380 \t Best Acc: 81.380\n",
      "Cycle: 6 Epoch: 21 --- Val Acc: 83.200 \t Best Acc: 83.200\n",
      "Cycle: 6 Epoch: 41 --- Val Acc: 85.380 \t Best Acc: 85.380\n",
      "Cycle: 6 Epoch: 61 --- Val Acc: 86.120 \t Best Acc: 86.120\n",
      "Cycle: 6 Epoch: 81 --- Val Acc: 87.120 \t Best Acc: 87.120\n",
      "Cycle: 6 Epoch: 101 --- Val Acc: 80.230 \t Best Acc: 87.120\n",
      "Cycle: 6 Epoch: 121 --- Val Acc: 84.330 \t Best Acc: 87.120\n",
      "Cycle: 6 Epoch: 141 --- Val Acc: 83.390 \t Best Acc: 87.120\n",
      "Cycle: 6 Epoch: 161 --- Val Acc: 92.140 \t Best Acc: 92.140\n",
      "Cycle: 6 Epoch: 181 --- Val Acc: 93.200 \t Best Acc: 93.200\n",
      "Cycle: 6 Epoch: 200 --- Val Acc: 93.600 \t Best Acc: 93.600\n",
      ">> Finished.\n",
      "Trial 1/1 || Cycle 6/7 || Label set size 17500: Test acc 93.6\n",
      ">> Start clustering:\n",
      ">> Clustering Over:\n",
      ">> Train a Model...\n",
      "Cycle: 7 Epoch: 1 --- Val Acc: 79.220 \t Best Acc: 79.220\n",
      "Cycle: 7 Epoch: 21 --- Val Acc: 84.040 \t Best Acc: 84.040\n",
      "Cycle: 7 Epoch: 41 --- Val Acc: 86.660 \t Best Acc: 86.660\n",
      "Cycle: 7 Epoch: 61 --- Val Acc: 82.520 \t Best Acc: 86.660\n",
      "Cycle: 7 Epoch: 81 --- Val Acc: 87.480 \t Best Acc: 87.480\n",
      "Cycle: 7 Epoch: 101 --- Val Acc: 80.890 \t Best Acc: 87.480\n",
      "Cycle: 7 Epoch: 121 --- Val Acc: 81.770 \t Best Acc: 87.480\n",
      "Cycle: 7 Epoch: 141 --- Val Acc: 85.610 \t Best Acc: 87.480\n",
      "Cycle: 7 Epoch: 161 --- Val Acc: 92.940 \t Best Acc: 92.940\n",
      "Cycle: 7 Epoch: 181 --- Val Acc: 94.220 \t Best Acc: 94.220\n",
      "Cycle: 7 Epoch: 200 --- Val Acc: 94.300 \t Best Acc: 94.300\n",
      ">> Finished.\n",
      "Trial 1/1 || Cycle 7/7 || Label set size 20000: Test acc 94.3\n",
      ">> Start clustering:\n",
      ">> Clustering Over:\n",
      "---------------------------Current Trial is done-----------------------------\n"
     ]
    }
   ],
   "source": [
    "\n",
    "##\n",
    "# Main\n",
    "if __name__ == '__main__':\n",
    "\n",
    "    for trial in range(TRIALS):\n",
    "        # Initialize a labeled dataset by randomly sampling K=ADDENDUM=1,000 data points from the entire dataset.\n",
    "        indices = list(range(NUM_TRAIN))\n",
    "        random.shuffle(indices)\n",
    "        START = 2 * ADDENDUM\n",
    "        labeled_set = indices[:START]\n",
    "        unlabeled_set = indices[START:]\n",
    "\n",
    "        train_loader = DataLoader(cifar10_train, batch_size=BATCH,  # BATCH\n",
    "                                  sampler=SubsetRandomSampler(labeled_set),\n",
    "                                  pin_memory=True)\n",
    "        test_loader = DataLoader(cifar10_test, batch_size=BATCH)\n",
    "\n",
    "        dataloaders = {'train': train_loader, 'test': test_loader}\n",
    "\n",
    "        # Model\n",
    "        #backbone_net = resnet.ResNet18().cuda() #记住这才是原本pycharm里面的\n",
    "        backbone_net = ResNet18().to(device)\n",
    "        \n",
    "        models = {'backbone': backbone_net}\n",
    "        torch.backends.cudnn.benchmark = True\n",
    "\n",
    "        # Active learning cycles\n",
    "        for cycle in range(CYCLES):\n",
    "            # Loss, criterion and scheduler (re)initialization\n",
    "            criterion = nn.CrossEntropyLoss(reduction='none')\n",
    "\n",
    "            optim_backbone = optim.SGD(models['backbone'].parameters(), lr=LR, momentum=MOMENTUM, weight_decay=WDECAY)\n",
    "\n",
    "            sched_backbone = lr_scheduler.MultiStepLR(optim_backbone, milestones=MILESTONES)\n",
    "\n",
    "            optimizers = {'backbone': optim_backbone}\n",
    "            schedulers = {'backbone': sched_backbone}\n",
    "\n",
    "            # Training and test\n",
    "            train(models, criterion, optimizers, schedulers, dataloaders, EPOCH, EPOCHL, cycle)\n",
    "            acc = test(models, dataloaders, mode='test')\n",
    "            print('Trial {}/{} || Cycle {}/{} || Label set size {}: Test acc {}'.format(trial + 1, TRIALS, cycle + 1,\n",
    "                                                                                        CYCLES, len(labeled_set), acc),\n",
    "                                                                                         flush=True)\n",
    "\n",
    "            ##\n",
    "            #  Update the labeled dataset via loss prediction-based uncertainty measurement\n",
    "\n",
    "            # Randomly sample 10000 unlabeled data points\n",
    "            random.shuffle(unlabeled_set)\n",
    "            subset = unlabeled_set[:SUBSET]\n",
    "\n",
    "            # Create unlabeled dataloader for the unlabeled subset\n",
    "            unlabeled_loader = DataLoader(cifar10_unlabeled, batch_size=BATCH,\n",
    "                                          sampler=SubsetSequentialSampler(subset),\n",
    "                                          # more convenient if we maintain the order of subset\n",
    "                                          pin_memory=True)\n",
    "\n",
    "            # Measure uncertainty of each data points in the subset\n",
    "            uncertainty = get_uncertainty(models, unlabeled_loader)\n",
    "            #print(\"main uncertainty: \", uncertainty)\n",
    "            uncertainty = uncertainty.T\n",
    "            # Index in ascending order\n",
    "            arg = np.argsort(uncertainty).numpy().tolist()\n",
    "            #print(\"main arg: \", arg) \n",
    "            \n",
    "            # Update the labeled dataset and the unlabeled dataset, respectively\n",
    "            labeled_set += list(torch.tensor(subset)[arg][-ADDENDUM:].numpy())  # select largest loss\n",
    "            unlabeled_set = list(torch.tensor(subset)[arg][:-ADDENDUM].numpy()) + unlabeled_set[SUBSET:]\n",
    "\n",
    "            # labeled_set += list(torch.tensor(subset)[arg][:ADDENDUM].numpy())  # select smallest influence\n",
    "            # unlabeled_set = list(torch.tensor(subset)[arg][ADDENDUM:].numpy()) + unlabeled_set[SUBSET:]\n",
    "\n",
    "            # Create a new dataloader for the updated labeled dataset\n",
    "            dataloaders['train'] = DataLoader(cifar10_train, batch_size=BATCH,  # BATCH\n",
    "                                              sampler=SubsetRandomSampler(labeled_set),\n",
    "                                              pin_memory=True)\n",
    "\n",
    "        # Save a checkpoint\n",
    "        torch.save({\n",
    "            'trial': trial + 1,\n",
    "            'state_dict_backbone': models['backbone'].state_dict()\n",
    "            # 'state_dict_module': models['module'].state_dict()\n",
    "        },\n",
    "            './cifar10/train/weights/active_resnet18_cifar10_trial{}.pth'.format(trial))\n",
    "\n",
    "        print('---------------------------Current Trial is done-----------------------------',flush=True)\n"
   ]
  },
  {
   "cell_type": "code",
   "execution_count": 18,
   "id": "e21adede",
   "metadata": {
    "id": "e21adede"
   },
   "outputs": [],
   "source": []
  }
 ],
 "metadata": {
  "accelerator": "GPU",
  "colab": {
   "collapsed_sections": [],
   "name": "c10_AL_code_第一版_KMeans + 距离差.ipynb",
   "provenance": [],
   "toc_visible": true
  },
  "kernelspec": {
   "display_name": "Python 3",
   "language": "python",
   "name": "python3"
  },
  "language_info": {
   "codemirror_mode": {
    "name": "ipython",
    "version": 3
   },
   "file_extension": ".py",
   "mimetype": "text/x-python",
   "name": "python",
   "nbconvert_exporter": "python",
   "pygments_lexer": "ipython3",
   "version": "3.8.5"
  },
  "toc": {
   "base_numbering": 1,
   "nav_menu": {},
   "number_sections": true,
   "sideBar": true,
   "skip_h1_title": false,
   "title_cell": "Table of Contents",
   "title_sidebar": "Contents",
   "toc_cell": false,
   "toc_position": {},
   "toc_section_display": true,
   "toc_window_display": false
  },
  "widgets": {
   "application/vnd.jupyter.widget-state+json": {
    "07adf4946eb947e5be217fa10900b503": {
     "model_module": "@jupyter-widgets/controls",
     "model_name": "HBoxModel",
     "state": {
      "_dom_classes": [],
      "_model_module": "@jupyter-widgets/controls",
      "_model_module_version": "1.5.0",
      "_model_name": "HBoxModel",
      "_view_count": null,
      "_view_module": "@jupyter-widgets/controls",
      "_view_module_version": "1.5.0",
      "_view_name": "HBoxView",
      "box_style": "",
      "children": [
       "IPY_MODEL_b87d405a26ac4fd99cc1faa67c01220f",
       "IPY_MODEL_e323c705700c4dc1b317e845a1d085e8"
      ],
      "layout": "IPY_MODEL_0f31ab1a8dfc4e1c84a1557b7754227d"
     }
    },
    "0db19173307b425d9ebad3a279cdc003": {
     "model_module": "@jupyter-widgets/base",
     "model_name": "LayoutModel",
     "state": {
      "_model_module": "@jupyter-widgets/base",
      "_model_module_version": "1.2.0",
      "_model_name": "LayoutModel",
      "_view_count": null,
      "_view_module": "@jupyter-widgets/base",
      "_view_module_version": "1.2.0",
      "_view_name": "LayoutView",
      "align_content": null,
      "align_items": null,
      "align_self": null,
      "border": null,
      "bottom": null,
      "display": null,
      "flex": null,
      "flex_flow": null,
      "grid_area": null,
      "grid_auto_columns": null,
      "grid_auto_flow": null,
      "grid_auto_rows": null,
      "grid_column": null,
      "grid_gap": null,
      "grid_row": null,
      "grid_template_areas": null,
      "grid_template_columns": null,
      "grid_template_rows": null,
      "height": null,
      "justify_content": null,
      "justify_items": null,
      "left": null,
      "margin": null,
      "max_height": null,
      "max_width": null,
      "min_height": null,
      "min_width": null,
      "object_fit": null,
      "object_position": null,
      "order": null,
      "overflow": null,
      "overflow_x": null,
      "overflow_y": null,
      "padding": null,
      "right": null,
      "top": null,
      "visibility": null,
      "width": null
     }
    },
    "0f31ab1a8dfc4e1c84a1557b7754227d": {
     "model_module": "@jupyter-widgets/base",
     "model_name": "LayoutModel",
     "state": {
      "_model_module": "@jupyter-widgets/base",
      "_model_module_version": "1.2.0",
      "_model_name": "LayoutModel",
      "_view_count": null,
      "_view_module": "@jupyter-widgets/base",
      "_view_module_version": "1.2.0",
      "_view_name": "LayoutView",
      "align_content": null,
      "align_items": null,
      "align_self": null,
      "border": null,
      "bottom": null,
      "display": null,
      "flex": null,
      "flex_flow": null,
      "grid_area": null,
      "grid_auto_columns": null,
      "grid_auto_flow": null,
      "grid_auto_rows": null,
      "grid_column": null,
      "grid_gap": null,
      "grid_row": null,
      "grid_template_areas": null,
      "grid_template_columns": null,
      "grid_template_rows": null,
      "height": null,
      "justify_content": null,
      "justify_items": null,
      "left": null,
      "margin": null,
      "max_height": null,
      "max_width": null,
      "min_height": null,
      "min_width": null,
      "object_fit": null,
      "object_position": null,
      "order": null,
      "overflow": null,
      "overflow_x": null,
      "overflow_y": null,
      "padding": null,
      "right": null,
      "top": null,
      "visibility": null,
      "width": null
     }
    },
    "266c4aba6f7e4589ab07f85466ae7395": {
     "model_module": "@jupyter-widgets/controls",
     "model_name": "ProgressStyleModel",
     "state": {
      "_model_module": "@jupyter-widgets/controls",
      "_model_module_version": "1.5.0",
      "_model_name": "ProgressStyleModel",
      "_view_count": null,
      "_view_module": "@jupyter-widgets/base",
      "_view_module_version": "1.2.0",
      "_view_name": "StyleView",
      "bar_color": null,
      "description_width": "initial"
     }
    },
    "50f851e3831b4933892f99931f1ac03e": {
     "model_module": "@jupyter-widgets/base",
     "model_name": "LayoutModel",
     "state": {
      "_model_module": "@jupyter-widgets/base",
      "_model_module_version": "1.2.0",
      "_model_name": "LayoutModel",
      "_view_count": null,
      "_view_module": "@jupyter-widgets/base",
      "_view_module_version": "1.2.0",
      "_view_name": "LayoutView",
      "align_content": null,
      "align_items": null,
      "align_self": null,
      "border": null,
      "bottom": null,
      "display": null,
      "flex": null,
      "flex_flow": null,
      "grid_area": null,
      "grid_auto_columns": null,
      "grid_auto_flow": null,
      "grid_auto_rows": null,
      "grid_column": null,
      "grid_gap": null,
      "grid_row": null,
      "grid_template_areas": null,
      "grid_template_columns": null,
      "grid_template_rows": null,
      "height": null,
      "justify_content": null,
      "justify_items": null,
      "left": null,
      "margin": null,
      "max_height": null,
      "max_width": null,
      "min_height": null,
      "min_width": null,
      "object_fit": null,
      "object_position": null,
      "order": null,
      "overflow": null,
      "overflow_x": null,
      "overflow_y": null,
      "padding": null,
      "right": null,
      "top": null,
      "visibility": null,
      "width": null
     }
    },
    "51cc921d1b0745e295bf7b1a9ff8126c": {
     "model_module": "@jupyter-widgets/controls",
     "model_name": "DescriptionStyleModel",
     "state": {
      "_model_module": "@jupyter-widgets/controls",
      "_model_module_version": "1.5.0",
      "_model_name": "DescriptionStyleModel",
      "_view_count": null,
      "_view_module": "@jupyter-widgets/base",
      "_view_module_version": "1.2.0",
      "_view_name": "StyleView",
      "description_width": ""
     }
    },
    "b87d405a26ac4fd99cc1faa67c01220f": {
     "model_module": "@jupyter-widgets/controls",
     "model_name": "FloatProgressModel",
     "state": {
      "_dom_classes": [],
      "_model_module": "@jupyter-widgets/controls",
      "_model_module_version": "1.5.0",
      "_model_name": "FloatProgressModel",
      "_view_count": null,
      "_view_module": "@jupyter-widgets/controls",
      "_view_module_version": "1.5.0",
      "_view_name": "ProgressView",
      "bar_style": "success",
      "description": "",
      "description_tooltip": null,
      "layout": "IPY_MODEL_0db19173307b425d9ebad3a279cdc003",
      "max": 170498071,
      "min": 0,
      "orientation": "horizontal",
      "style": "IPY_MODEL_266c4aba6f7e4589ab07f85466ae7395",
      "value": 170498071
     }
    },
    "e323c705700c4dc1b317e845a1d085e8": {
     "model_module": "@jupyter-widgets/controls",
     "model_name": "HTMLModel",
     "state": {
      "_dom_classes": [],
      "_model_module": "@jupyter-widgets/controls",
      "_model_module_version": "1.5.0",
      "_model_name": "HTMLModel",
      "_view_count": null,
      "_view_module": "@jupyter-widgets/controls",
      "_view_module_version": "1.5.0",
      "_view_name": "HTMLView",
      "description": "",
      "description_tooltip": null,
      "layout": "IPY_MODEL_50f851e3831b4933892f99931f1ac03e",
      "placeholder": "​",
      "style": "IPY_MODEL_51cc921d1b0745e295bf7b1a9ff8126c",
      "value": " 170499072/? [00:04&lt;00:00, 39069579.82it/s]"
     }
    }
   }
  }
 },
 "nbformat": 4,
 "nbformat_minor": 5
}
