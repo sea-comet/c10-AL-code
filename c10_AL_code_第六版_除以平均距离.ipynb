{
  "nbformat": 4,
  "nbformat_minor": 5,
  "metadata": {
    "accelerator": "GPU",
    "colab": {
      "name": "c10_AL_code_第六版_除以平均距离.ipynb",
      "provenance": [],
      "collapsed_sections": [
        "6694aee5",
        "12149227",
        "ad37c670",
        "08c18965",
        "91114054",
        "280a2c17",
        "8427241c"
      ],
      "toc_visible": true
    },
    "kernelspec": {
      "display_name": "Python 3",
      "language": "python",
      "name": "python3"
    },
    "language_info": {
      "codemirror_mode": {
        "name": "ipython",
        "version": 3
      },
      "file_extension": ".py",
      "mimetype": "text/x-python",
      "name": "python",
      "nbconvert_exporter": "python",
      "pygments_lexer": "ipython3",
      "version": "3.8.5"
    },
    "toc": {
      "base_numbering": 1,
      "nav_menu": {},
      "number_sections": true,
      "sideBar": true,
      "skip_h1_title": false,
      "title_cell": "Table of Contents",
      "title_sidebar": "Contents",
      "toc_cell": false,
      "toc_position": {},
      "toc_section_display": true,
      "toc_window_display": false
    }
  },
  "cells": [
    {
      "cell_type": "markdown",
      "metadata": {
        "id": "CKEqWluDTla_"
      },
      "source": [
        "# Google Colab 准备工作"
      ],
      "id": "CKEqWluDTla_"
    },
    {
      "cell_type": "code",
      "metadata": {
        "colab": {
          "base_uri": "https://localhost:8080/",
          "height": 120
        },
        "id": "7Ih0CfNODItq",
        "outputId": "301b9cb0-3e37-4b45-a017-e0ad08bfcf97"
      },
      "source": [
        "'''\n",
        "!apt-get install -y -qq software-properties-common python-software-properties module-init-tools\n",
        "!add-apt-repository -y ppa:alessandro-strada/ppa 2>&1 > /dev/null\n",
        "!apt-get update -qq 2>&1 > /dev/null\n",
        "!apt-get -y install -qq google-drive-ocamlfuse fuse\n",
        "from google.colab import auth\n",
        "auth.authenticate_user()\n",
        "from oauth2client.client import GoogleCredentials\n",
        "creds = GoogleCredentials.get_application_default()\n",
        "import getpass\n",
        "!google-drive-ocamlfuse -headless -id={creds.client_id} -secret={creds.client_secret} < /dev/null 2>&1 | grep URL\n",
        "vcode = getpass.getpass()\n",
        "!echo {vcode} | google-drive-ocamlfuse -headless -id={creds.client_id} -secret={creds.client_secret}\n",
        "\n",
        "'''"
      ],
      "id": "7Ih0CfNODItq",
      "execution_count": 1,
      "outputs": [
        {
          "output_type": "execute_result",
          "data": {
            "application/vnd.google.colaboratory.intrinsic+json": {
              "type": "string"
            },
            "text/plain": [
              "'\\n!apt-get install -y -qq software-properties-common python-software-properties module-init-tools\\n!add-apt-repository -y ppa:alessandro-strada/ppa 2>&1 > /dev/null\\n!apt-get update -qq 2>&1 > /dev/null\\n!apt-get -y install -qq google-drive-ocamlfuse fuse\\nfrom google.colab import auth\\nauth.authenticate_user()\\nfrom oauth2client.client import GoogleCredentials\\ncreds = GoogleCredentials.get_application_default()\\nimport getpass\\n!google-drive-ocamlfuse -headless -id={creds.client_id} -secret={creds.client_secret} < /dev/null 2>&1 | grep URL\\nvcode = getpass.getpass()\\n!echo {vcode} | google-drive-ocamlfuse -headless -id={creds.client_id} -secret={creds.client_secret}\\n\\n'"
            ]
          },
          "metadata": {
            "tags": []
          },
          "execution_count": 1
        }
      ]
    },
    {
      "cell_type": "code",
      "metadata": {
        "colab": {
          "base_uri": "https://localhost:8080/",
          "height": 35
        },
        "id": "08eGFWBxDb6J",
        "outputId": "f5268117-390e-4bf9-ccb5-0c647f69fa97"
      },
      "source": [
        "'''\n",
        "!mkdir -p drive\n",
        "!google-drive-ocamlfuse drive\n",
        "\n",
        "from google.colab import drive\n",
        "drive.mount('/content/drive')\n",
        "'''"
      ],
      "id": "08eGFWBxDb6J",
      "execution_count": 2,
      "outputs": [
        {
          "output_type": "execute_result",
          "data": {
            "application/vnd.google.colaboratory.intrinsic+json": {
              "type": "string"
            },
            "text/plain": [
              "\"\\n!mkdir -p drive\\n!google-drive-ocamlfuse drive\\n\\nfrom google.colab import drive\\ndrive.mount('/content/drive')\\n\""
            ]
          },
          "metadata": {
            "tags": []
          },
          "execution_count": 2
        }
      ]
    },
    {
      "cell_type": "code",
      "metadata": {
        "colab": {
          "base_uri": "https://localhost:8080/"
        },
        "id": "7wFhHPc5RKif",
        "outputId": "03841892-5ac4-46b2-c93b-7a5fead4bc80"
      },
      "source": [
        "!pip install torchvision"
      ],
      "id": "7wFhHPc5RKif",
      "execution_count": 3,
      "outputs": [
        {
          "output_type": "stream",
          "text": [
            "Requirement already satisfied: torchvision in /usr/local/lib/python3.7/dist-packages (0.9.1+cu101)\n",
            "Requirement already satisfied: pillow>=4.1.1 in /usr/local/lib/python3.7/dist-packages (from torchvision) (7.1.2)\n",
            "Requirement already satisfied: torch==1.8.1 in /usr/local/lib/python3.7/dist-packages (from torchvision) (1.8.1+cu101)\n",
            "Requirement already satisfied: numpy in /usr/local/lib/python3.7/dist-packages (from torchvision) (1.19.5)\n",
            "Requirement already satisfied: typing-extensions in /usr/local/lib/python3.7/dist-packages (from torch==1.8.1->torchvision) (3.7.4.3)\n"
          ],
          "name": "stdout"
        }
      ]
    },
    {
      "cell_type": "code",
      "metadata": {
        "colab": {
          "base_uri": "https://localhost:8080/"
        },
        "id": "tFsQizA6kUmx",
        "outputId": "dd948773-29ad-4a39-ab82-d4891a4f7da3"
      },
      "source": [
        "!nvidia-smi"
      ],
      "id": "tFsQizA6kUmx",
      "execution_count": 4,
      "outputs": [
        {
          "output_type": "stream",
          "text": [
            "Mon Jun  7 15:43:01 2021       \n",
            "+-----------------------------------------------------------------------------+\n",
            "| NVIDIA-SMI 465.27       Driver Version: 460.32.03    CUDA Version: 11.2     |\n",
            "|-------------------------------+----------------------+----------------------+\n",
            "| GPU  Name        Persistence-M| Bus-Id        Disp.A | Volatile Uncorr. ECC |\n",
            "| Fan  Temp  Perf  Pwr:Usage/Cap|         Memory-Usage | GPU-Util  Compute M. |\n",
            "|                               |                      |               MIG M. |\n",
            "|===============================+======================+======================|\n",
            "|   0  Tesla V100-SXM2...  Off  | 00000000:00:04.0 Off |                    0 |\n",
            "| N/A   34C    P0    24W / 300W |      0MiB / 16160MiB |      0%      Default |\n",
            "|                               |                      |                  N/A |\n",
            "+-------------------------------+----------------------+----------------------+\n",
            "                                                                               \n",
            "+-----------------------------------------------------------------------------+\n",
            "| Processes:                                                                  |\n",
            "|  GPU   GI   CI        PID   Type   Process name                  GPU Memory |\n",
            "|        ID   ID                                                   Usage      |\n",
            "|=============================================================================|\n",
            "|  No running processes found                                                 |\n",
            "+-----------------------------------------------------------------------------+\n"
          ],
          "name": "stdout"
        }
      ]
    },
    {
      "cell_type": "code",
      "metadata": {
        "id": "qPZGxjcmWiOG"
      },
      "source": [
        "#!pip install mxnet-cu112 # 没用着呢\n",
        "#!pip install minpy"
      ],
      "id": "qPZGxjcmWiOG",
      "execution_count": 5,
      "outputs": []
    },
    {
      "cell_type": "code",
      "metadata": {
        "colab": {
          "base_uri": "https://localhost:8080/"
        },
        "id": "smjt0fCkRKzZ",
        "outputId": "f16e6679-c1cd-4243-f35c-ba573fc0101c"
      },
      "source": [
        "import torch \n",
        "x = torch.empty(5,3)\n",
        "print(x)"
      ],
      "id": "smjt0fCkRKzZ",
      "execution_count": 6,
      "outputs": [
        {
          "output_type": "stream",
          "text": [
            "tensor([[-5.3914e+37,  3.0913e-41,  3.3631e-44],\n",
            "        [ 0.0000e+00,         nan,  3.0913e-41],\n",
            "        [ 1.1578e+27,  1.1362e+30,  7.1547e+22],\n",
            "        [ 4.5828e+30,  1.2121e+04,  7.1846e+22],\n",
            "        [ 9.2198e-39,  7.0374e+22, -1.6388e+37]])\n"
          ],
          "name": "stdout"
        }
      ]
    },
    {
      "cell_type": "markdown",
      "metadata": {
        "id": "6694aee5"
      },
      "source": [
        "# main.py 前面import"
      ],
      "id": "6694aee5"
    },
    {
      "cell_type": "code",
      "metadata": {
        "id": "9914fdc7"
      },
      "source": [
        "# -*- coding: UTF-8 -*-\n",
        "# Python\n",
        "import os\n",
        "import random\n",
        "\n",
        "# Torch\n",
        "import torch\n",
        "import numpy as np  #注意这里改了，改成能用GPU的numpy了\n",
        "import torch.nn as nn\n",
        "import torch.optim as optim\n",
        "from numpy.core._multiarray_umath import ndarray\n",
        "from sklearn.cluster import KMeans\n",
        "from torch.utils.data import DataLoader\n",
        "import torch.optim.lr_scheduler as lr_scheduler\n",
        "from torch.utils.data.sampler import SubsetRandomSampler\n",
        "import torch.nn.functional as F\n",
        "from torch.autograd import Variable\n",
        "from torch.distributions import Categorical\n",
        "\n",
        "# Torchvison\n",
        "import torchvision.transforms as T\n",
        "import torchvision.models as models\n",
        "from torchvision.datasets import CIFAR100, CIFAR10\n",
        "# from influence import *\n",
        "\n",
        "# Utils\n",
        "# import visdom\n",
        "# from tqdm import tqdm\n",
        "\n",
        "# Custom\n",
        "#import models.resnet as resnet\n",
        "#from config import *\n",
        "#from data.sampler import SubsetSequentialSampler\n",
        "\n",
        "# import copy\n",
        "\n",
        "#os.environ[\"CUDA_DEVICE_ORDER\"] = \"PCI_BUS_ID\"\n",
        "#os.environ[\"CUDA_VISIBLE_DEVICES\"] = \"0\"\n"
      ],
      "id": "9914fdc7",
      "execution_count": 7,
      "outputs": []
    },
    {
      "cell_type": "markdown",
      "metadata": {
        "id": "fbe61243"
      },
      "source": [
        "# config.py"
      ],
      "id": "fbe61243"
    },
    {
      "cell_type": "code",
      "metadata": {
        "colab": {
          "base_uri": "https://localhost:8080/",
          "height": 69
        },
        "id": "d29a58de",
        "outputId": "d8e71c0f-e706-4c4a-ad75-d0300b815920"
      },
      "source": [
        "##\n",
        "# Learning Loss for Active Learning\n",
        "NUM_TRAIN = 50000 # N\n",
        "NUM_VAL   = 50000 - NUM_TRAIN\n",
        "BATCH     = 128  # 128 # B  注意，这里本来是是128\n",
        "SUBSET    = 25000 # M  # 本来是25000\n",
        "ADDENDUM  = 2500  # K   # 本来是2500\n",
        "\n",
        "MARGIN = 1.0  # xi\n",
        "WEIGHT = 1.0  # 1.0 # lambda\n",
        "\n",
        "TRIALS = 1\n",
        "CYCLES = 7   # 本来应该是7\n",
        "\n",
        "EPOCH = 200  # 本来是200\n",
        "LR = 0.1    # 0.1 for SGD\n",
        "MILESTONES = [160]\n",
        "EPOCHL = 120 # After 120 epochs, stop the gradient from the loss prediction module propagated to the target model\n",
        "\n",
        "MOMENTUM = 0.9\n",
        "WDECAY = 5e-4\n",
        "\n",
        "CLUSTER_NUMS = 10 # 新加的，聚类的cluster 数量\n",
        "CLUSTER_MAX_ITER = 10000 # 新加的，聚类的迭代次数，本来是10000\n",
        "\n",
        "\n",
        "''' CIFAR-10 | ResNet-18 | 93.6%\n",
        "NUM_TRAIN = 50000 # N\n",
        "NUM_VAL   = 50000 - NUM_TRAIN\n",
        "BATCH     = 128 # B\n",
        "SUBSET    = NUM_TRAIN # M\n",
        "ADDENDUM  = NUM_TRAIN # K\n",
        "\n",
        "MARGIN = 1.0 # xi\n",
        "WEIGHT = 0.0 # lambda\n",
        "\n",
        "TRIALS = 1\n",
        "CYCLES = 1\n",
        "\n",
        "EPOCH = 50\n",
        "LR = 0.1\n",
        "MILESTONES = [25, 35]\n",
        "EPOCHL = 40\n",
        "\n",
        "MOMENTUM = 0.9\n",
        "WDECAY = 5e-4\n",
        "'''\n"
      ],
      "id": "d29a58de",
      "execution_count": 8,
      "outputs": [
        {
          "output_type": "execute_result",
          "data": {
            "application/vnd.google.colaboratory.intrinsic+json": {
              "type": "string"
            },
            "text/plain": [
              "' CIFAR-10 | ResNet-18 | 93.6%\\nNUM_TRAIN = 50000 # N\\nNUM_VAL   = 50000 - NUM_TRAIN\\nBATCH     = 128 # B\\nSUBSET    = NUM_TRAIN # M\\nADDENDUM  = NUM_TRAIN # K\\n\\nMARGIN = 1.0 # xi\\nWEIGHT = 0.0 # lambda\\n\\nTRIALS = 1\\nCYCLES = 1\\n\\nEPOCH = 50\\nLR = 0.1\\nMILESTONES = [25, 35]\\nEPOCHL = 40\\n\\nMOMENTUM = 0.9\\nWDECAY = 5e-4\\n'"
            ]
          },
          "metadata": {
            "tags": []
          },
          "execution_count": 8
        }
      ]
    },
    {
      "cell_type": "markdown",
      "metadata": {
        "id": "12149227"
      },
      "source": [
        "# device设置成CPU或GPU "
      ],
      "id": "12149227"
    },
    {
      "cell_type": "code",
      "metadata": {
        "colab": {
          "base_uri": "https://localhost:8080/"
        },
        "id": "ed3207d4",
        "outputId": "16d06389-5d88-4cbb-cf4f-631e91519609"
      },
      "source": [
        "#\n",
        "# 加一个device\n",
        "device = torch.device(\"cuda:0\" if torch.cuda.is_available() else \"cpu\")\n",
        "print(torch.cuda.is_available())"
      ],
      "id": "ed3207d4",
      "execution_count": 9,
      "outputs": [
        {
          "output_type": "stream",
          "text": [
            "True\n"
          ],
          "name": "stdout"
        }
      ]
    },
    {
      "cell_type": "markdown",
      "metadata": {
        "id": "ad37c670"
      },
      "source": [
        "# sampler.py"
      ],
      "id": "ad37c670"
    },
    {
      "cell_type": "code",
      "metadata": {
        "id": "8fd8a205"
      },
      "source": [
        "class SubsetSequentialSampler(torch.utils.data.Sampler):\n",
        "    r\"\"\"Samples elements sequentially from a given list of indices, without replacement.\n",
        "\n",
        "    Arguments:\n",
        "        indices (sequence): a sequence of indices\n",
        "    \"\"\"\n",
        "\n",
        "    def __init__(self, indices):\n",
        "        self.indices = indices\n",
        "\n",
        "    def __iter__(self):\n",
        "        return (self.indices[i] for i in range(len(self.indices)))\n",
        "\n",
        "    def __len__(self):\n",
        "        return len(self.indices)\n"
      ],
      "id": "8fd8a205",
      "execution_count": 10,
      "outputs": []
    },
    {
      "cell_type": "markdown",
      "metadata": {
        "id": "08c18965"
      },
      "source": [
        "\n",
        "# main.py 里面的data"
      ],
      "id": "08c18965"
    },
    {
      "cell_type": "code",
      "metadata": {
        "colab": {
          "base_uri": "https://localhost:8080/"
        },
        "id": "cdbe408f",
        "outputId": "2ddf03d8-bb14-4025-a415-61567825a4ee"
      },
      "source": [
        "##\n",
        "# Data\n",
        "train_transform = T.Compose([\n",
        "    T.RandomHorizontalFlip(),\n",
        "    T.RandomCrop(size=32, padding=4),\n",
        "    T.ToTensor(),\n",
        "    T.Normalize([0.4914, 0.4822, 0.4465], [0.2023, 0.1994, 0.2010])\n",
        "])\n",
        "\n",
        "test_transform = T.Compose([\n",
        "    T.ToTensor(),\n",
        "    T.Normalize([0.4914, 0.4822, 0.4465], [0.2023, 0.1994, 0.2010])\n",
        "])\n",
        "\n",
        "cifar10_train = CIFAR10('../cifar10', train=True, download=True, transform=train_transform)  # specify data path here\n",
        "cifar10_unlabeled = CIFAR10('../cifar10', train=True, download=True, transform=test_transform)\n",
        "cifar10_test = CIFAR10('../cifar10', train=False, download=True, transform=test_transform)\n",
        "\n",
        "##\n",
        "# Train Utils\n",
        "iters = 0\n"
      ],
      "id": "cdbe408f",
      "execution_count": 11,
      "outputs": [
        {
          "output_type": "stream",
          "text": [
            "Files already downloaded and verified\n",
            "Files already downloaded and verified\n",
            "Files already downloaded and verified\n"
          ],
          "name": "stdout"
        }
      ]
    },
    {
      "cell_type": "markdown",
      "metadata": {
        "id": "91114054"
      },
      "source": [
        "# resnet.py"
      ],
      "id": "91114054"
    },
    {
      "cell_type": "code",
      "metadata": {
        "id": "36b3fb7f"
      },
      "source": [
        "#import torch\n",
        "#import torch.nn as nn\n",
        "#import torch.nn.functional as F\n",
        "\n",
        "\n",
        "class BasicBlock(nn.Module):\n",
        "    expansion = 1\n",
        "\n",
        "    def __init__(self, in_planes, planes, stride=1):\n",
        "        super(BasicBlock, self).__init__()\n",
        "        self.conv1 = nn.Conv2d(in_planes, planes, kernel_size=3, stride=stride, padding=1, bias=False)\n",
        "        self.bn1 = nn.BatchNorm2d(planes)\n",
        "        self.conv2 = nn.Conv2d(planes, planes, kernel_size=3, stride=1, padding=1, bias=False)\n",
        "        self.bn2 = nn.BatchNorm2d(planes)\n",
        "\n",
        "        self.shortcut = nn.Sequential()\n",
        "        if stride != 1 or in_planes != self.expansion*planes:\n",
        "            self.shortcut = nn.Sequential(\n",
        "                nn.Conv2d(in_planes, self.expansion*planes, kernel_size=1, stride=stride, bias=False),\n",
        "                nn.BatchNorm2d(self.expansion*planes)\n",
        "            )\n",
        "\n",
        "    def forward(self, x):\n",
        "        out = F.relu(self.bn1(self.conv1(x)))\n",
        "        out = self.bn2(self.conv2(out))\n",
        "        out += self.shortcut(x)\n",
        "        out = F.relu(out)\n",
        "        return out\n",
        "\n",
        "\n",
        "class Bottleneck(nn.Module):\n",
        "    expansion = 4\n",
        "\n",
        "    def __init__(self, in_planes, planes, stride=1):\n",
        "        super(Bottleneck, self).__init__()\n",
        "        self.conv1 = nn.Conv2d(in_planes, planes, kernel_size=1, bias=False)\n",
        "        self.bn1 = nn.BatchNorm2d(planes)\n",
        "        self.conv2 = nn.Conv2d(planes, planes, kernel_size=3, stride=stride, padding=1, bias=False)\n",
        "        self.bn2 = nn.BatchNorm2d(planes)\n",
        "        self.conv3 = nn.Conv2d(planes, self.expansion*planes, kernel_size=1, bias=False)\n",
        "        self.bn3 = nn.BatchNorm2d(self.expansion*planes)\n",
        "\n",
        "        self.shortcut = nn.Sequential()\n",
        "        if stride != 1 or in_planes != self.expansion*planes:\n",
        "            self.shortcut = nn.Sequential(\n",
        "                nn.Conv2d(in_planes, self.expansion*planes, kernel_size=1, stride=stride, bias=False),\n",
        "                nn.BatchNorm2d(self.expansion*planes)\n",
        "            )\n",
        "\n",
        "    def forward(self, x):\n",
        "        out = F.relu(self.bn1(self.conv1(x)))\n",
        "        out = F.relu(self.bn2(self.conv2(out)))\n",
        "        out = self.bn3(self.conv3(out))\n",
        "        out += self.shortcut(x)\n",
        "        out = F.relu(out)\n",
        "        return out\n",
        "\n",
        "\n",
        "class ResNet(nn.Module):\n",
        "    def __init__(self, block, num_blocks, num_classes=10):\n",
        "        super(ResNet, self).__init__()\n",
        "        self.in_planes = 64\n",
        "\n",
        "        self.conv1 = nn.Conv2d(3, 64, kernel_size=3, stride=1, padding=1, bias=False)\n",
        "        self.bn1 = nn.BatchNorm2d(64)\n",
        "        self.layer1 = self._make_layer(block, 64, num_blocks[0], stride=1)\n",
        "        self.layer2 = self._make_layer(block, 128, num_blocks[1], stride=2)\n",
        "        self.layer3 = self._make_layer(block, 256, num_blocks[2], stride=2)\n",
        "        self.layer4 = self._make_layer(block, 512, num_blocks[3], stride=2)\n",
        "        self.linear = nn.Linear(512*block.expansion, num_classes)\n",
        "        self.linear1 = nn.Linear(512*block.expansion, num_classes)\n",
        "\n",
        "    def _make_layer(self, block, planes, num_blocks, stride):\n",
        "        strides = [stride] + [1]*(num_blocks-1)\n",
        "        layers = []\n",
        "        for stride in strides:\n",
        "            layers.append(block(self.in_planes, planes, stride))\n",
        "            self.in_planes = planes * block.expansion\n",
        "        return nn.Sequential(*layers)\n",
        "\n",
        "    def forward(self, x):\n",
        "        out = F.relu(self.bn1(self.conv1(x)))\n",
        "        out1 = self.layer1(out)\n",
        "        out2 = self.layer2(out1)\n",
        "        out3 = self.layer3(out2)\n",
        "        out4 = self.layer4(out3)\n",
        "        out5 = F.avg_pool2d(out4, 4)\n",
        "        out5 = out5.view(out5.size(0), -1)     # [128, 512]\n",
        "        out = self.linear(out5)\n",
        "        out_cons = self.linear1(out5)\n",
        "\n",
        "        return out, out_cons, out5, [out1, out2, out3, out4]\n",
        "\n",
        "\n",
        "def ResNet18():\n",
        "    return ResNet(BasicBlock, [2,2,2,2])\n",
        "\n",
        "def ResNet18_student():\n",
        "    return ResNet(BasicBlock, [1,1,1,1])\n",
        "\n",
        "def ResNet34():\n",
        "    return ResNet(BasicBlock, [3,4,6,3])\n",
        "\n",
        "def ResNet50():\n",
        "    return ResNet(Bottleneck, [3,4,6,3])\n",
        "\n",
        "def ResNet101():\n",
        "    return ResNet(Bottleneck, [3,4,23,3])\n",
        "\n",
        "def ResNet152():\n",
        "    return ResNet(Bottleneck, [3,8,36,3])\n",
        "\n"
      ],
      "id": "36b3fb7f",
      "execution_count": 12,
      "outputs": []
    },
    {
      "cell_type": "markdown",
      "metadata": {
        "id": "280a2c17"
      },
      "source": [
        "# main.py 里面的train_epoch函数"
      ],
      "id": "280a2c17"
    },
    {
      "cell_type": "code",
      "metadata": {
        "id": "5e52d13f"
      },
      "source": [
        "#\n",
        "def train_epoch(models, criterion, optimizers, dataloaders, epoch, epoch_loss):\n",
        "    models['backbone'].train()\n",
        "    global iters\n",
        "\n",
        "    for data in dataloaders['train']:\n",
        "        inputs = data[0].to(device)\n",
        "        labels = data[1].to(device)\n",
        "        iters += 1\n",
        "\n",
        "        optimizers['backbone'].zero_grad()\n",
        "\n",
        "        scores, _, _, features_list = models['backbone'](inputs)\n",
        "        target_loss = criterion(scores, labels)\n",
        "\n",
        "        m_backbone_loss = torch.sum(target_loss) / target_loss.size(0)\n",
        "        loss = m_backbone_loss\n",
        "        loss.backward()\n",
        "        optimizers['backbone'].step()\n"
      ],
      "id": "5e52d13f",
      "execution_count": 13,
      "outputs": []
    },
    {
      "cell_type": "markdown",
      "metadata": {
        "id": "8427241c"
      },
      "source": [
        "# main.py 里面的test函数"
      ],
      "id": "8427241c"
    },
    {
      "cell_type": "code",
      "metadata": {
        "id": "e0a4bf72"
      },
      "source": [
        "#\n",
        "def test(models, dataloaders, mode='val'):\n",
        "    assert mode == 'val' or mode == 'test'\n",
        "    models['backbone'].eval()\n",
        "\n",
        "    total = 0\n",
        "    correct = 0\n",
        "    with torch.no_grad():\n",
        "        for (inputs, labels) in dataloaders[mode]:\n",
        "            #inputs = inputs.cuda()这才是prcharm原来的\n",
        "            inputs = inputs.to(device)\n",
        "            #labels = labels.cuda()这才是prcharm原来的\n",
        "            labels = labels.to(device)\n",
        "            scores, _, _, _ = models['backbone'](inputs)\n",
        "            _, preds = torch.max(scores.data, 1)\n",
        "            total += labels.size(0)\n",
        "            correct += (preds == labels).sum().item()\n",
        "\n",
        "    return 100 * correct / total"
      ],
      "id": "e0a4bf72",
      "execution_count": 14,
      "outputs": []
    },
    {
      "cell_type": "markdown",
      "metadata": {
        "id": "c901cd5a"
      },
      "source": [
        "# main.py里面的train函数"
      ],
      "id": "c901cd5a"
    },
    {
      "cell_type": "code",
      "metadata": {
        "id": "e1e24b49"
      },
      "source": [
        "#\n",
        "def train(models, criterion, optimizers, schedulers, dataloaders, num_epochs, epoch_loss, cycle):\n",
        "    print('>> Train a Model...')\n",
        "    best_acc = 0.\n",
        "    checkpoint_dir = os.path.join('./cifar10', 'train', 'weights')\n",
        "    if not os.path.exists(checkpoint_dir):\n",
        "        os.makedirs(checkpoint_dir)\n",
        "\n",
        "    for epoch in range(num_epochs):\n",
        "\n",
        "        train_epoch(models, criterion, optimizers, dataloaders, epoch, epoch_loss)\n",
        "        schedulers['backbone'].step()\n",
        "\n",
        "        # Save a checkpoint\n",
        "        if epoch % 20 == 0 or epoch == EPOCH - 1:\n",
        "            acc = test(models, dataloaders, 'test')\n",
        "            if best_acc < acc:\n",
        "                best_acc = acc\n",
        "                torch.save({\n",
        "                    'epoch': epoch + 1,\n",
        "                    'state_dict_backbone': models['backbone'].state_dict()\n",
        "                    # 'state_dict_module': models['module'].state_dict()\n",
        "                },\n",
        "                    '%s/active_resnet18_cifar10.pth' % (checkpoint_dir))\n",
        "            print('Cycle:', cycle + 1, 'Epoch:', epoch + 1, \"---\", 'Val Acc: {:.3f} \\t Best Acc: {:.3f}'.format(acc, best_acc),flush=True)\n",
        "            \n",
        "    print('>> Finished.')\n"
      ],
      "id": "e1e24b49",
      "execution_count": 15,
      "outputs": []
    },
    {
      "cell_type": "markdown",
      "metadata": {
        "id": "wUgR7HIvoGJU"
      },
      "source": [
        "# Normalize distance"
      ],
      "id": "wUgR7HIvoGJU"
    },
    {
      "cell_type": "code",
      "metadata": {
        "id": "_suoMlUnnfVn"
      },
      "source": [
        "#\n",
        "# divided distance\n",
        "def normalize_distance(input_x, cores, result, min_distance):\n",
        "    average_distance = np.empty(CLUSTER_NUMS, dtype=np.float32) #每个cluster里所有样本距离core的平均距离\n",
        "    standard_dev = np.empty(CLUSTER_NUMS, dtype=np.float32) #每个cluster里所有样本距离core的 标准差\n",
        "    line_num, column_num = input_x.shape\n",
        "    divided_distance = np.empty((line_num, 1), dtype=np.float32)\n",
        "    for i in range(CLUSTER_NUMS):  # 遍历质心集\n",
        "        if len(input_x[result == i]) != 0:\n",
        "            items = input_x[result == i]       # 找出对应当前质心的子样本集\n",
        "            cores[i] = np.mean(items, axis=0)\n",
        "                    \n",
        "            d_abs = np.abs(items - cores[i])\n",
        "            d_square = np.square(d_abs)\n",
        "            total_distance = np.sqrt(np.sum(d_square, axis=1)) # 在这个cluster中每个样本距离自己core的距离\n",
        "            average_distance[i] = np.mean(total_distance, axis = 0) # 这个cluster中样本距离core的平均距离,一个数\n",
        "            standard_dev[i] = np.std(total_distance, axis=0) #标准差, 一个数\n",
        "            # 注意这一版是直接除以平均距离\n",
        "            divided_distance[result == i] = min_distance[result == i] / average_distance[i]\n",
        "            divided_distance_torch = torch.from_numpy(divided_distance)\n",
        "            #print(normalized_distance_torch)\n",
        "    \n",
        "    #print(\"divided_distance\", divided_distance.T)\n",
        "    \n",
        "    return divided_distance_torch\n"
      ],
      "id": "_suoMlUnnfVn",
      "execution_count": 16,
      "outputs": []
    },
    {
      "cell_type": "markdown",
      "metadata": {
        "id": "71b264b6"
      },
      "source": [
        "# main.py里面的get_uncertainty函数"
      ],
      "id": "71b264b6"
    },
    {
      "cell_type": "code",
      "metadata": {
        "id": "bcc4b5fe"
      },
      "source": [
        "#\n",
        "def get_uncertainty(models, unlabeled_loader):\n",
        "    models['backbone'].eval()\n",
        "    #uncertainty = torch.tensor([]).to(device)  #这是原来版本，聚类先不用GPU，用CPU可以用numpy\n",
        "    uncertainty = torch.tensor([])\n",
        "    all_features = torch.tensor([]).to(device)\n",
        "\n",
        "    with torch.no_grad():\n",
        "        print(\">> Start clustering:\")\n",
        "        for (inputs, labels) in unlabeled_loader:\n",
        "            #inputs = inputs.cuda()这才是pycharm原来的\n",
        "            inputs = inputs.to(device)\n",
        "            \n",
        "            scores, _, total_feature, features = models['backbone'](inputs)\n",
        "            # total_feature: [SUBSET,512], SUBSET是行 = 128，是batch_size，也就是图片个数，512是列，是resnet展平的feature个数\n",
        "            \n",
        "            # 这是原来版本，计算关键点 因为KMeans.fix(X[,y) X是需要2D 而不是1D\n",
        "            all_features = torch.cat((all_features, total_feature), axis = 0)\n",
        "            \n",
        "        input_x = np.array(all_features.cpu())\n",
        "        line_num, column_num = input_x.shape  # line_num：样本数量，column_num：每个样本的feature里个数\n",
        "\n",
        "        result = np.empty(line_num, dtype=np.int)  # line_num个样本的聚类结果\n",
        "        distance = np.empty((line_num, CLUSTER_NUMS), dtype=np.float32)  \n",
        "\n",
        "        # 从line_num个数据样本中不重复地随机选择k个样本作为质心,cores\n",
        "        cores = input_x[np.random.choice(np.arange(line_num), CLUSTER_NUMS, replace=False)]\n",
        "        min_distance = np.empty((line_num, 1), dtype=np.float32) #用于第二种方法，最远距离不确定度大\n",
        "        \n",
        "        iter = 0 #迭代次数\n",
        "        while True:  # 迭代聚类计算,max iteration是10000次，质心都不变时停止\n",
        "            iter = iter + 1\n",
        "            d = np.square(np.repeat(input_x, CLUSTER_NUMS, axis=0).reshape(line_num, CLUSTER_NUMS, column_num) - cores)\n",
        "            distance = np.sqrt(np.sum(d, axis=2))  # ndarray(line_num, k)，每个样本距离 k（CLUSTER_NUM）个质心的距离，共有line_num行\n",
        "\n",
        "            index_min = np.argmin(distance, axis=1)  # 每个样本距离最近的质心索引序号 [line_num, 1]\n",
        "            if (index_min == result).all() or iter == CLUSTER_MAX_ITER:  #质心不变时停止\n",
        "                break;\n",
        "\n",
        "            result[:] = index_min  # 重新分类 [line_num, 1] 这些图片分别属于哪个cluster, index\n",
        "            for i in range(CLUSTER_NUMS):  # 遍历质心集\n",
        "                if len(input_x[result == i]) != 0:\n",
        "                    items = input_x[result == i]       # 找出对应当前质心的子样本集\n",
        "                    cores[i] = np.mean(items, axis=0)  # 以子样本集的均值作为当前质心的位置\n",
        "        \n",
        "        sorted_distance = np.sort(distance) # 将矩阵的每一行升序排列\n",
        "        min_distance = np.abs(sorted_distance[:, 0].reshape(line_num, 1)) #每个样本距离自己属于的cluster质心的距离\n",
        "        #\n",
        "        # Normalized distance\n",
        "        normalize_distance_torch = normalize_distance(input_x, cores, result, min_distance)\n",
        "        \n",
        "        #uncertainty = torch.cat((uncertainty, normalize_distance_torch), 0)  #min_distance大小与uncertainty大小正相关\n",
        "        \n",
        "        # sklearn 自带的方法, 怎么取出每个点离cluster的距离??\n",
        "        # # print(input_x)\n",
        "        # # print(\"x的值为：\")\n",
        "        # print(input_x.shape)\n",
        "        # k_means = KMeans(n_clusters=CLUSTER_NUMS, max_iter=CLUSTER_MAX_ITER).fit(input_x)  # 聚类\n",
        "        # cluster_labels = k_means.labels_  # 返回标签以及聚类中心\n",
        "        # cluster_center = k_means.cluster_centers_\n",
        "            \n",
        "    print(\">> Clustering Over:\")\n",
        "    return normalize_distance_torch.cpu()\n"
      ],
      "id": "bcc4b5fe",
      "execution_count": 17,
      "outputs": []
    },
    {
      "cell_type": "markdown",
      "metadata": {
        "id": "411a4edc"
      },
      "source": [
        "# main.py 里面的main函数"
      ],
      "id": "411a4edc"
    },
    {
      "cell_type": "code",
      "metadata": {
        "colab": {
          "base_uri": "https://localhost:8080/"
        },
        "id": "e7c84637",
        "outputId": "3679f30d-0d34-4a87-b7cb-ba42afeb02cd"
      },
      "source": [
        "\n",
        "##\n",
        "# Main\n",
        "if __name__ == '__main__':\n",
        "\n",
        "    for trial in range(TRIALS):\n",
        "        # Initialize a labeled dataset by randomly sampling K=ADDENDUM=1,000 data points from the entire dataset.\n",
        "        indices = list(range(NUM_TRAIN))\n",
        "        random.shuffle(indices)\n",
        "        START = 2 * ADDENDUM\n",
        "        labeled_set = indices[:START]\n",
        "        unlabeled_set = indices[START:]\n",
        "\n",
        "        train_loader = DataLoader(cifar10_train, batch_size=BATCH,  # BATCH\n",
        "                                  sampler=SubsetRandomSampler(labeled_set),\n",
        "                                  pin_memory=True)\n",
        "        test_loader = DataLoader(cifar10_test, batch_size=BATCH)\n",
        "\n",
        "        dataloaders = {'train': train_loader, 'test': test_loader}\n",
        "\n",
        "        # Model\n",
        "        #backbone_net = resnet.ResNet18().cuda() #记住这才是原本pycharm里面的\n",
        "        backbone_net = ResNet18().to(device)\n",
        "        \n",
        "        models = {'backbone': backbone_net}\n",
        "        torch.backends.cudnn.benchmark = True\n",
        "\n",
        "        # Active learning cycles\n",
        "        for cycle in range(CYCLES):\n",
        "            # Loss, criterion and scheduler (re)initialization\n",
        "            criterion = nn.CrossEntropyLoss(reduction='none')\n",
        "\n",
        "            optim_backbone = optim.SGD(models['backbone'].parameters(), lr=LR, momentum=MOMENTUM, weight_decay=WDECAY)\n",
        "\n",
        "            sched_backbone = lr_scheduler.MultiStepLR(optim_backbone, milestones=MILESTONES)\n",
        "\n",
        "            optimizers = {'backbone': optim_backbone}\n",
        "            schedulers = {'backbone': sched_backbone}\n",
        "\n",
        "            # Training and test\n",
        "            train(models, criterion, optimizers, schedulers, dataloaders, EPOCH, EPOCHL, cycle)\n",
        "            acc = test(models, dataloaders, mode='test')\n",
        "            print('Trial {}/{} || Cycle {}/{} || Label set size {}: Test acc {}'.format(trial + 1, TRIALS, cycle + 1,\n",
        "                                                                                        CYCLES, len(labeled_set), acc),\n",
        "                                                                                         flush=True)\n",
        "\n",
        "            ##\n",
        "            #  Update the labeled dataset via loss prediction-based uncertainty measurement\n",
        "\n",
        "            # Randomly sample 10000 unlabeled data points\n",
        "            random.shuffle(unlabeled_set)\n",
        "            subset = unlabeled_set[:SUBSET]\n",
        "\n",
        "            # Create unlabeled dataloader for the unlabeled subset\n",
        "            unlabeled_loader = DataLoader(cifar10_unlabeled, batch_size=BATCH,\n",
        "                                          sampler=SubsetSequentialSampler(subset),\n",
        "                                          # more convenient if we maintain the order of subset\n",
        "                                          pin_memory=True)\n",
        "\n",
        "            # Measure uncertainty of each data points in the subset\n",
        "            uncertainty = get_uncertainty(models, unlabeled_loader)\n",
        "            #print(\"main uncertainty: \", uncertainty)\n",
        "            uncertainty = uncertainty.T\n",
        "            # Index in ascending order\n",
        "            arg = np.argsort(uncertainty).numpy().tolist()\n",
        "            #print(\"main arg: \", arg) \n",
        "            \n",
        "            # Update the labeled dataset and the unlabeled dataset, respectively\n",
        "            labeled_set += list(torch.tensor(subset)[arg][-ADDENDUM:].numpy())  # select largest loss\n",
        "            unlabeled_set = list(torch.tensor(subset)[arg][:-ADDENDUM].numpy()) + unlabeled_set[SUBSET:]\n",
        "\n",
        "            # labeled_set += list(torch.tensor(subset)[arg][:ADDENDUM].numpy())  # select smallest influence\n",
        "            # unlabeled_set = list(torch.tensor(subset)[arg][ADDENDUM:].numpy()) + unlabeled_set[SUBSET:]\n",
        "\n",
        "            # Create a new dataloader for the updated labeled dataset\n",
        "            dataloaders['train'] = DataLoader(cifar10_train, batch_size=BATCH,  # BATCH\n",
        "                                              sampler=SubsetRandomSampler(labeled_set),\n",
        "                                              pin_memory=True)\n",
        "\n",
        "        # Save a checkpoint\n",
        "        torch.save({\n",
        "            'trial': trial + 1,\n",
        "            'state_dict_backbone': models['backbone'].state_dict()\n",
        "            # 'state_dict_module': models['module'].state_dict()\n",
        "        },\n",
        "            './cifar10/train/weights/active_resnet18_cifar10_trial{}.pth'.format(trial))\n",
        "\n",
        "        print('---------------------------Current Trial is done-----------------------------',flush=True)\n"
      ],
      "id": "e7c84637",
      "execution_count": 18,
      "outputs": [
        {
          "output_type": "stream",
          "text": [
            ">> Train a Model...\n",
            "Cycle: 1 Epoch: 1 --- Val Acc: 12.180 \t Best Acc: 12.180\n",
            "Cycle: 1 Epoch: 21 --- Val Acc: 40.740 \t Best Acc: 40.740\n",
            "Cycle: 1 Epoch: 41 --- Val Acc: 56.950 \t Best Acc: 56.950\n",
            "Cycle: 1 Epoch: 61 --- Val Acc: 63.100 \t Best Acc: 63.100\n",
            "Cycle: 1 Epoch: 81 --- Val Acc: 66.470 \t Best Acc: 66.470\n",
            "Cycle: 1 Epoch: 101 --- Val Acc: 67.820 \t Best Acc: 67.820\n",
            "Cycle: 1 Epoch: 121 --- Val Acc: 56.840 \t Best Acc: 67.820\n",
            "Cycle: 1 Epoch: 141 --- Val Acc: 72.850 \t Best Acc: 72.850\n",
            "Cycle: 1 Epoch: 161 --- Val Acc: 77.750 \t Best Acc: 77.750\n",
            "Cycle: 1 Epoch: 181 --- Val Acc: 78.840 \t Best Acc: 78.840\n",
            "Cycle: 1 Epoch: 200 --- Val Acc: 79.110 \t Best Acc: 79.110\n",
            ">> Finished.\n",
            "Trial 1/1 || Cycle 1/7 || Label set size 5000: Test acc 79.11\n",
            ">> Start clustering:\n",
            ">> Clustering Over:\n",
            ">> Train a Model...\n",
            "Cycle: 2 Epoch: 1 --- Val Acc: 73.870 \t Best Acc: 73.870\n",
            "Cycle: 2 Epoch: 21 --- Val Acc: 74.380 \t Best Acc: 74.380\n",
            "Cycle: 2 Epoch: 41 --- Val Acc: 71.080 \t Best Acc: 74.380\n",
            "Cycle: 2 Epoch: 61 --- Val Acc: 73.280 \t Best Acc: 74.380\n",
            "Cycle: 2 Epoch: 81 --- Val Acc: 75.680 \t Best Acc: 75.680\n",
            "Cycle: 2 Epoch: 101 --- Val Acc: 77.440 \t Best Acc: 77.440\n",
            "Cycle: 2 Epoch: 121 --- Val Acc: 75.950 \t Best Acc: 77.440\n",
            "Cycle: 2 Epoch: 141 --- Val Acc: 75.340 \t Best Acc: 77.440\n",
            "Cycle: 2 Epoch: 161 --- Val Acc: 82.370 \t Best Acc: 82.370\n",
            "Cycle: 2 Epoch: 181 --- Val Acc: 83.950 \t Best Acc: 83.950\n",
            "Cycle: 2 Epoch: 200 --- Val Acc: 84.230 \t Best Acc: 84.230\n",
            ">> Finished.\n",
            "Trial 1/1 || Cycle 2/7 || Label set size 7500: Test acc 84.23\n",
            ">> Start clustering:\n",
            ">> Clustering Over:\n",
            ">> Train a Model...\n",
            "Cycle: 3 Epoch: 1 --- Val Acc: 73.840 \t Best Acc: 73.840\n",
            "Cycle: 3 Epoch: 21 --- Val Acc: 77.470 \t Best Acc: 77.470\n",
            "Cycle: 3 Epoch: 41 --- Val Acc: 77.810 \t Best Acc: 77.810\n",
            "Cycle: 3 Epoch: 61 --- Val Acc: 78.500 \t Best Acc: 78.500\n",
            "Cycle: 3 Epoch: 81 --- Val Acc: 80.660 \t Best Acc: 80.660\n",
            "Cycle: 3 Epoch: 101 --- Val Acc: 78.330 \t Best Acc: 80.660\n",
            "Cycle: 3 Epoch: 121 --- Val Acc: 77.390 \t Best Acc: 80.660\n",
            "Cycle: 3 Epoch: 141 --- Val Acc: 78.810 \t Best Acc: 80.660\n",
            "Cycle: 3 Epoch: 161 --- Val Acc: 85.800 \t Best Acc: 85.800\n",
            "Cycle: 3 Epoch: 181 --- Val Acc: 86.740 \t Best Acc: 86.740\n",
            "Cycle: 3 Epoch: 200 --- Val Acc: 87.080 \t Best Acc: 87.080\n",
            ">> Finished.\n",
            "Trial 1/1 || Cycle 3/7 || Label set size 10000: Test acc 87.08\n",
            ">> Start clustering:\n",
            ">> Clustering Over:\n",
            ">> Train a Model...\n",
            "Cycle: 4 Epoch: 1 --- Val Acc: 79.910 \t Best Acc: 79.910\n",
            "Cycle: 4 Epoch: 21 --- Val Acc: 81.720 \t Best Acc: 81.720\n",
            "Cycle: 4 Epoch: 41 --- Val Acc: 80.060 \t Best Acc: 81.720\n",
            "Cycle: 4 Epoch: 61 --- Val Acc: 80.850 \t Best Acc: 81.720\n",
            "Cycle: 4 Epoch: 81 --- Val Acc: 81.190 \t Best Acc: 81.720\n",
            "Cycle: 4 Epoch: 101 --- Val Acc: 76.070 \t Best Acc: 81.720\n",
            "Cycle: 4 Epoch: 121 --- Val Acc: 77.910 \t Best Acc: 81.720\n",
            "Cycle: 4 Epoch: 141 --- Val Acc: 78.840 \t Best Acc: 81.720\n",
            "Cycle: 4 Epoch: 161 --- Val Acc: 87.670 \t Best Acc: 87.670\n",
            "Cycle: 4 Epoch: 181 --- Val Acc: 88.820 \t Best Acc: 88.820\n",
            "Cycle: 4 Epoch: 200 --- Val Acc: 88.890 \t Best Acc: 88.890\n",
            ">> Finished.\n",
            "Trial 1/1 || Cycle 4/7 || Label set size 12500: Test acc 88.89\n",
            ">> Start clustering:\n",
            ">> Clustering Over:\n",
            ">> Train a Model...\n",
            "Cycle: 5 Epoch: 1 --- Val Acc: 75.710 \t Best Acc: 75.710\n",
            "Cycle: 5 Epoch: 21 --- Val Acc: 80.400 \t Best Acc: 80.400\n",
            "Cycle: 5 Epoch: 41 --- Val Acc: 78.750 \t Best Acc: 80.400\n",
            "Cycle: 5 Epoch: 61 --- Val Acc: 80.660 \t Best Acc: 80.660\n",
            "Cycle: 5 Epoch: 81 --- Val Acc: 80.890 \t Best Acc: 80.890\n",
            "Cycle: 5 Epoch: 101 --- Val Acc: 79.590 \t Best Acc: 80.890\n",
            "Cycle: 5 Epoch: 121 --- Val Acc: 81.320 \t Best Acc: 81.320\n",
            "Cycle: 5 Epoch: 141 --- Val Acc: 77.380 \t Best Acc: 81.320\n",
            "Cycle: 5 Epoch: 161 --- Val Acc: 88.990 \t Best Acc: 88.990\n",
            "Cycle: 5 Epoch: 181 --- Val Acc: 90.060 \t Best Acc: 90.060\n",
            "Cycle: 5 Epoch: 200 --- Val Acc: 90.370 \t Best Acc: 90.370\n",
            ">> Finished.\n",
            "Trial 1/1 || Cycle 5/7 || Label set size 15000: Test acc 90.37\n",
            ">> Start clustering:\n",
            ">> Clustering Over:\n",
            ">> Train a Model...\n",
            "Cycle: 6 Epoch: 1 --- Val Acc: 70.010 \t Best Acc: 70.010\n",
            "Cycle: 6 Epoch: 21 --- Val Acc: 82.140 \t Best Acc: 82.140\n",
            "Cycle: 6 Epoch: 41 --- Val Acc: 81.150 \t Best Acc: 82.140\n",
            "Cycle: 6 Epoch: 61 --- Val Acc: 79.500 \t Best Acc: 82.140\n",
            "Cycle: 6 Epoch: 81 --- Val Acc: 82.010 \t Best Acc: 82.140\n",
            "Cycle: 6 Epoch: 101 --- Val Acc: 81.000 \t Best Acc: 82.140\n",
            "Cycle: 6 Epoch: 121 --- Val Acc: 82.760 \t Best Acc: 82.760\n",
            "Cycle: 6 Epoch: 141 --- Val Acc: 82.990 \t Best Acc: 82.990\n",
            "Cycle: 6 Epoch: 161 --- Val Acc: 89.730 \t Best Acc: 89.730\n",
            "Cycle: 6 Epoch: 181 --- Val Acc: 91.160 \t Best Acc: 91.160\n",
            "Cycle: 6 Epoch: 200 --- Val Acc: 91.210 \t Best Acc: 91.210\n",
            ">> Finished.\n",
            "Trial 1/1 || Cycle 6/7 || Label set size 17500: Test acc 91.21\n",
            ">> Start clustering:\n",
            ">> Clustering Over:\n",
            ">> Train a Model...\n",
            "Cycle: 7 Epoch: 1 --- Val Acc: 77.940 \t Best Acc: 77.940\n",
            "Cycle: 7 Epoch: 21 --- Val Acc: 84.490 \t Best Acc: 84.490\n",
            "Cycle: 7 Epoch: 41 --- Val Acc: 85.230 \t Best Acc: 85.230\n",
            "Cycle: 7 Epoch: 61 --- Val Acc: 83.060 \t Best Acc: 85.230\n",
            "Cycle: 7 Epoch: 81 --- Val Acc: 82.510 \t Best Acc: 85.230\n",
            "Cycle: 7 Epoch: 101 --- Val Acc: 82.370 \t Best Acc: 85.230\n",
            "Cycle: 7 Epoch: 121 --- Val Acc: 83.430 \t Best Acc: 85.230\n",
            "Cycle: 7 Epoch: 141 --- Val Acc: 81.550 \t Best Acc: 85.230\n",
            "Cycle: 7 Epoch: 161 --- Val Acc: 90.820 \t Best Acc: 90.820\n",
            "Cycle: 7 Epoch: 181 --- Val Acc: 92.240 \t Best Acc: 92.240\n",
            "Cycle: 7 Epoch: 200 --- Val Acc: 92.340 \t Best Acc: 92.340\n",
            ">> Finished.\n",
            "Trial 1/1 || Cycle 7/7 || Label set size 20000: Test acc 92.34\n",
            ">> Start clustering:\n",
            ">> Clustering Over:\n",
            "---------------------------Current Trial is done-----------------------------\n"
          ],
          "name": "stdout"
        }
      ]
    }
  ]
}