{
  "nbformat": 4,
  "nbformat_minor": 5,
  "metadata": {
    "accelerator": "GPU",
    "colab": {
      "name": "c10_AL_code_第七版_Normalize的距离差.ipynb",
      "provenance": [],
      "collapsed_sections": [
        "6694aee5",
        "12149227",
        "ad37c670",
        "08c18965",
        "91114054",
        "280a2c17",
        "8427241c"
      ]
    },
    "kernelspec": {
      "display_name": "Python 3",
      "language": "python",
      "name": "python3"
    },
    "language_info": {
      "codemirror_mode": {
        "name": "ipython",
        "version": 3
      },
      "file_extension": ".py",
      "mimetype": "text/x-python",
      "name": "python",
      "nbconvert_exporter": "python",
      "pygments_lexer": "ipython3",
      "version": "3.8.5"
    },
    "toc": {
      "base_numbering": 1,
      "nav_menu": {},
      "number_sections": true,
      "sideBar": true,
      "skip_h1_title": false,
      "title_cell": "Table of Contents",
      "title_sidebar": "Contents",
      "toc_cell": false,
      "toc_position": {},
      "toc_section_display": true,
      "toc_window_display": false
    }
  },
  "cells": [
    {
      "cell_type": "markdown",
      "metadata": {
        "id": "CKEqWluDTla_"
      },
      "source": [
        "# Google Colab 准备工作"
      ],
      "id": "CKEqWluDTla_"
    },
    {
      "cell_type": "code",
      "metadata": {
        "colab": {
          "base_uri": "https://localhost:8080/",
          "height": 103
        },
        "id": "7Ih0CfNODItq",
        "outputId": "1a877a23-820c-417d-b0b2-4e7baf75b54d"
      },
      "source": [
        "'''\n",
        "!apt-get install -y -qq software-properties-common python-software-properties module-init-tools\n",
        "!add-apt-repository -y ppa:alessandro-strada/ppa 2>&1 > /dev/null\n",
        "!apt-get update -qq 2>&1 > /dev/null\n",
        "!apt-get -y install -qq google-drive-ocamlfuse fuse\n",
        "from google.colab import auth\n",
        "auth.authenticate_user()\n",
        "from oauth2client.client import GoogleCredentials\n",
        "creds = GoogleCredentials.get_application_default()\n",
        "import getpass\n",
        "!google-drive-ocamlfuse -headless -id={creds.client_id} -secret={creds.client_secret} < /dev/null 2>&1 | grep URL\n",
        "vcode = getpass.getpass()\n",
        "!echo {vcode} | google-drive-ocamlfuse -headless -id={creds.client_id} -secret={creds.client_secret}\n",
        "'''"
      ],
      "id": "7Ih0CfNODItq",
      "execution_count": 126,
      "outputs": [
        {
          "output_type": "execute_result",
          "data": {
            "application/vnd.google.colaboratory.intrinsic+json": {
              "type": "string"
            },
            "text/plain": [
              "'\\n!apt-get install -y -qq software-properties-common python-software-properties module-init-tools\\n!add-apt-repository -y ppa:alessandro-strada/ppa 2>&1 > /dev/null\\n!apt-get update -qq 2>&1 > /dev/null\\n!apt-get -y install -qq google-drive-ocamlfuse fuse\\nfrom google.colab import auth\\nauth.authenticate_user()\\nfrom oauth2client.client import GoogleCredentials\\ncreds = GoogleCredentials.get_application_default()\\nimport getpass\\n!google-drive-ocamlfuse -headless -id={creds.client_id} -secret={creds.client_secret} < /dev/null 2>&1 | grep URL\\nvcode = getpass.getpass()\\n!echo {vcode} | google-drive-ocamlfuse -headless -id={creds.client_id} -secret={creds.client_secret}\\n'"
            ]
          },
          "metadata": {
            "tags": []
          },
          "execution_count": 126
        }
      ]
    },
    {
      "cell_type": "code",
      "metadata": {
        "colab": {
          "base_uri": "https://localhost:8080/",
          "height": 35
        },
        "id": "08eGFWBxDb6J",
        "outputId": "c598d49b-c885-40f0-95c0-1c6ecbb7343c"
      },
      "source": [
        "'''\n",
        "!mkdir -p drive\n",
        "!google-drive-ocamlfuse drive\n",
        "\n",
        "from google.colab import drive\n",
        "drive.mount('/content/drive')\n",
        "'''"
      ],
      "id": "08eGFWBxDb6J",
      "execution_count": 127,
      "outputs": [
        {
          "output_type": "execute_result",
          "data": {
            "application/vnd.google.colaboratory.intrinsic+json": {
              "type": "string"
            },
            "text/plain": [
              "\"\\n!mkdir -p drive\\n!google-drive-ocamlfuse drive\\n\\nfrom google.colab import drive\\ndrive.mount('/content/drive')\\n\""
            ]
          },
          "metadata": {
            "tags": []
          },
          "execution_count": 127
        }
      ]
    },
    {
      "cell_type": "code",
      "metadata": {
        "colab": {
          "base_uri": "https://localhost:8080/"
        },
        "id": "7wFhHPc5RKif",
        "outputId": "9238b88a-ffc7-4339-d5c1-817c7f4468c9"
      },
      "source": [
        "!pip install torchvision"
      ],
      "id": "7wFhHPc5RKif",
      "execution_count": 128,
      "outputs": [
        {
          "output_type": "stream",
          "text": [
            "Requirement already satisfied: torchvision in /usr/local/lib/python3.7/dist-packages (0.9.1+cu101)\n",
            "Requirement already satisfied: torch==1.8.1 in /usr/local/lib/python3.7/dist-packages (from torchvision) (1.8.1+cu101)\n",
            "Requirement already satisfied: pillow>=4.1.1 in /usr/local/lib/python3.7/dist-packages (from torchvision) (7.1.2)\n",
            "Requirement already satisfied: numpy in /usr/local/lib/python3.7/dist-packages (from torchvision) (1.19.5)\n",
            "Requirement already satisfied: typing-extensions in /usr/local/lib/python3.7/dist-packages (from torch==1.8.1->torchvision) (3.7.4.3)\n"
          ],
          "name": "stdout"
        }
      ]
    },
    {
      "cell_type": "code",
      "metadata": {
        "colab": {
          "base_uri": "https://localhost:8080/"
        },
        "id": "tFsQizA6kUmx",
        "outputId": "0b1c9d29-a0e5-4b32-f230-6f6aceb22ef6"
      },
      "source": [
        "!nvidia-smi"
      ],
      "id": "tFsQizA6kUmx",
      "execution_count": 129,
      "outputs": [
        {
          "output_type": "stream",
          "text": [
            "Tue Jun  8 10:23:38 2021       \n",
            "+-----------------------------------------------------------------------------+\n",
            "| NVIDIA-SMI 465.27       Driver Version: 460.32.03    CUDA Version: 11.2     |\n",
            "|-------------------------------+----------------------+----------------------+\n",
            "| GPU  Name        Persistence-M| Bus-Id        Disp.A | Volatile Uncorr. ECC |\n",
            "| Fan  Temp  Perf  Pwr:Usage/Cap|         Memory-Usage | GPU-Util  Compute M. |\n",
            "|                               |                      |               MIG M. |\n",
            "|===============================+======================+======================|\n",
            "|   0  Tesla P100-PCIE...  Off  | 00000000:00:04.0 Off |                    0 |\n",
            "| N/A   61C    P0    41W / 250W |   2413MiB / 16280MiB |      0%      Default |\n",
            "|                               |                      |                  N/A |\n",
            "+-------------------------------+----------------------+----------------------+\n",
            "                                                                               \n",
            "+-----------------------------------------------------------------------------+\n",
            "| Processes:                                                                  |\n",
            "|  GPU   GI   CI        PID   Type   Process name                  GPU Memory |\n",
            "|        ID   ID                                                   Usage      |\n",
            "|=============================================================================|\n",
            "+-----------------------------------------------------------------------------+\n"
          ],
          "name": "stdout"
        }
      ]
    },
    {
      "cell_type": "code",
      "metadata": {
        "id": "qPZGxjcmWiOG"
      },
      "source": [
        "#!pip install mxnet-cu112 # 没用着呢\n",
        "#!pip install minpy"
      ],
      "id": "qPZGxjcmWiOG",
      "execution_count": 130,
      "outputs": []
    },
    {
      "cell_type": "code",
      "metadata": {
        "colab": {
          "base_uri": "https://localhost:8080/"
        },
        "id": "smjt0fCkRKzZ",
        "outputId": "a6ffecc9-6261-474c-a3b7-d86d28cf1598"
      },
      "source": [
        "import torch \n",
        "x = torch.empty(5,3)\n",
        "print(x)"
      ],
      "id": "smjt0fCkRKzZ",
      "execution_count": 131,
      "outputs": [
        {
          "output_type": "stream",
          "text": [
            "tensor([[7.1154e-25, 3.0771e-41, 2.0100e-01],\n",
            "        [0.0000e+00,        nan, 0.0000e+00],\n",
            "        [4.2963e+24, 2.0869e-10, 2.8175e+20],\n",
            "        [4.1962e-08, 6.4832e-10, 6.8989e-07],\n",
            "        [5.1622e-39, 3.0771e-41, 1.6270e-30]])\n"
          ],
          "name": "stdout"
        }
      ]
    },
    {
      "cell_type": "markdown",
      "metadata": {
        "id": "6694aee5"
      },
      "source": [
        "# main.py 前面import"
      ],
      "id": "6694aee5"
    },
    {
      "cell_type": "code",
      "metadata": {
        "id": "9914fdc7"
      },
      "source": [
        "# -*- coding: UTF-8 -*-\n",
        "# Python\n",
        "import os\n",
        "import random\n",
        "\n",
        "# Torch\n",
        "import torch\n",
        "import numpy as np  #注意这里改了，改成能用GPU的numpy了\n",
        "import torch.nn as nn\n",
        "import torch.optim as optim\n",
        "from numpy.core._multiarray_umath import ndarray\n",
        "from sklearn.cluster import KMeans\n",
        "from torch.utils.data import DataLoader\n",
        "import torch.optim.lr_scheduler as lr_scheduler\n",
        "from torch.utils.data.sampler import SubsetRandomSampler\n",
        "import torch.nn.functional as F\n",
        "from torch.autograd import Variable\n",
        "from torch.distributions import Categorical\n",
        "\n",
        "# Torchvison\n",
        "import torchvision.transforms as T\n",
        "import torchvision.models as models\n",
        "from torchvision.datasets import CIFAR100, CIFAR10\n",
        "# from influence import *\n",
        "\n",
        "# Utils\n",
        "# import visdom\n",
        "# from tqdm import tqdm\n",
        "\n",
        "# Custom\n",
        "#import models.resnet as resnet\n",
        "#from config import *\n",
        "#from data.sampler import SubsetSequentialSampler\n",
        "\n",
        "# import copy\n",
        "\n",
        "#os.environ[\"CUDA_DEVICE_ORDER\"] = \"PCI_BUS_ID\"\n",
        "#os.environ[\"CUDA_VISIBLE_DEVICES\"] = \"0\"\n"
      ],
      "id": "9914fdc7",
      "execution_count": 132,
      "outputs": []
    },
    {
      "cell_type": "markdown",
      "metadata": {
        "id": "fbe61243"
      },
      "source": [
        "# config.py"
      ],
      "id": "fbe61243"
    },
    {
      "cell_type": "code",
      "metadata": {
        "colab": {
          "base_uri": "https://localhost:8080/",
          "height": 69
        },
        "id": "d29a58de",
        "outputId": "78cd1801-5c51-4c37-d590-2509920c80ec"
      },
      "source": [
        "##\n",
        "# Learning Loss for Active Learning\n",
        "NUM_TRAIN = 50000 # N\n",
        "NUM_VAL   = 50000 - NUM_TRAIN\n",
        "BATCH     = 128  # 128 # B  注意，这里本来是是128\n",
        "SUBSET    = 25000 # M  # 本来是25000\n",
        "ADDENDUM  = 2500  # K   # 本来是2500\n",
        "\n",
        "MARGIN = 1.0  # xi\n",
        "WEIGHT = 1.0  # 1.0 # lambda\n",
        "\n",
        "TRIALS = 1\n",
        "CYCLES = 7   # 本来应该是7\n",
        "\n",
        "EPOCH = 200 # 本来是200\n",
        "LR = 0.1    # 0.1 for SGD\n",
        "MILESTONES = [160]\n",
        "EPOCHL = 120 # After 120 epochs, stop the gradient from the loss prediction module propagated to the target model\n",
        "\n",
        "MOMENTUM = 0.9\n",
        "WDECAY = 5e-4\n",
        "\n",
        "CLUSTER_NUMS = 10 # 新加的，聚类的cluster 数量\n",
        "CLUSTER_MAX_ITER = 10000 # 新加的，聚类的迭代次数，本来是10000\n",
        "\n",
        "\n",
        "''' CIFAR-10 | ResNet-18 | 93.6%\n",
        "NUM_TRAIN = 50000 # N\n",
        "NUM_VAL   = 50000 - NUM_TRAIN\n",
        "BATCH     = 128 # B\n",
        "SUBSET    = NUM_TRAIN # M\n",
        "ADDENDUM  = NUM_TRAIN # K\n",
        "\n",
        "MARGIN = 1.0 # xi\n",
        "WEIGHT = 0.0 # lambda\n",
        "\n",
        "TRIALS = 1\n",
        "CYCLES = 1\n",
        "\n",
        "EPOCH = 50\n",
        "LR = 0.1\n",
        "MILESTONES = [25, 35]\n",
        "EPOCHL = 40\n",
        "\n",
        "MOMENTUM = 0.9\n",
        "WDECAY = 5e-4\n",
        "'''\n"
      ],
      "id": "d29a58de",
      "execution_count": 133,
      "outputs": [
        {
          "output_type": "execute_result",
          "data": {
            "application/vnd.google.colaboratory.intrinsic+json": {
              "type": "string"
            },
            "text/plain": [
              "' CIFAR-10 | ResNet-18 | 93.6%\\nNUM_TRAIN = 50000 # N\\nNUM_VAL   = 50000 - NUM_TRAIN\\nBATCH     = 128 # B\\nSUBSET    = NUM_TRAIN # M\\nADDENDUM  = NUM_TRAIN # K\\n\\nMARGIN = 1.0 # xi\\nWEIGHT = 0.0 # lambda\\n\\nTRIALS = 1\\nCYCLES = 1\\n\\nEPOCH = 50\\nLR = 0.1\\nMILESTONES = [25, 35]\\nEPOCHL = 40\\n\\nMOMENTUM = 0.9\\nWDECAY = 5e-4\\n'"
            ]
          },
          "metadata": {
            "tags": []
          },
          "execution_count": 133
        }
      ]
    },
    {
      "cell_type": "markdown",
      "metadata": {
        "id": "12149227"
      },
      "source": [
        "# device设置成CPU或GPU "
      ],
      "id": "12149227"
    },
    {
      "cell_type": "code",
      "metadata": {
        "colab": {
          "base_uri": "https://localhost:8080/"
        },
        "id": "ed3207d4",
        "outputId": "900452f3-156d-48de-86c3-70d0508fe0b5"
      },
      "source": [
        "#\n",
        "# 加一个device\n",
        "device = torch.device(\"cuda:0\" if torch.cuda.is_available() else \"cpu\")\n",
        "print(torch.cuda.is_available())"
      ],
      "id": "ed3207d4",
      "execution_count": 134,
      "outputs": [
        {
          "output_type": "stream",
          "text": [
            "True\n"
          ],
          "name": "stdout"
        }
      ]
    },
    {
      "cell_type": "markdown",
      "metadata": {
        "id": "ad37c670"
      },
      "source": [
        "# sampler.py"
      ],
      "id": "ad37c670"
    },
    {
      "cell_type": "code",
      "metadata": {
        "id": "8fd8a205"
      },
      "source": [
        "class SubsetSequentialSampler(torch.utils.data.Sampler):\n",
        "    r\"\"\"Samples elements sequentially from a given list of indices, without replacement.\n",
        "\n",
        "    Arguments:\n",
        "        indices (sequence): a sequence of indices\n",
        "    \"\"\"\n",
        "\n",
        "    def __init__(self, indices):\n",
        "        self.indices = indices\n",
        "\n",
        "    def __iter__(self):\n",
        "        return (self.indices[i] for i in range(len(self.indices)))\n",
        "\n",
        "    def __len__(self):\n",
        "        return len(self.indices)\n"
      ],
      "id": "8fd8a205",
      "execution_count": 135,
      "outputs": []
    },
    {
      "cell_type": "markdown",
      "metadata": {
        "id": "08c18965"
      },
      "source": [
        "\n",
        "# main.py 里面的data"
      ],
      "id": "08c18965"
    },
    {
      "cell_type": "code",
      "metadata": {
        "colab": {
          "base_uri": "https://localhost:8080/"
        },
        "id": "cdbe408f",
        "outputId": "8de58461-8e37-45c5-e61a-2420db8c9ede"
      },
      "source": [
        "##\n",
        "# Data\n",
        "train_transform = T.Compose([\n",
        "    T.RandomHorizontalFlip(),\n",
        "    T.RandomCrop(size=32, padding=4),\n",
        "    T.ToTensor(),\n",
        "    T.Normalize([0.4914, 0.4822, 0.4465], [0.2023, 0.1994, 0.2010])\n",
        "])\n",
        "\n",
        "test_transform = T.Compose([\n",
        "    T.ToTensor(),\n",
        "    T.Normalize([0.4914, 0.4822, 0.4465], [0.2023, 0.1994, 0.2010])\n",
        "])\n",
        "\n",
        "cifar10_train = CIFAR10('../cifar10', train=True, download=True, transform=train_transform)  # specify data path here\n",
        "cifar10_unlabeled = CIFAR10('../cifar10', train=True, download=True, transform=test_transform)\n",
        "cifar10_test = CIFAR10('../cifar10', train=False, download=True, transform=test_transform)\n",
        "\n",
        "##\n",
        "# Train Utils\n",
        "iters = 0\n"
      ],
      "id": "cdbe408f",
      "execution_count": 136,
      "outputs": [
        {
          "output_type": "stream",
          "text": [
            "Files already downloaded and verified\n",
            "Files already downloaded and verified\n",
            "Files already downloaded and verified\n"
          ],
          "name": "stdout"
        }
      ]
    },
    {
      "cell_type": "markdown",
      "metadata": {
        "id": "91114054"
      },
      "source": [
        "# resnet.py"
      ],
      "id": "91114054"
    },
    {
      "cell_type": "code",
      "metadata": {
        "id": "36b3fb7f"
      },
      "source": [
        "#import torch\n",
        "#import torch.nn as nn\n",
        "#import torch.nn.functional as F\n",
        "\n",
        "\n",
        "class BasicBlock(nn.Module):\n",
        "    expansion = 1\n",
        "\n",
        "    def __init__(self, in_planes, planes, stride=1):\n",
        "        super(BasicBlock, self).__init__()\n",
        "        self.conv1 = nn.Conv2d(in_planes, planes, kernel_size=3, stride=stride, padding=1, bias=False)\n",
        "        self.bn1 = nn.BatchNorm2d(planes)\n",
        "        self.conv2 = nn.Conv2d(planes, planes, kernel_size=3, stride=1, padding=1, bias=False)\n",
        "        self.bn2 = nn.BatchNorm2d(planes)\n",
        "\n",
        "        self.shortcut = nn.Sequential()\n",
        "        if stride != 1 or in_planes != self.expansion*planes:\n",
        "            self.shortcut = nn.Sequential(\n",
        "                nn.Conv2d(in_planes, self.expansion*planes, kernel_size=1, stride=stride, bias=False),\n",
        "                nn.BatchNorm2d(self.expansion*planes)\n",
        "            )\n",
        "\n",
        "    def forward(self, x):\n",
        "        out = F.relu(self.bn1(self.conv1(x)))\n",
        "        out = self.bn2(self.conv2(out))\n",
        "        out += self.shortcut(x)\n",
        "        out = F.relu(out)\n",
        "        return out\n",
        "\n",
        "\n",
        "class Bottleneck(nn.Module):\n",
        "    expansion = 4\n",
        "\n",
        "    def __init__(self, in_planes, planes, stride=1):\n",
        "        super(Bottleneck, self).__init__()\n",
        "        self.conv1 = nn.Conv2d(in_planes, planes, kernel_size=1, bias=False)\n",
        "        self.bn1 = nn.BatchNorm2d(planes)\n",
        "        self.conv2 = nn.Conv2d(planes, planes, kernel_size=3, stride=stride, padding=1, bias=False)\n",
        "        self.bn2 = nn.BatchNorm2d(planes)\n",
        "        self.conv3 = nn.Conv2d(planes, self.expansion*planes, kernel_size=1, bias=False)\n",
        "        self.bn3 = nn.BatchNorm2d(self.expansion*planes)\n",
        "\n",
        "        self.shortcut = nn.Sequential()\n",
        "        if stride != 1 or in_planes != self.expansion*planes:\n",
        "            self.shortcut = nn.Sequential(\n",
        "                nn.Conv2d(in_planes, self.expansion*planes, kernel_size=1, stride=stride, bias=False),\n",
        "                nn.BatchNorm2d(self.expansion*planes)\n",
        "            )\n",
        "\n",
        "    def forward(self, x):\n",
        "        out = F.relu(self.bn1(self.conv1(x)))\n",
        "        out = F.relu(self.bn2(self.conv2(out)))\n",
        "        out = self.bn3(self.conv3(out))\n",
        "        out += self.shortcut(x)\n",
        "        out = F.relu(out)\n",
        "        return out\n",
        "\n",
        "\n",
        "class ResNet(nn.Module):\n",
        "    def __init__(self, block, num_blocks, num_classes=10):\n",
        "        super(ResNet, self).__init__()\n",
        "        self.in_planes = 64\n",
        "\n",
        "        self.conv1 = nn.Conv2d(3, 64, kernel_size=3, stride=1, padding=1, bias=False)\n",
        "        self.bn1 = nn.BatchNorm2d(64)\n",
        "        self.layer1 = self._make_layer(block, 64, num_blocks[0], stride=1)\n",
        "        self.layer2 = self._make_layer(block, 128, num_blocks[1], stride=2)\n",
        "        self.layer3 = self._make_layer(block, 256, num_blocks[2], stride=2)\n",
        "        self.layer4 = self._make_layer(block, 512, num_blocks[3], stride=2)\n",
        "        self.linear = nn.Linear(512*block.expansion, num_classes)\n",
        "        self.linear1 = nn.Linear(512*block.expansion, num_classes)\n",
        "\n",
        "    def _make_layer(self, block, planes, num_blocks, stride):\n",
        "        strides = [stride] + [1]*(num_blocks-1)\n",
        "        layers = []\n",
        "        for stride in strides:\n",
        "            layers.append(block(self.in_planes, planes, stride))\n",
        "            self.in_planes = planes * block.expansion\n",
        "        return nn.Sequential(*layers)\n",
        "\n",
        "    def forward(self, x):\n",
        "        out = F.relu(self.bn1(self.conv1(x)))\n",
        "        out1 = self.layer1(out)\n",
        "        out2 = self.layer2(out1)\n",
        "        out3 = self.layer3(out2)\n",
        "        out4 = self.layer4(out3)\n",
        "        out5 = F.avg_pool2d(out4, 4)\n",
        "        out5 = out5.view(out5.size(0), -1)     # [128, 512]\n",
        "        out = self.linear(out5)\n",
        "        out_cons = self.linear1(out5)\n",
        "\n",
        "        return out, out_cons, out5, [out1, out2, out3, out4]\n",
        "\n",
        "\n",
        "def ResNet18():\n",
        "    return ResNet(BasicBlock, [2,2,2,2])\n",
        "\n",
        "def ResNet18_student():\n",
        "    return ResNet(BasicBlock, [1,1,1,1])\n",
        "\n",
        "def ResNet34():\n",
        "    return ResNet(BasicBlock, [3,4,6,3])\n",
        "\n",
        "def ResNet50():\n",
        "    return ResNet(Bottleneck, [3,4,6,3])\n",
        "\n",
        "def ResNet101():\n",
        "    return ResNet(Bottleneck, [3,4,23,3])\n",
        "\n",
        "def ResNet152():\n",
        "    return ResNet(Bottleneck, [3,8,36,3])\n",
        "\n"
      ],
      "id": "36b3fb7f",
      "execution_count": 137,
      "outputs": []
    },
    {
      "cell_type": "markdown",
      "metadata": {
        "id": "280a2c17"
      },
      "source": [
        "# main.py 里面的train_epoch函数"
      ],
      "id": "280a2c17"
    },
    {
      "cell_type": "code",
      "metadata": {
        "id": "5e52d13f"
      },
      "source": [
        "#\n",
        "def train_epoch(models, criterion, optimizers, dataloaders, epoch, epoch_loss):\n",
        "    models['backbone'].train()\n",
        "    global iters\n",
        "\n",
        "    for data in dataloaders['train']:\n",
        "        inputs = data[0].to(device)\n",
        "        labels = data[1].to(device)\n",
        "        iters += 1\n",
        "\n",
        "        optimizers['backbone'].zero_grad()\n",
        "\n",
        "        scores, _, _, features_list = models['backbone'](inputs)\n",
        "        target_loss = criterion(scores, labels)\n",
        "\n",
        "        m_backbone_loss = torch.sum(target_loss) / target_loss.size(0)\n",
        "        loss = m_backbone_loss\n",
        "        loss.backward()\n",
        "        optimizers['backbone'].step()\n"
      ],
      "id": "5e52d13f",
      "execution_count": 138,
      "outputs": []
    },
    {
      "cell_type": "markdown",
      "metadata": {
        "id": "8427241c"
      },
      "source": [
        "# main.py 里面的test函数"
      ],
      "id": "8427241c"
    },
    {
      "cell_type": "code",
      "metadata": {
        "id": "e0a4bf72"
      },
      "source": [
        "#\n",
        "def test(models, dataloaders, mode='val'):\n",
        "    assert mode == 'val' or mode == 'test'\n",
        "    models['backbone'].eval()\n",
        "\n",
        "    total = 0\n",
        "    correct = 0\n",
        "    with torch.no_grad():\n",
        "        for (inputs, labels) in dataloaders[mode]:\n",
        "            #inputs = inputs.cuda()这才是prcharm原来的\n",
        "            inputs = inputs.to(device)\n",
        "            #labels = labels.cuda()这才是prcharm原来的\n",
        "            labels = labels.to(device)\n",
        "            scores, _, _, _ = models['backbone'](inputs)\n",
        "            _, preds = torch.max(scores.data, 1)\n",
        "            total += labels.size(0)\n",
        "            correct += (preds == labels).sum().item()\n",
        "\n",
        "    return 100 * correct / total"
      ],
      "id": "e0a4bf72",
      "execution_count": 139,
      "outputs": []
    },
    {
      "cell_type": "markdown",
      "metadata": {
        "id": "c901cd5a"
      },
      "source": [
        "# main.py里面的train函数"
      ],
      "id": "c901cd5a"
    },
    {
      "cell_type": "code",
      "metadata": {
        "id": "e1e24b49"
      },
      "source": [
        "#\n",
        "def train(models, criterion, optimizers, schedulers, dataloaders, num_epochs, epoch_loss, cycle):\n",
        "    print('>> Train a Model...')\n",
        "    best_acc = 0.\n",
        "    checkpoint_dir = os.path.join('./cifar10', 'train', 'weights')\n",
        "    if not os.path.exists(checkpoint_dir):\n",
        "        os.makedirs(checkpoint_dir)\n",
        "\n",
        "    for epoch in range(num_epochs):\n",
        "\n",
        "        train_epoch(models, criterion, optimizers, dataloaders, epoch, epoch_loss)\n",
        "        schedulers['backbone'].step()\n",
        "\n",
        "        # Save a checkpoint\n",
        "        if epoch % 20 == 0 or epoch == EPOCH - 1:\n",
        "            acc = test(models, dataloaders, 'test')\n",
        "            if best_acc < acc:\n",
        "                best_acc = acc\n",
        "                torch.save({\n",
        "                    'epoch': epoch + 1,\n",
        "                    'state_dict_backbone': models['backbone'].state_dict()\n",
        "                    # 'state_dict_module': models['module'].state_dict()\n",
        "                },\n",
        "                    '%s/active_resnet18_cifar10.pth' % (checkpoint_dir))\n",
        "            print('Cycle:', cycle + 1, 'Epoch:', epoch + 1, \"---\", 'Val Acc: {:.3f} \\t Best Acc: {:.3f}'.format(acc, best_acc),flush=True)\n",
        "            \n",
        "    print('>> Finished.')\n"
      ],
      "id": "e1e24b49",
      "execution_count": 140,
      "outputs": []
    },
    {
      "cell_type": "markdown",
      "metadata": {
        "id": "wUgR7HIvoGJU"
      },
      "source": [
        "# Normalize distance"
      ],
      "id": "wUgR7HIvoGJU"
    },
    {
      "cell_type": "code",
      "metadata": {
        "id": "_suoMlUnnfVn"
      },
      "source": [
        "#\n",
        "# Normalized distance\n",
        "def normalize_distance(input_x, cores, result, min_distance):\n",
        "    average_distance = np.empty(CLUSTER_NUMS, dtype=np.float32) #每个cluster里所有样本距离core的平均距离\n",
        "    standard_dev = np.empty(CLUSTER_NUMS, dtype=np.float32) #每个cluster里所有样本距离core的 标准差\n",
        "    line_num, column_num = input_x.shape\n",
        "    normalized_distance = np.empty((line_num, 1), dtype=np.float32)\n",
        "    for i in range(CLUSTER_NUMS):  # 遍历质心集\n",
        "        if len(input_x[result == i]) != 0:\n",
        "            items = input_x[result == i]       # 找出对应当前质心的子样本集\n",
        "            cores[i] = np.mean(items, axis=0)\n",
        "                    \n",
        "            d_abs = np.abs(items - cores[i])\n",
        "            d_square = np.square(d_abs)\n",
        "            total_distance = np.sqrt(np.sum(d_square, axis=1)) # 在这个cluster中每个样本距离自己core的距离\n",
        "            average_distance[i] = np.mean(total_distance, axis = 0) # 这个cluster中样本距离core的平均距离,一个数\n",
        "            standard_dev[i] = np.std(total_distance, axis=0) #标准差, 一个数\n",
        "            \n",
        "            normalized_distance[result == i] = (min_distance[result == i] - average_distance[i])/standard_dev[i]\n",
        "            normalized_distance_torch = torch.from_numpy(normalized_distance)\n",
        "            #print(normalized_distance_torch)\n",
        "    \n",
        "    print(\"standard_dev\", standard_dev)\n",
        "    \n",
        "    return normalized_distance_torch, average_distance, standard_dev\n"
      ],
      "id": "_suoMlUnnfVn",
      "execution_count": 141,
      "outputs": []
    },
    {
      "cell_type": "markdown",
      "metadata": {
        "id": "71b264b6"
      },
      "source": [
        "# main.py里面的get_uncertainty函数"
      ],
      "id": "71b264b6"
    },
    {
      "cell_type": "code",
      "metadata": {
        "id": "bcc4b5fe"
      },
      "source": [
        "#\n",
        "def get_uncertainty(models, unlabeled_loader):\n",
        "    models['backbone'].eval()\n",
        "    #uncertainty = torch.tensor([]).to(device)  #这是原来版本，聚类先不用GPU，用CPU可以用numpy\n",
        "    uncertainty = torch.tensor([])\n",
        "    all_features = torch.tensor([]).to(device)\n",
        "\n",
        "    with torch.no_grad():\n",
        "        print(\">> Start clustering:\")\n",
        "        for (inputs, labels) in unlabeled_loader:\n",
        "            #inputs = inputs.cuda()这才是pycharm原来的\n",
        "            inputs = inputs.to(device)\n",
        "            \n",
        "            scores, _, total_feature, features = models['backbone'](inputs)\n",
        "            # total_feature: [SUBSET,512], SUBSET是行 = 128，是batch_size，也就是图片个数，512是列，是resnet展平的feature个数\n",
        "            \n",
        "            # 这是原来版本，计算关键点 因为KMeans.fix(X[,y) X是需要2D 而不是1D\n",
        "            all_features = torch.cat((all_features, total_feature), axis = 0)\n",
        "\n",
        "        input_x = all_features.cpu().numpy()\n",
        "        line_num, column_num = input_x.shape  # line_num：样本数量，column_num：每个样本的feature里个数\n",
        "\n",
        "        result = np.empty(line_num, dtype=np.int)  # line_num个样本的最近的cluster index\n",
        "        distance = np.empty((line_num, CLUSTER_NUMS), dtype=np.float32)  \n",
        "\n",
        "        # 从line_num个数据样本中不重复地随机选择k个样本作为质心,cores\n",
        "        cores = input_x[np.random.choice(np.arange(line_num), CLUSTER_NUMS, replace=False)]\n",
        "        min_distance = np.empty((line_num, 1), dtype=np.float32) #距离最近的cluster的质心的距离\n",
        "        second_min_distance = np.empty((line_num, 1), dtype=np.float32) #距离第二近的cluster的质心的距离\n",
        "\n",
        "        iter = 0 #迭代次数\n",
        "        while True:  # 迭代聚类计算,max iteration是10000次，质心都不变时停止\n",
        "            iter = iter + 1\n",
        "            d = np.square(np.repeat(input_x, CLUSTER_NUMS, axis=0).reshape(line_num, CLUSTER_NUMS, column_num) - cores)\n",
        "            distance = np.sqrt(np.sum(d, axis=2))  # ndarray(line_num, k)，每个样本距离 k（CLUSTER_NUM）个质心的距离，共有line_num行\n",
        "\n",
        "            index_min = np.argmin(distance, axis=1)  # 每个样本距离最近的质心索引序号 [line_num, 1]\n",
        "            if (index_min == result).all() or iter == CLUSTER_MAX_ITER:  #质心不变时停止\n",
        "                break;\n",
        "\n",
        "            result[:] = index_min  # 重新分类 [line_num, 1] 这些图片分别属于哪个cluster, index\n",
        "            for i in range(CLUSTER_NUMS):  # 遍历质心集\n",
        "                if len(input_x[result == i]) != 0:\n",
        "                    items = input_x[result == i]       # 找出对应当前质心的子样本集\n",
        "                    cores[i] = np.mean(items, axis=0)  # 以子样本集的均值作为当前质心的位置\n",
        "        \n",
        "        index_sorted = np.argsort(distance)\n",
        "        index_second_min  = index_sorted[:,1] #line_num个样本的第二近的cluster indexs\n",
        "\n",
        "        sorted_distance = np.sort(distance) # 将矩阵的每一行升序排列\n",
        "        min_distance = np.abs(sorted_distance[:, 0].reshape(line_num, 1)) #每个样本距离自己属于的cluster质心的距离\n",
        "        second_min_distance = np.abs(sorted_distance[:, 1].reshape(line_num, 1)) \n",
        "\n",
        "        average_distance = np.empty(CLUSTER_NUMS, dtype=np.float32) #每个cluster里所有样本距离core的平均距离\n",
        "        standard_dev = np.empty(CLUSTER_NUMS, dtype=np.float32) #每个cluster里所有样本距离core的 标准差\n",
        "        normalized_second_min_dist = np.empty((line_num, 1), dtype=np.float32)\n",
        "        #\n",
        "        # Normalized distance\n",
        "        normalized_min_dist_torch, average_distance, standard_dev = normalize_distance(input_x, cores, result, min_distance)\n",
        "        \n",
        "        for i in range(CLUSTER_NUMS):  # 遍历质心集\n",
        "            normalized_second_min_dist[index_second_min == i] = (second_min_distance[index_second_min == i] - average_distance[i])/standard_dev[i]\n",
        "                \n",
        "        normalized_second_min_dist_torch = torch.from_numpy(normalized_second_min_dist)\n",
        "        normalized_dist_differ_torch = normalized_second_min_dist_torch - normalized_min_dist_torch\n",
        "        \n",
        "        uncertainty = 10.00/normalized_dist_differ_torch\n",
        "\n",
        "    print(\">> Clustering Over:\")\n",
        "    return uncertainty.cpu()\n"
      ],
      "id": "bcc4b5fe",
      "execution_count": 142,
      "outputs": []
    },
    {
      "cell_type": "markdown",
      "metadata": {
        "id": "411a4edc"
      },
      "source": [
        "# main.py 里面的main函数"
      ],
      "id": "411a4edc"
    },
    {
      "cell_type": "code",
      "metadata": {
        "colab": {
          "base_uri": "https://localhost:8080/"
        },
        "id": "e7c84637",
        "outputId": "a55bd634-257f-45bf-8024-17fa2b6c6d2c"
      },
      "source": [
        "\n",
        "##\n",
        "# Main\n",
        "if __name__ == '__main__':\n",
        "\n",
        "    for trial in range(TRIALS):\n",
        "        # Initialize a labeled dataset by randomly sampling K=ADDENDUM=1,000 data points from the entire dataset.\n",
        "        indices = list(range(NUM_TRAIN))\n",
        "        random.shuffle(indices)\n",
        "        START = 2 * ADDENDUM\n",
        "        labeled_set = indices[:START]\n",
        "        unlabeled_set = indices[START:]\n",
        "\n",
        "        train_loader = DataLoader(cifar10_train, batch_size=BATCH,  # BATCH\n",
        "                                  sampler=SubsetRandomSampler(labeled_set),\n",
        "                                  pin_memory=True)\n",
        "        test_loader = DataLoader(cifar10_test, batch_size=BATCH)\n",
        "\n",
        "        dataloaders = {'train': train_loader, 'test': test_loader}\n",
        "\n",
        "        # Model\n",
        "        #backbone_net = resnet.ResNet18().cuda() #记住这才是原本pycharm里面的\n",
        "        backbone_net = ResNet18().to(device)\n",
        "        \n",
        "        models = {'backbone': backbone_net}\n",
        "        torch.backends.cudnn.benchmark = True\n",
        "\n",
        "        # Active learning cycles\n",
        "        for cycle in range(CYCLES):\n",
        "            # Loss, criterion and scheduler (re)initializa tion\n",
        "            criterion = nn.CrossEntropyLoss(reduction='none')\n",
        "\n",
        "            optim_backbone = optim.SGD(models['backbone'].parameters(), lr=LR, momentum=MOMENTUM, weight_decay=WDECAY)\n",
        "\n",
        "            sched_backbone = lr_scheduler.MultiStepLR(optim_backbone, milestones=MILESTONES)\n",
        "\n",
        "            optimizers = {'backbone': optim_backbone}\n",
        "            schedulers = {'backbone': sched_backbone}\n",
        "\n",
        "            # Training and test\n",
        "            train(models, criterion, optimizers, schedulers, dataloaders, EPOCH, EPOCHL, cycle)\n",
        "            acc = test(models, dataloaders, mode='test')\n",
        "            print('Trial {}/{} || Cycle {}/{} || Label set size {}: Test acc {}'.format(trial + 1, TRIALS, cycle + 1,\n",
        "                                                                                        CYCLES, len(labeled_set), acc),\n",
        "                                                                                         flush=True)\n",
        "\n",
        "            ##\n",
        "            #  Update the labeled dataset via loss prediction-based uncertainty measurement\n",
        "\n",
        "            # Randomly sample 10000 unlabeled data points\n",
        "            random.shuffle(unlabeled_set)\n",
        "            subset = unlabeled_set[:SUBSET]\n",
        "\n",
        "            # Create unlabeled dataloader for the unlabeled subset\n",
        "            unlabeled_loader = DataLoader(cifar10_unlabeled, batch_size=BATCH,\n",
        "                                          sampler=SubsetSequentialSampler(subset),\n",
        "                                          # more convenient if we maintain the order of subset\n",
        "                                          pin_memory=True)\n",
        "\n",
        "            # Measure uncertainty of each data points in the subset\n",
        "            uncertainty = get_uncertainty(models, unlabeled_loader)\n",
        "            #print(\"main uncertainty: \", uncertainty)\n",
        "            uncertainty = uncertainty.T\n",
        "            # Index in ascending order\n",
        "            arg = np.argsort(uncertainty).numpy().tolist()\n",
        "            #print(\"main arg: \", arg) \n",
        "            \n",
        "            # Update the labeled dataset and the unlabeled dataset, respectively\n",
        "            labeled_set += list(torch.tensor(subset)[arg][-ADDENDUM:].numpy())  # select largest loss\n",
        "            unlabeled_set = list(torch.tensor(subset)[arg][:-ADDENDUM].numpy()) + unlabeled_set[SUBSET:]\n",
        "\n",
        "            # labeled_set += list(torch.tensor(subset)[arg][:ADDENDUM].numpy())  # select smallest influence\n",
        "            # unlabeled_set = list(torch.tensor(subset)[arg][ADDENDUM:].numpy()) + unlabeled_set[SUBSET:]\n",
        "\n",
        "            # Create a new dataloader for the updated labeled dataset\n",
        "            dataloaders['train'] = DataLoader(cifar10_train, batch_size=BATCH,  # BATCH\n",
        "                                              sampler=SubsetRandomSampler(labeled_set),\n",
        "                                              pin_memory=True)\n",
        "\n",
        "        # Save a checkpoint\n",
        "        torch.save({\n",
        "            'trial': trial + 1,\n",
        "            'state_dict_backbone': models['backbone'].state_dict()\n",
        "            # 'state_dict_module': models['module'].state_dict()\n",
        "        },\n",
        "            './cifar10/train/weights/active_resnet18_cifar10_trial{}.pth'.format(trial))\n",
        "\n",
        "        print('---------------------------Current Trial is done-----------------------------',flush=True)\n"
      ],
      "id": "e7c84637",
      "execution_count": 143,
      "outputs": [
        {
          "output_type": "stream",
          "text": [
            ">> Train a Model...\n",
            "Cycle: 1 Epoch: 1 --- Val Acc: 17.370 \t Best Acc: 17.370\n",
            "Cycle: 1 Epoch: 21 --- Val Acc: 46.780 \t Best Acc: 46.780\n",
            "Cycle: 1 Epoch: 41 --- Val Acc: 60.910 \t Best Acc: 60.910\n",
            "Cycle: 1 Epoch: 61 --- Val Acc: 68.090 \t Best Acc: 68.090\n",
            "Cycle: 1 Epoch: 81 --- Val Acc: 65.240 \t Best Acc: 68.090\n",
            "Cycle: 1 Epoch: 101 --- Val Acc: 70.770 \t Best Acc: 70.770\n",
            "Cycle: 1 Epoch: 121 --- Val Acc: 70.640 \t Best Acc: 70.770\n",
            "Cycle: 1 Epoch: 141 --- Val Acc: 68.550 \t Best Acc: 70.770\n",
            "Cycle: 1 Epoch: 161 --- Val Acc: 78.200 \t Best Acc: 78.200\n",
            "Cycle: 1 Epoch: 181 --- Val Acc: 78.520 \t Best Acc: 78.520\n",
            "Cycle: 1 Epoch: 200 --- Val Acc: 78.910 \t Best Acc: 78.910\n",
            ">> Finished.\n",
            "Trial 1/1 || Cycle 1/7 || Label set size 5000: Test acc 78.91\n",
            ">> Start clustering:\n",
            "standard_dev [0.7856425  0.67395145 0.72444046 0.7393518  0.68609494 0.68691105\n",
            " 0.71155804 0.7247792  0.7413927  0.75690526]\n",
            ">> Clustering Over:\n",
            ">> Train a Model...\n",
            "Cycle: 2 Epoch: 1 --- Val Acc: 75.940 \t Best Acc: 75.940\n",
            "Cycle: 2 Epoch: 21 --- Val Acc: 71.610 \t Best Acc: 75.940\n",
            "Cycle: 2 Epoch: 41 --- Val Acc: 75.700 \t Best Acc: 75.940\n",
            "Cycle: 2 Epoch: 61 --- Val Acc: 77.290 \t Best Acc: 77.290\n",
            "Cycle: 2 Epoch: 81 --- Val Acc: 75.300 \t Best Acc: 77.290\n",
            "Cycle: 2 Epoch: 101 --- Val Acc: 76.800 \t Best Acc: 77.290\n",
            "Cycle: 2 Epoch: 121 --- Val Acc: 78.210 \t Best Acc: 78.210\n",
            "Cycle: 2 Epoch: 141 --- Val Acc: 77.600 \t Best Acc: 78.210\n",
            "Cycle: 2 Epoch: 161 --- Val Acc: 84.920 \t Best Acc: 84.920\n",
            "Cycle: 2 Epoch: 181 --- Val Acc: 86.530 \t Best Acc: 86.530\n",
            "Cycle: 2 Epoch: 200 --- Val Acc: 86.740 \t Best Acc: 86.740\n",
            ">> Finished.\n",
            "Trial 1/1 || Cycle 2/7 || Label set size 7500: Test acc 86.74\n",
            ">> Start clustering:\n",
            "standard_dev [0.7958008  0.69670874 0.71100634 0.7859805  0.74582356 0.71699303\n",
            " 0.7807476  0.7453349  0.69821644 0.7766003 ]\n",
            ">> Clustering Over:\n",
            ">> Train a Model...\n",
            "Cycle: 3 Epoch: 1 --- Val Acc: 75.040 \t Best Acc: 75.040\n",
            "Cycle: 3 Epoch: 21 --- Val Acc: 78.560 \t Best Acc: 78.560\n",
            "Cycle: 3 Epoch: 41 --- Val Acc: 80.450 \t Best Acc: 80.450\n",
            "Cycle: 3 Epoch: 61 --- Val Acc: 81.700 \t Best Acc: 81.700\n",
            "Cycle: 3 Epoch: 81 --- Val Acc: 81.860 \t Best Acc: 81.860\n",
            "Cycle: 3 Epoch: 101 --- Val Acc: 81.850 \t Best Acc: 81.860\n",
            "Cycle: 3 Epoch: 121 --- Val Acc: 80.830 \t Best Acc: 81.860\n",
            "Cycle: 3 Epoch: 141 --- Val Acc: 77.220 \t Best Acc: 81.860\n",
            "Cycle: 3 Epoch: 161 --- Val Acc: 87.990 \t Best Acc: 87.990\n",
            "Cycle: 3 Epoch: 181 --- Val Acc: 89.300 \t Best Acc: 89.300\n",
            "Cycle: 3 Epoch: 200 --- Val Acc: 89.450 \t Best Acc: 89.450\n",
            ">> Finished.\n",
            "Trial 1/1 || Cycle 3/7 || Label set size 10000: Test acc 89.45\n",
            ">> Start clustering:\n",
            "standard_dev [0.76045895 0.75873154 0.7963029  0.74555504 0.74373466 0.70978904\n",
            " 0.72197837 0.72544795 0.7402999  0.7308802 ]\n",
            ">> Clustering Over:\n",
            ">> Train a Model...\n",
            "Cycle: 4 Epoch: 1 --- Val Acc: 79.470 \t Best Acc: 79.470\n",
            "Cycle: 4 Epoch: 21 --- Val Acc: 83.350 \t Best Acc: 83.350\n",
            "Cycle: 4 Epoch: 41 --- Val Acc: 82.190 \t Best Acc: 83.350\n",
            "Cycle: 4 Epoch: 61 --- Val Acc: 78.960 \t Best Acc: 83.350\n",
            "Cycle: 4 Epoch: 81 --- Val Acc: 79.420 \t Best Acc: 83.350\n",
            "Cycle: 4 Epoch: 101 --- Val Acc: 83.840 \t Best Acc: 83.840\n",
            "Cycle: 4 Epoch: 121 --- Val Acc: 80.910 \t Best Acc: 83.840\n",
            "Cycle: 4 Epoch: 141 --- Val Acc: 83.870 \t Best Acc: 83.870\n",
            "Cycle: 4 Epoch: 161 --- Val Acc: 90.200 \t Best Acc: 90.200\n",
            "Cycle: 4 Epoch: 181 --- Val Acc: 91.150 \t Best Acc: 91.150\n",
            "Cycle: 4 Epoch: 200 --- Val Acc: 91.330 \t Best Acc: 91.330\n",
            ">> Finished.\n",
            "Trial 1/1 || Cycle 4/7 || Label set size 12500: Test acc 91.33\n",
            ">> Start clustering:\n",
            "standard_dev [0.70946854 0.705463   0.6890126  0.7120206  0.68345416 0.6787766\n",
            " 0.6735136  0.76014173 0.73037386 0.6863915 ]\n",
            ">> Clustering Over:\n",
            ">> Train a Model...\n",
            "Cycle: 5 Epoch: 1 --- Val Acc: 74.050 \t Best Acc: 74.050\n",
            "Cycle: 5 Epoch: 21 --- Val Acc: 82.490 \t Best Acc: 82.490\n",
            "Cycle: 5 Epoch: 41 --- Val Acc: 82.220 \t Best Acc: 82.490\n",
            "Cycle: 5 Epoch: 61 --- Val Acc: 85.990 \t Best Acc: 85.990\n",
            "Cycle: 5 Epoch: 81 --- Val Acc: 83.100 \t Best Acc: 85.990\n",
            "Cycle: 5 Epoch: 101 --- Val Acc: 81.010 \t Best Acc: 85.990\n",
            "Cycle: 5 Epoch: 121 --- Val Acc: 82.500 \t Best Acc: 85.990\n",
            "Cycle: 5 Epoch: 141 --- Val Acc: 84.320 \t Best Acc: 85.990\n",
            "Cycle: 5 Epoch: 161 --- Val Acc: 91.550 \t Best Acc: 91.550\n",
            "Cycle: 5 Epoch: 181 --- Val Acc: 92.530 \t Best Acc: 92.530\n",
            "Cycle: 5 Epoch: 200 --- Val Acc: 92.760 \t Best Acc: 92.760\n",
            ">> Finished.\n",
            "Trial 1/1 || Cycle 5/7 || Label set size 15000: Test acc 92.76\n",
            ">> Start clustering:\n",
            "standard_dev [0.66793054 0.8499471  0.61015147 0.71157795 0.5685246  0.64464927\n",
            " 0.5994728  0.6471741  0.6017037  0.5155515 ]\n",
            ">> Clustering Over:\n",
            ">> Train a Model...\n",
            "Cycle: 6 Epoch: 1 --- Val Acc: 76.670 \t Best Acc: 76.670\n",
            "Cycle: 6 Epoch: 21 --- Val Acc: 83.130 \t Best Acc: 83.130\n",
            "Cycle: 6 Epoch: 41 --- Val Acc: 86.510 \t Best Acc: 86.510\n",
            "Cycle: 6 Epoch: 61 --- Val Acc: 82.950 \t Best Acc: 86.510\n",
            "Cycle: 6 Epoch: 81 --- Val Acc: 84.580 \t Best Acc: 86.510\n",
            "Cycle: 6 Epoch: 101 --- Val Acc: 83.300 \t Best Acc: 86.510\n",
            "Cycle: 6 Epoch: 121 --- Val Acc: 84.490 \t Best Acc: 86.510\n",
            "Cycle: 6 Epoch: 141 --- Val Acc: 85.620 \t Best Acc: 86.510\n",
            "Cycle: 6 Epoch: 161 --- Val Acc: 91.990 \t Best Acc: 91.990\n",
            "Cycle: 6 Epoch: 181 --- Val Acc: 93.200 \t Best Acc: 93.200\n",
            "Cycle: 6 Epoch: 200 --- Val Acc: 93.290 \t Best Acc: 93.290\n",
            ">> Finished.\n",
            "Trial 1/1 || Cycle 6/7 || Label set size 17500: Test acc 93.29\n",
            ">> Start clustering:\n",
            "standard_dev [0.572346   0.6696511  0.5888802  0.68895507 0.6439898  0.6936894\n",
            " 0.7144324  0.7061657  0.38592717 0.658266  ]\n",
            ">> Clustering Over:\n",
            ">> Train a Model...\n",
            "Cycle: 7 Epoch: 1 --- Val Acc: 77.090 \t Best Acc: 77.090\n",
            "Cycle: 7 Epoch: 21 --- Val Acc: 83.650 \t Best Acc: 83.650\n",
            "Cycle: 7 Epoch: 41 --- Val Acc: 86.870 \t Best Acc: 86.870\n",
            "Cycle: 7 Epoch: 61 --- Val Acc: 86.530 \t Best Acc: 86.870\n",
            "Cycle: 7 Epoch: 81 --- Val Acc: 83.000 \t Best Acc: 86.870\n",
            "Cycle: 7 Epoch: 101 --- Val Acc: 84.480 \t Best Acc: 86.870\n",
            "Cycle: 7 Epoch: 121 --- Val Acc: 85.900 \t Best Acc: 86.870\n",
            "Cycle: 7 Epoch: 141 --- Val Acc: 85.520 \t Best Acc: 86.870\n",
            "Cycle: 7 Epoch: 161 --- Val Acc: 92.450 \t Best Acc: 92.450\n",
            "Cycle: 7 Epoch: 181 --- Val Acc: 93.570 \t Best Acc: 93.570\n",
            "Cycle: 7 Epoch: 200 --- Val Acc: 93.750 \t Best Acc: 93.750\n",
            ">> Finished.\n",
            "Trial 1/1 || Cycle 7/7 || Label set size 20000: Test acc 93.75\n",
            ">> Start clustering:\n",
            "standard_dev [0.5953364  0.62520194 0.6752528  0.69761    0.63466346 0.58519286\n",
            " 0.3598714  0.61584586 0.5561117  0.6834897 ]\n",
            ">> Clustering Over:\n",
            "---------------------------Current Trial is done-----------------------------\n"
          ],
          "name": "stdout"
        }
      ]
    },
    {
      "cell_type": "code",
      "metadata": {
        "id": "smJ_q_ARtPr2"
      },
      "source": [
        ""
      ],
      "id": "smJ_q_ARtPr2",
      "execution_count": 143,
      "outputs": []
    }
  ]
}